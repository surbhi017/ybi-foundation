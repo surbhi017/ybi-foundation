{
  "nbformat": 4,
  "nbformat_minor": 0,
  "metadata": {
    "colab": {
      "provenance": []
    },
    "kernelspec": {
      "name": "python3",
      "display_name": "Python 3"
    },
    "language_info": {
      "name": "python"
    }
  },
  "cells": [
    {
      "cell_type": "markdown",
      "source": [
        "**MOVIE RECOMMENDATION SYSTEM**"
      ],
      "metadata": {
        "id": "anTDXDQ96MsI"
      }
    },
    {
      "cell_type": "markdown",
      "source": [
        "Recommender System is a system that seeks to predict or filter preferences according to the user's choices. Recommender systems are utilized in a variety of areas including movies, music, news, books, research articles, search queries, social tags, and products in general.\n",
        "Recommender systems produce a list of recommendations in any of the two ways-\n",
        "\n",
        "Collaborative filtering: Collaborative filtering approaches build a model from the user's past behavior as well as similar decisions made by other users. This model is then used to predict items (or ratings for items) that users may have an interest in.\n",
        "\n",
        "Content-based filtering: Content-based filtering recommends items by comparing the content of items with a user's preferences.It relies on the attributes of items and the user profile, which contains preferences and past interactions. The system recommends items that are similar to those the user has liked in the past.\n",
        "\n",
        "\n",
        "The objective of this project is to develop a movie recommendation system using Python that provides personalized movie recommendations to users based on their preferences and viewing history. By leveraging machine learning algorithms and collaborative filtering techniques, the system aims to:\n",
        "\n",
        "Enhance User Experience: Deliver tailored movie suggestions to users, increasing their satisfaction and engagement with the platform.\n",
        "\n",
        "Improve Discovery: Assist users in discovering new movies that match their tastes, which they might not have found otherwise.\n",
        "\n",
        "Analyze Preferences: Utilize data analysis to understand user behavior and preferences, allowing for continuous improvement of recommendation accuracy.\n",
        "\n",
        "Scalability: Ensure the system can handle a large and diverse dataset of movies and users, making it suitable for real-world applications.\n",
        "\n",
        "Let's develop a basic recommendation system by suggesting items that are most similar to a particular item, in this case, movies. It just tells what movies/items are most similar to the user's movie choice."
      ],
      "metadata": {
        "id": "OaC4xNy8jMOl"
      }
    },
    {
      "cell_type": "markdown",
      "source": [
        "**Import Library**"
      ],
      "metadata": {
        "id": "yN5pCM6r6hFa"
      }
    },
    {
      "cell_type": "code",
      "source": [
        "import pandas as pd\n",
        "import numpy as np"
      ],
      "metadata": {
        "id": "baG3nXFG6WnA"
      },
      "execution_count": 1,
      "outputs": []
    },
    {
      "cell_type": "markdown",
      "source": [
        "**Import dataset**"
      ],
      "metadata": {
        "id": "H5YyIUdQ6pI7"
      }
    },
    {
      "cell_type": "code",
      "source": [
        "df = pd.read_csv('https://github.com/YBI-Foundation/Dataset/raw/a6bcba4b6f9b87d8f924df1dacad300785571cfe/Movies%20Recommendation.csv')"
      ],
      "metadata": {
        "id": "HlRt1fZ_six1"
      },
      "execution_count": 2,
      "outputs": []
    },
    {
      "cell_type": "code",
      "source": [
        "df.head()"
      ],
      "metadata": {
        "colab": {
          "base_uri": "https://localhost:8080/",
          "height": 672
        },
        "id": "ajBcUEmOu6WN",
        "outputId": "2a722ec6-6fb6-4722-fded-b1611c2f0e75"
      },
      "execution_count": 3,
      "outputs": [
        {
          "output_type": "execute_result",
          "data": {
            "text/plain": [
              "   Movie_ID      Movie_Title                       Movie_Genre Movie_Language  \\\n",
              "0         1       Four Rooms                      Crime Comedy             en   \n",
              "1         2        Star Wars  Adventure Action Science Fiction             en   \n",
              "2         3     Finding Nemo                  Animation Family             en   \n",
              "3         4     Forrest Gump              Comedy Drama Romance             en   \n",
              "4         5  American Beauty                             Drama             en   \n",
              "\n",
              "   Movie_Budget  Movie_Popularity Movie_Release_Date  Movie_Revenue  \\\n",
              "0       4000000         22.876230         09-12-1995        4300000   \n",
              "1      11000000        126.393695         25-05-1977      775398007   \n",
              "2      94000000         85.688789         30-05-2003      940335536   \n",
              "3      55000000        138.133331         06-07-1994      677945399   \n",
              "4      15000000         80.878605         15-09-1999      356296601   \n",
              "\n",
              "   Movie_Runtime  Movie_Vote  ...  \\\n",
              "0           98.0         6.5  ...   \n",
              "1          121.0         8.1  ...   \n",
              "2          100.0         7.6  ...   \n",
              "3          142.0         8.2  ...   \n",
              "4          122.0         7.9  ...   \n",
              "\n",
              "                                      Movie_Homepage  \\\n",
              "0                                                NaN   \n",
              "1  http://www.starwars.com/films/star-wars-episod...   \n",
              "2              http://movies.disney.com/finding-nemo   \n",
              "3                                                NaN   \n",
              "4                      http://www.dreamworks.com/ab/   \n",
              "\n",
              "                                      Movie_Keywords  \\\n",
              "0          hotel new year's eve witch bet hotel room   \n",
              "1        android galaxy hermit death star lightsaber   \n",
              "2  father son relationship harbor underwater fish...   \n",
              "3  vietnam veteran hippie mentally disabled runni...   \n",
              "4  male nudity female nudity adultery midlife cri...   \n",
              "\n",
              "                                      Movie_Overview  \\\n",
              "0  It's Ted the Bellhop's first night on the job....   \n",
              "1  Princess Leia is captured and held hostage by ...   \n",
              "2  Nemo, an adventurous young clownfish, is unexp...   \n",
              "3  A man with a low IQ has accomplished great thi...   \n",
              "4  Lester Burnham, a depressed suburban father in...   \n",
              "\n",
              "                              Movie_Production_House  \\\n",
              "0  [{\"name\": \"Miramax Films\", \"id\": 14}, {\"name\":...   \n",
              "1  [{\"name\": \"Lucasfilm\", \"id\": 1}, {\"name\": \"Twe...   \n",
              "2     [{\"name\": \"Pixar Animation Studios\", \"id\": 3}]   \n",
              "3          [{\"name\": \"Paramount Pictures\", \"id\": 4}]   \n",
              "4  [{\"name\": \"DreamWorks SKG\", \"id\": 27}, {\"name\"...   \n",
              "\n",
              "                            Movie_Production_Country  \\\n",
              "0  [{\"iso_3166_1\": \"US\", \"name\": \"United States o...   \n",
              "1  [{\"iso_3166_1\": \"US\", \"name\": \"United States o...   \n",
              "2  [{\"iso_3166_1\": \"US\", \"name\": \"United States o...   \n",
              "3  [{\"iso_3166_1\": \"US\", \"name\": \"United States o...   \n",
              "4  [{\"iso_3166_1\": \"US\", \"name\": \"United States o...   \n",
              "\n",
              "                      Movie_Spoken_Language  \\\n",
              "0  [{\"iso_639_1\": \"en\", \"name\": \"English\"}]   \n",
              "1  [{\"iso_639_1\": \"en\", \"name\": \"English\"}]   \n",
              "2  [{\"iso_639_1\": \"en\", \"name\": \"English\"}]   \n",
              "3  [{\"iso_639_1\": \"en\", \"name\": \"English\"}]   \n",
              "4  [{\"iso_639_1\": \"en\", \"name\": \"English\"}]   \n",
              "\n",
              "                                       Movie_Tagline  \\\n",
              "0  Twelve outrageous guests. Four scandalous requ...   \n",
              "1       A long time ago in a galaxy far, far away...   \n",
              "2  There are 3.7 trillion fish in the ocean, they...   \n",
              "3  The world will never be the same, once you've ...   \n",
              "4                                       Look closer.   \n",
              "\n",
              "                                          Movie_Cast  \\\n",
              "0  Tim Roth Antonio Banderas Jennifer Beals Madon...   \n",
              "1  Mark Hamill Harrison Ford Carrie Fisher Peter ...   \n",
              "2  Albert Brooks Ellen DeGeneres Alexander Gould ...   \n",
              "3  Tom Hanks Robin Wright Gary Sinise Mykelti Wil...   \n",
              "4  Kevin Spacey Annette Bening Thora Birch Wes Be...   \n",
              "\n",
              "                                          Movie_Crew   Movie_Director  \n",
              "0  [{'name': 'Allison Anders', 'gender': 1, 'depa...   Allison Anders  \n",
              "1  [{'name': 'George Lucas', 'gender': 2, 'depart...     George Lucas  \n",
              "2  [{'name': 'Andrew Stanton', 'gender': 2, 'depa...   Andrew Stanton  \n",
              "3  [{'name': 'Alan Silvestri', 'gender': 2, 'depa...  Robert Zemeckis  \n",
              "4  [{'name': 'Thomas Newman', 'gender': 2, 'depar...       Sam Mendes  \n",
              "\n",
              "[5 rows x 21 columns]"
            ],
            "text/html": [
              "\n",
              "  <div id=\"df-7be64bf3-c311-4ebc-aa97-144b9a06674a\" class=\"colab-df-container\">\n",
              "    <div>\n",
              "<style scoped>\n",
              "    .dataframe tbody tr th:only-of-type {\n",
              "        vertical-align: middle;\n",
              "    }\n",
              "\n",
              "    .dataframe tbody tr th {\n",
              "        vertical-align: top;\n",
              "    }\n",
              "\n",
              "    .dataframe thead th {\n",
              "        text-align: right;\n",
              "    }\n",
              "</style>\n",
              "<table border=\"1\" class=\"dataframe\">\n",
              "  <thead>\n",
              "    <tr style=\"text-align: right;\">\n",
              "      <th></th>\n",
              "      <th>Movie_ID</th>\n",
              "      <th>Movie_Title</th>\n",
              "      <th>Movie_Genre</th>\n",
              "      <th>Movie_Language</th>\n",
              "      <th>Movie_Budget</th>\n",
              "      <th>Movie_Popularity</th>\n",
              "      <th>Movie_Release_Date</th>\n",
              "      <th>Movie_Revenue</th>\n",
              "      <th>Movie_Runtime</th>\n",
              "      <th>Movie_Vote</th>\n",
              "      <th>...</th>\n",
              "      <th>Movie_Homepage</th>\n",
              "      <th>Movie_Keywords</th>\n",
              "      <th>Movie_Overview</th>\n",
              "      <th>Movie_Production_House</th>\n",
              "      <th>Movie_Production_Country</th>\n",
              "      <th>Movie_Spoken_Language</th>\n",
              "      <th>Movie_Tagline</th>\n",
              "      <th>Movie_Cast</th>\n",
              "      <th>Movie_Crew</th>\n",
              "      <th>Movie_Director</th>\n",
              "    </tr>\n",
              "  </thead>\n",
              "  <tbody>\n",
              "    <tr>\n",
              "      <th>0</th>\n",
              "      <td>1</td>\n",
              "      <td>Four Rooms</td>\n",
              "      <td>Crime Comedy</td>\n",
              "      <td>en</td>\n",
              "      <td>4000000</td>\n",
              "      <td>22.876230</td>\n",
              "      <td>09-12-1995</td>\n",
              "      <td>4300000</td>\n",
              "      <td>98.0</td>\n",
              "      <td>6.5</td>\n",
              "      <td>...</td>\n",
              "      <td>NaN</td>\n",
              "      <td>hotel new year's eve witch bet hotel room</td>\n",
              "      <td>It's Ted the Bellhop's first night on the job....</td>\n",
              "      <td>[{\"name\": \"Miramax Films\", \"id\": 14}, {\"name\":...</td>\n",
              "      <td>[{\"iso_3166_1\": \"US\", \"name\": \"United States o...</td>\n",
              "      <td>[{\"iso_639_1\": \"en\", \"name\": \"English\"}]</td>\n",
              "      <td>Twelve outrageous guests. Four scandalous requ...</td>\n",
              "      <td>Tim Roth Antonio Banderas Jennifer Beals Madon...</td>\n",
              "      <td>[{'name': 'Allison Anders', 'gender': 1, 'depa...</td>\n",
              "      <td>Allison Anders</td>\n",
              "    </tr>\n",
              "    <tr>\n",
              "      <th>1</th>\n",
              "      <td>2</td>\n",
              "      <td>Star Wars</td>\n",
              "      <td>Adventure Action Science Fiction</td>\n",
              "      <td>en</td>\n",
              "      <td>11000000</td>\n",
              "      <td>126.393695</td>\n",
              "      <td>25-05-1977</td>\n",
              "      <td>775398007</td>\n",
              "      <td>121.0</td>\n",
              "      <td>8.1</td>\n",
              "      <td>...</td>\n",
              "      <td>http://www.starwars.com/films/star-wars-episod...</td>\n",
              "      <td>android galaxy hermit death star lightsaber</td>\n",
              "      <td>Princess Leia is captured and held hostage by ...</td>\n",
              "      <td>[{\"name\": \"Lucasfilm\", \"id\": 1}, {\"name\": \"Twe...</td>\n",
              "      <td>[{\"iso_3166_1\": \"US\", \"name\": \"United States o...</td>\n",
              "      <td>[{\"iso_639_1\": \"en\", \"name\": \"English\"}]</td>\n",
              "      <td>A long time ago in a galaxy far, far away...</td>\n",
              "      <td>Mark Hamill Harrison Ford Carrie Fisher Peter ...</td>\n",
              "      <td>[{'name': 'George Lucas', 'gender': 2, 'depart...</td>\n",
              "      <td>George Lucas</td>\n",
              "    </tr>\n",
              "    <tr>\n",
              "      <th>2</th>\n",
              "      <td>3</td>\n",
              "      <td>Finding Nemo</td>\n",
              "      <td>Animation Family</td>\n",
              "      <td>en</td>\n",
              "      <td>94000000</td>\n",
              "      <td>85.688789</td>\n",
              "      <td>30-05-2003</td>\n",
              "      <td>940335536</td>\n",
              "      <td>100.0</td>\n",
              "      <td>7.6</td>\n",
              "      <td>...</td>\n",
              "      <td>http://movies.disney.com/finding-nemo</td>\n",
              "      <td>father son relationship harbor underwater fish...</td>\n",
              "      <td>Nemo, an adventurous young clownfish, is unexp...</td>\n",
              "      <td>[{\"name\": \"Pixar Animation Studios\", \"id\": 3}]</td>\n",
              "      <td>[{\"iso_3166_1\": \"US\", \"name\": \"United States o...</td>\n",
              "      <td>[{\"iso_639_1\": \"en\", \"name\": \"English\"}]</td>\n",
              "      <td>There are 3.7 trillion fish in the ocean, they...</td>\n",
              "      <td>Albert Brooks Ellen DeGeneres Alexander Gould ...</td>\n",
              "      <td>[{'name': 'Andrew Stanton', 'gender': 2, 'depa...</td>\n",
              "      <td>Andrew Stanton</td>\n",
              "    </tr>\n",
              "    <tr>\n",
              "      <th>3</th>\n",
              "      <td>4</td>\n",
              "      <td>Forrest Gump</td>\n",
              "      <td>Comedy Drama Romance</td>\n",
              "      <td>en</td>\n",
              "      <td>55000000</td>\n",
              "      <td>138.133331</td>\n",
              "      <td>06-07-1994</td>\n",
              "      <td>677945399</td>\n",
              "      <td>142.0</td>\n",
              "      <td>8.2</td>\n",
              "      <td>...</td>\n",
              "      <td>NaN</td>\n",
              "      <td>vietnam veteran hippie mentally disabled runni...</td>\n",
              "      <td>A man with a low IQ has accomplished great thi...</td>\n",
              "      <td>[{\"name\": \"Paramount Pictures\", \"id\": 4}]</td>\n",
              "      <td>[{\"iso_3166_1\": \"US\", \"name\": \"United States o...</td>\n",
              "      <td>[{\"iso_639_1\": \"en\", \"name\": \"English\"}]</td>\n",
              "      <td>The world will never be the same, once you've ...</td>\n",
              "      <td>Tom Hanks Robin Wright Gary Sinise Mykelti Wil...</td>\n",
              "      <td>[{'name': 'Alan Silvestri', 'gender': 2, 'depa...</td>\n",
              "      <td>Robert Zemeckis</td>\n",
              "    </tr>\n",
              "    <tr>\n",
              "      <th>4</th>\n",
              "      <td>5</td>\n",
              "      <td>American Beauty</td>\n",
              "      <td>Drama</td>\n",
              "      <td>en</td>\n",
              "      <td>15000000</td>\n",
              "      <td>80.878605</td>\n",
              "      <td>15-09-1999</td>\n",
              "      <td>356296601</td>\n",
              "      <td>122.0</td>\n",
              "      <td>7.9</td>\n",
              "      <td>...</td>\n",
              "      <td>http://www.dreamworks.com/ab/</td>\n",
              "      <td>male nudity female nudity adultery midlife cri...</td>\n",
              "      <td>Lester Burnham, a depressed suburban father in...</td>\n",
              "      <td>[{\"name\": \"DreamWorks SKG\", \"id\": 27}, {\"name\"...</td>\n",
              "      <td>[{\"iso_3166_1\": \"US\", \"name\": \"United States o...</td>\n",
              "      <td>[{\"iso_639_1\": \"en\", \"name\": \"English\"}]</td>\n",
              "      <td>Look closer.</td>\n",
              "      <td>Kevin Spacey Annette Bening Thora Birch Wes Be...</td>\n",
              "      <td>[{'name': 'Thomas Newman', 'gender': 2, 'depar...</td>\n",
              "      <td>Sam Mendes</td>\n",
              "    </tr>\n",
              "  </tbody>\n",
              "</table>\n",
              "<p>5 rows × 21 columns</p>\n",
              "</div>\n",
              "    <div class=\"colab-df-buttons\">\n",
              "\n",
              "  <div class=\"colab-df-container\">\n",
              "    <button class=\"colab-df-convert\" onclick=\"convertToInteractive('df-7be64bf3-c311-4ebc-aa97-144b9a06674a')\"\n",
              "            title=\"Convert this dataframe to an interactive table.\"\n",
              "            style=\"display:none;\">\n",
              "\n",
              "  <svg xmlns=\"http://www.w3.org/2000/svg\" height=\"24px\" viewBox=\"0 -960 960 960\">\n",
              "    <path d=\"M120-120v-720h720v720H120Zm60-500h600v-160H180v160Zm220 220h160v-160H400v160Zm0 220h160v-160H400v160ZM180-400h160v-160H180v160Zm440 0h160v-160H620v160ZM180-180h160v-160H180v160Zm440 0h160v-160H620v160Z\"/>\n",
              "  </svg>\n",
              "    </button>\n",
              "\n",
              "  <style>\n",
              "    .colab-df-container {\n",
              "      display:flex;\n",
              "      gap: 12px;\n",
              "    }\n",
              "\n",
              "    .colab-df-convert {\n",
              "      background-color: #E8F0FE;\n",
              "      border: none;\n",
              "      border-radius: 50%;\n",
              "      cursor: pointer;\n",
              "      display: none;\n",
              "      fill: #1967D2;\n",
              "      height: 32px;\n",
              "      padding: 0 0 0 0;\n",
              "      width: 32px;\n",
              "    }\n",
              "\n",
              "    .colab-df-convert:hover {\n",
              "      background-color: #E2EBFA;\n",
              "      box-shadow: 0px 1px 2px rgba(60, 64, 67, 0.3), 0px 1px 3px 1px rgba(60, 64, 67, 0.15);\n",
              "      fill: #174EA6;\n",
              "    }\n",
              "\n",
              "    .colab-df-buttons div {\n",
              "      margin-bottom: 4px;\n",
              "    }\n",
              "\n",
              "    [theme=dark] .colab-df-convert {\n",
              "      background-color: #3B4455;\n",
              "      fill: #D2E3FC;\n",
              "    }\n",
              "\n",
              "    [theme=dark] .colab-df-convert:hover {\n",
              "      background-color: #434B5C;\n",
              "      box-shadow: 0px 1px 3px 1px rgba(0, 0, 0, 0.15);\n",
              "      filter: drop-shadow(0px 1px 2px rgba(0, 0, 0, 0.3));\n",
              "      fill: #FFFFFF;\n",
              "    }\n",
              "  </style>\n",
              "\n",
              "    <script>\n",
              "      const buttonEl =\n",
              "        document.querySelector('#df-7be64bf3-c311-4ebc-aa97-144b9a06674a button.colab-df-convert');\n",
              "      buttonEl.style.display =\n",
              "        google.colab.kernel.accessAllowed ? 'block' : 'none';\n",
              "\n",
              "      async function convertToInteractive(key) {\n",
              "        const element = document.querySelector('#df-7be64bf3-c311-4ebc-aa97-144b9a06674a');\n",
              "        const dataTable =\n",
              "          await google.colab.kernel.invokeFunction('convertToInteractive',\n",
              "                                                    [key], {});\n",
              "        if (!dataTable) return;\n",
              "\n",
              "        const docLinkHtml = 'Like what you see? Visit the ' +\n",
              "          '<a target=\"_blank\" href=https://colab.research.google.com/notebooks/data_table.ipynb>data table notebook</a>'\n",
              "          + ' to learn more about interactive tables.';\n",
              "        element.innerHTML = '';\n",
              "        dataTable['output_type'] = 'display_data';\n",
              "        await google.colab.output.renderOutput(dataTable, element);\n",
              "        const docLink = document.createElement('div');\n",
              "        docLink.innerHTML = docLinkHtml;\n",
              "        element.appendChild(docLink);\n",
              "      }\n",
              "    </script>\n",
              "  </div>\n",
              "\n",
              "\n",
              "<div id=\"df-969cb238-1804-499f-bf3c-e738d187574c\">\n",
              "  <button class=\"colab-df-quickchart\" onclick=\"quickchart('df-969cb238-1804-499f-bf3c-e738d187574c')\"\n",
              "            title=\"Suggest charts\"\n",
              "            style=\"display:none;\">\n",
              "\n",
              "<svg xmlns=\"http://www.w3.org/2000/svg\" height=\"24px\"viewBox=\"0 0 24 24\"\n",
              "     width=\"24px\">\n",
              "    <g>\n",
              "        <path d=\"M19 3H5c-1.1 0-2 .9-2 2v14c0 1.1.9 2 2 2h14c1.1 0 2-.9 2-2V5c0-1.1-.9-2-2-2zM9 17H7v-7h2v7zm4 0h-2V7h2v10zm4 0h-2v-4h2v4z\"/>\n",
              "    </g>\n",
              "</svg>\n",
              "  </button>\n",
              "\n",
              "<style>\n",
              "  .colab-df-quickchart {\n",
              "      --bg-color: #E8F0FE;\n",
              "      --fill-color: #1967D2;\n",
              "      --hover-bg-color: #E2EBFA;\n",
              "      --hover-fill-color: #174EA6;\n",
              "      --disabled-fill-color: #AAA;\n",
              "      --disabled-bg-color: #DDD;\n",
              "  }\n",
              "\n",
              "  [theme=dark] .colab-df-quickchart {\n",
              "      --bg-color: #3B4455;\n",
              "      --fill-color: #D2E3FC;\n",
              "      --hover-bg-color: #434B5C;\n",
              "      --hover-fill-color: #FFFFFF;\n",
              "      --disabled-bg-color: #3B4455;\n",
              "      --disabled-fill-color: #666;\n",
              "  }\n",
              "\n",
              "  .colab-df-quickchart {\n",
              "    background-color: var(--bg-color);\n",
              "    border: none;\n",
              "    border-radius: 50%;\n",
              "    cursor: pointer;\n",
              "    display: none;\n",
              "    fill: var(--fill-color);\n",
              "    height: 32px;\n",
              "    padding: 0;\n",
              "    width: 32px;\n",
              "  }\n",
              "\n",
              "  .colab-df-quickchart:hover {\n",
              "    background-color: var(--hover-bg-color);\n",
              "    box-shadow: 0 1px 2px rgba(60, 64, 67, 0.3), 0 1px 3px 1px rgba(60, 64, 67, 0.15);\n",
              "    fill: var(--button-hover-fill-color);\n",
              "  }\n",
              "\n",
              "  .colab-df-quickchart-complete:disabled,\n",
              "  .colab-df-quickchart-complete:disabled:hover {\n",
              "    background-color: var(--disabled-bg-color);\n",
              "    fill: var(--disabled-fill-color);\n",
              "    box-shadow: none;\n",
              "  }\n",
              "\n",
              "  .colab-df-spinner {\n",
              "    border: 2px solid var(--fill-color);\n",
              "    border-color: transparent;\n",
              "    border-bottom-color: var(--fill-color);\n",
              "    animation:\n",
              "      spin 1s steps(1) infinite;\n",
              "  }\n",
              "\n",
              "  @keyframes spin {\n",
              "    0% {\n",
              "      border-color: transparent;\n",
              "      border-bottom-color: var(--fill-color);\n",
              "      border-left-color: var(--fill-color);\n",
              "    }\n",
              "    20% {\n",
              "      border-color: transparent;\n",
              "      border-left-color: var(--fill-color);\n",
              "      border-top-color: var(--fill-color);\n",
              "    }\n",
              "    30% {\n",
              "      border-color: transparent;\n",
              "      border-left-color: var(--fill-color);\n",
              "      border-top-color: var(--fill-color);\n",
              "      border-right-color: var(--fill-color);\n",
              "    }\n",
              "    40% {\n",
              "      border-color: transparent;\n",
              "      border-right-color: var(--fill-color);\n",
              "      border-top-color: var(--fill-color);\n",
              "    }\n",
              "    60% {\n",
              "      border-color: transparent;\n",
              "      border-right-color: var(--fill-color);\n",
              "    }\n",
              "    80% {\n",
              "      border-color: transparent;\n",
              "      border-right-color: var(--fill-color);\n",
              "      border-bottom-color: var(--fill-color);\n",
              "    }\n",
              "    90% {\n",
              "      border-color: transparent;\n",
              "      border-bottom-color: var(--fill-color);\n",
              "    }\n",
              "  }\n",
              "</style>\n",
              "\n",
              "  <script>\n",
              "    async function quickchart(key) {\n",
              "      const quickchartButtonEl =\n",
              "        document.querySelector('#' + key + ' button');\n",
              "      quickchartButtonEl.disabled = true;  // To prevent multiple clicks.\n",
              "      quickchartButtonEl.classList.add('colab-df-spinner');\n",
              "      try {\n",
              "        const charts = await google.colab.kernel.invokeFunction(\n",
              "            'suggestCharts', [key], {});\n",
              "      } catch (error) {\n",
              "        console.error('Error during call to suggestCharts:', error);\n",
              "      }\n",
              "      quickchartButtonEl.classList.remove('colab-df-spinner');\n",
              "      quickchartButtonEl.classList.add('colab-df-quickchart-complete');\n",
              "    }\n",
              "    (() => {\n",
              "      let quickchartButtonEl =\n",
              "        document.querySelector('#df-969cb238-1804-499f-bf3c-e738d187574c button');\n",
              "      quickchartButtonEl.style.display =\n",
              "        google.colab.kernel.accessAllowed ? 'block' : 'none';\n",
              "    })();\n",
              "  </script>\n",
              "</div>\n",
              "\n",
              "    </div>\n",
              "  </div>\n"
            ],
            "application/vnd.google.colaboratory.intrinsic+json": {
              "type": "dataframe",
              "variable_name": "df"
            }
          },
          "metadata": {},
          "execution_count": 3
        }
      ]
    },
    {
      "cell_type": "code",
      "source": [
        "df.info()"
      ],
      "metadata": {
        "colab": {
          "base_uri": "https://localhost:8080/"
        },
        "id": "wM13rUsZvvKd",
        "outputId": "8ea4f63d-dffe-486c-d383-bea63fcaaff4"
      },
      "execution_count": 4,
      "outputs": [
        {
          "output_type": "stream",
          "name": "stdout",
          "text": [
            "<class 'pandas.core.frame.DataFrame'>\n",
            "RangeIndex: 4760 entries, 0 to 4759\n",
            "Data columns (total 21 columns):\n",
            " #   Column                    Non-Null Count  Dtype  \n",
            "---  ------                    --------------  -----  \n",
            " 0   Movie_ID                  4760 non-null   int64  \n",
            " 1   Movie_Title               4760 non-null   object \n",
            " 2   Movie_Genre               4760 non-null   object \n",
            " 3   Movie_Language            4760 non-null   object \n",
            " 4   Movie_Budget              4760 non-null   int64  \n",
            " 5   Movie_Popularity          4760 non-null   float64\n",
            " 6   Movie_Release_Date        4760 non-null   object \n",
            " 7   Movie_Revenue             4760 non-null   int64  \n",
            " 8   Movie_Runtime             4758 non-null   float64\n",
            " 9   Movie_Vote                4760 non-null   float64\n",
            " 10  Movie_Vote_Count          4760 non-null   int64  \n",
            " 11  Movie_Homepage            1699 non-null   object \n",
            " 12  Movie_Keywords            4373 non-null   object \n",
            " 13  Movie_Overview            4757 non-null   object \n",
            " 14  Movie_Production_House    4760 non-null   object \n",
            " 15  Movie_Production_Country  4760 non-null   object \n",
            " 16  Movie_Spoken_Language     4760 non-null   object \n",
            " 17  Movie_Tagline             3942 non-null   object \n",
            " 18  Movie_Cast                4733 non-null   object \n",
            " 19  Movie_Crew                4760 non-null   object \n",
            " 20  Movie_Director            4738 non-null   object \n",
            "dtypes: float64(3), int64(4), object(14)\n",
            "memory usage: 781.1+ KB\n"
          ]
        }
      ]
    },
    {
      "cell_type": "code",
      "source": [
        "df.describe()"
      ],
      "metadata": {
        "colab": {
          "base_uri": "https://localhost:8080/",
          "height": 300
        },
        "id": "xBCch8N7v647",
        "outputId": "599871db-69de-476f-bd8f-c01abe4e9ac9"
      },
      "execution_count": 5,
      "outputs": [
        {
          "output_type": "execute_result",
          "data": {
            "text/plain": [
              "          Movie_ID  Movie_Budget  Movie_Popularity  Movie_Revenue  \\\n",
              "count  4760.000000  4.760000e+03       4760.000000   4.760000e+03   \n",
              "mean   2382.566387  2.920129e+07         21.599510   8.263743e+07   \n",
              "std    1377.270159  4.075620e+07         31.887919   1.630554e+08   \n",
              "min       1.000000  0.000000e+00          0.000372   0.000000e+00   \n",
              "25%    1190.750000  9.257500e+05          4.807074   0.000000e+00   \n",
              "50%    2380.500000  1.500000e+07         13.119058   1.944716e+07   \n",
              "75%    3572.250000  4.000000e+07         28.411929   9.341276e+07   \n",
              "max    4788.000000  3.800000e+08        875.581305   2.787965e+09   \n",
              "\n",
              "       Movie_Runtime   Movie_Vote  Movie_Vote_Count  \n",
              "count    4758.000000  4760.000000       4760.000000  \n",
              "mean      107.184111     6.113866        692.508403  \n",
              "std        21.960332     1.141294       1235.007337  \n",
              "min         0.000000     0.000000          0.000000  \n",
              "25%        94.000000     5.600000         55.000000  \n",
              "50%       104.000000     6.200000        238.000000  \n",
              "75%       118.000000     6.800000        740.250000  \n",
              "max       338.000000    10.000000      13752.000000  "
            ],
            "text/html": [
              "\n",
              "  <div id=\"df-717a5594-5929-4383-993a-8ea5bf54c355\" class=\"colab-df-container\">\n",
              "    <div>\n",
              "<style scoped>\n",
              "    .dataframe tbody tr th:only-of-type {\n",
              "        vertical-align: middle;\n",
              "    }\n",
              "\n",
              "    .dataframe tbody tr th {\n",
              "        vertical-align: top;\n",
              "    }\n",
              "\n",
              "    .dataframe thead th {\n",
              "        text-align: right;\n",
              "    }\n",
              "</style>\n",
              "<table border=\"1\" class=\"dataframe\">\n",
              "  <thead>\n",
              "    <tr style=\"text-align: right;\">\n",
              "      <th></th>\n",
              "      <th>Movie_ID</th>\n",
              "      <th>Movie_Budget</th>\n",
              "      <th>Movie_Popularity</th>\n",
              "      <th>Movie_Revenue</th>\n",
              "      <th>Movie_Runtime</th>\n",
              "      <th>Movie_Vote</th>\n",
              "      <th>Movie_Vote_Count</th>\n",
              "    </tr>\n",
              "  </thead>\n",
              "  <tbody>\n",
              "    <tr>\n",
              "      <th>count</th>\n",
              "      <td>4760.000000</td>\n",
              "      <td>4.760000e+03</td>\n",
              "      <td>4760.000000</td>\n",
              "      <td>4.760000e+03</td>\n",
              "      <td>4758.000000</td>\n",
              "      <td>4760.000000</td>\n",
              "      <td>4760.000000</td>\n",
              "    </tr>\n",
              "    <tr>\n",
              "      <th>mean</th>\n",
              "      <td>2382.566387</td>\n",
              "      <td>2.920129e+07</td>\n",
              "      <td>21.599510</td>\n",
              "      <td>8.263743e+07</td>\n",
              "      <td>107.184111</td>\n",
              "      <td>6.113866</td>\n",
              "      <td>692.508403</td>\n",
              "    </tr>\n",
              "    <tr>\n",
              "      <th>std</th>\n",
              "      <td>1377.270159</td>\n",
              "      <td>4.075620e+07</td>\n",
              "      <td>31.887919</td>\n",
              "      <td>1.630554e+08</td>\n",
              "      <td>21.960332</td>\n",
              "      <td>1.141294</td>\n",
              "      <td>1235.007337</td>\n",
              "    </tr>\n",
              "    <tr>\n",
              "      <th>min</th>\n",
              "      <td>1.000000</td>\n",
              "      <td>0.000000e+00</td>\n",
              "      <td>0.000372</td>\n",
              "      <td>0.000000e+00</td>\n",
              "      <td>0.000000</td>\n",
              "      <td>0.000000</td>\n",
              "      <td>0.000000</td>\n",
              "    </tr>\n",
              "    <tr>\n",
              "      <th>25%</th>\n",
              "      <td>1190.750000</td>\n",
              "      <td>9.257500e+05</td>\n",
              "      <td>4.807074</td>\n",
              "      <td>0.000000e+00</td>\n",
              "      <td>94.000000</td>\n",
              "      <td>5.600000</td>\n",
              "      <td>55.000000</td>\n",
              "    </tr>\n",
              "    <tr>\n",
              "      <th>50%</th>\n",
              "      <td>2380.500000</td>\n",
              "      <td>1.500000e+07</td>\n",
              "      <td>13.119058</td>\n",
              "      <td>1.944716e+07</td>\n",
              "      <td>104.000000</td>\n",
              "      <td>6.200000</td>\n",
              "      <td>238.000000</td>\n",
              "    </tr>\n",
              "    <tr>\n",
              "      <th>75%</th>\n",
              "      <td>3572.250000</td>\n",
              "      <td>4.000000e+07</td>\n",
              "      <td>28.411929</td>\n",
              "      <td>9.341276e+07</td>\n",
              "      <td>118.000000</td>\n",
              "      <td>6.800000</td>\n",
              "      <td>740.250000</td>\n",
              "    </tr>\n",
              "    <tr>\n",
              "      <th>max</th>\n",
              "      <td>4788.000000</td>\n",
              "      <td>3.800000e+08</td>\n",
              "      <td>875.581305</td>\n",
              "      <td>2.787965e+09</td>\n",
              "      <td>338.000000</td>\n",
              "      <td>10.000000</td>\n",
              "      <td>13752.000000</td>\n",
              "    </tr>\n",
              "  </tbody>\n",
              "</table>\n",
              "</div>\n",
              "    <div class=\"colab-df-buttons\">\n",
              "\n",
              "  <div class=\"colab-df-container\">\n",
              "    <button class=\"colab-df-convert\" onclick=\"convertToInteractive('df-717a5594-5929-4383-993a-8ea5bf54c355')\"\n",
              "            title=\"Convert this dataframe to an interactive table.\"\n",
              "            style=\"display:none;\">\n",
              "\n",
              "  <svg xmlns=\"http://www.w3.org/2000/svg\" height=\"24px\" viewBox=\"0 -960 960 960\">\n",
              "    <path d=\"M120-120v-720h720v720H120Zm60-500h600v-160H180v160Zm220 220h160v-160H400v160Zm0 220h160v-160H400v160ZM180-400h160v-160H180v160Zm440 0h160v-160H620v160ZM180-180h160v-160H180v160Zm440 0h160v-160H620v160Z\"/>\n",
              "  </svg>\n",
              "    </button>\n",
              "\n",
              "  <style>\n",
              "    .colab-df-container {\n",
              "      display:flex;\n",
              "      gap: 12px;\n",
              "    }\n",
              "\n",
              "    .colab-df-convert {\n",
              "      background-color: #E8F0FE;\n",
              "      border: none;\n",
              "      border-radius: 50%;\n",
              "      cursor: pointer;\n",
              "      display: none;\n",
              "      fill: #1967D2;\n",
              "      height: 32px;\n",
              "      padding: 0 0 0 0;\n",
              "      width: 32px;\n",
              "    }\n",
              "\n",
              "    .colab-df-convert:hover {\n",
              "      background-color: #E2EBFA;\n",
              "      box-shadow: 0px 1px 2px rgba(60, 64, 67, 0.3), 0px 1px 3px 1px rgba(60, 64, 67, 0.15);\n",
              "      fill: #174EA6;\n",
              "    }\n",
              "\n",
              "    .colab-df-buttons div {\n",
              "      margin-bottom: 4px;\n",
              "    }\n",
              "\n",
              "    [theme=dark] .colab-df-convert {\n",
              "      background-color: #3B4455;\n",
              "      fill: #D2E3FC;\n",
              "    }\n",
              "\n",
              "    [theme=dark] .colab-df-convert:hover {\n",
              "      background-color: #434B5C;\n",
              "      box-shadow: 0px 1px 3px 1px rgba(0, 0, 0, 0.15);\n",
              "      filter: drop-shadow(0px 1px 2px rgba(0, 0, 0, 0.3));\n",
              "      fill: #FFFFFF;\n",
              "    }\n",
              "  </style>\n",
              "\n",
              "    <script>\n",
              "      const buttonEl =\n",
              "        document.querySelector('#df-717a5594-5929-4383-993a-8ea5bf54c355 button.colab-df-convert');\n",
              "      buttonEl.style.display =\n",
              "        google.colab.kernel.accessAllowed ? 'block' : 'none';\n",
              "\n",
              "      async function convertToInteractive(key) {\n",
              "        const element = document.querySelector('#df-717a5594-5929-4383-993a-8ea5bf54c355');\n",
              "        const dataTable =\n",
              "          await google.colab.kernel.invokeFunction('convertToInteractive',\n",
              "                                                    [key], {});\n",
              "        if (!dataTable) return;\n",
              "\n",
              "        const docLinkHtml = 'Like what you see? Visit the ' +\n",
              "          '<a target=\"_blank\" href=https://colab.research.google.com/notebooks/data_table.ipynb>data table notebook</a>'\n",
              "          + ' to learn more about interactive tables.';\n",
              "        element.innerHTML = '';\n",
              "        dataTable['output_type'] = 'display_data';\n",
              "        await google.colab.output.renderOutput(dataTable, element);\n",
              "        const docLink = document.createElement('div');\n",
              "        docLink.innerHTML = docLinkHtml;\n",
              "        element.appendChild(docLink);\n",
              "      }\n",
              "    </script>\n",
              "  </div>\n",
              "\n",
              "\n",
              "<div id=\"df-7db5f4cf-7be1-478d-9864-d30b49f7c0f0\">\n",
              "  <button class=\"colab-df-quickchart\" onclick=\"quickchart('df-7db5f4cf-7be1-478d-9864-d30b49f7c0f0')\"\n",
              "            title=\"Suggest charts\"\n",
              "            style=\"display:none;\">\n",
              "\n",
              "<svg xmlns=\"http://www.w3.org/2000/svg\" height=\"24px\"viewBox=\"0 0 24 24\"\n",
              "     width=\"24px\">\n",
              "    <g>\n",
              "        <path d=\"M19 3H5c-1.1 0-2 .9-2 2v14c0 1.1.9 2 2 2h14c1.1 0 2-.9 2-2V5c0-1.1-.9-2-2-2zM9 17H7v-7h2v7zm4 0h-2V7h2v10zm4 0h-2v-4h2v4z\"/>\n",
              "    </g>\n",
              "</svg>\n",
              "  </button>\n",
              "\n",
              "<style>\n",
              "  .colab-df-quickchart {\n",
              "      --bg-color: #E8F0FE;\n",
              "      --fill-color: #1967D2;\n",
              "      --hover-bg-color: #E2EBFA;\n",
              "      --hover-fill-color: #174EA6;\n",
              "      --disabled-fill-color: #AAA;\n",
              "      --disabled-bg-color: #DDD;\n",
              "  }\n",
              "\n",
              "  [theme=dark] .colab-df-quickchart {\n",
              "      --bg-color: #3B4455;\n",
              "      --fill-color: #D2E3FC;\n",
              "      --hover-bg-color: #434B5C;\n",
              "      --hover-fill-color: #FFFFFF;\n",
              "      --disabled-bg-color: #3B4455;\n",
              "      --disabled-fill-color: #666;\n",
              "  }\n",
              "\n",
              "  .colab-df-quickchart {\n",
              "    background-color: var(--bg-color);\n",
              "    border: none;\n",
              "    border-radius: 50%;\n",
              "    cursor: pointer;\n",
              "    display: none;\n",
              "    fill: var(--fill-color);\n",
              "    height: 32px;\n",
              "    padding: 0;\n",
              "    width: 32px;\n",
              "  }\n",
              "\n",
              "  .colab-df-quickchart:hover {\n",
              "    background-color: var(--hover-bg-color);\n",
              "    box-shadow: 0 1px 2px rgba(60, 64, 67, 0.3), 0 1px 3px 1px rgba(60, 64, 67, 0.15);\n",
              "    fill: var(--button-hover-fill-color);\n",
              "  }\n",
              "\n",
              "  .colab-df-quickchart-complete:disabled,\n",
              "  .colab-df-quickchart-complete:disabled:hover {\n",
              "    background-color: var(--disabled-bg-color);\n",
              "    fill: var(--disabled-fill-color);\n",
              "    box-shadow: none;\n",
              "  }\n",
              "\n",
              "  .colab-df-spinner {\n",
              "    border: 2px solid var(--fill-color);\n",
              "    border-color: transparent;\n",
              "    border-bottom-color: var(--fill-color);\n",
              "    animation:\n",
              "      spin 1s steps(1) infinite;\n",
              "  }\n",
              "\n",
              "  @keyframes spin {\n",
              "    0% {\n",
              "      border-color: transparent;\n",
              "      border-bottom-color: var(--fill-color);\n",
              "      border-left-color: var(--fill-color);\n",
              "    }\n",
              "    20% {\n",
              "      border-color: transparent;\n",
              "      border-left-color: var(--fill-color);\n",
              "      border-top-color: var(--fill-color);\n",
              "    }\n",
              "    30% {\n",
              "      border-color: transparent;\n",
              "      border-left-color: var(--fill-color);\n",
              "      border-top-color: var(--fill-color);\n",
              "      border-right-color: var(--fill-color);\n",
              "    }\n",
              "    40% {\n",
              "      border-color: transparent;\n",
              "      border-right-color: var(--fill-color);\n",
              "      border-top-color: var(--fill-color);\n",
              "    }\n",
              "    60% {\n",
              "      border-color: transparent;\n",
              "      border-right-color: var(--fill-color);\n",
              "    }\n",
              "    80% {\n",
              "      border-color: transparent;\n",
              "      border-right-color: var(--fill-color);\n",
              "      border-bottom-color: var(--fill-color);\n",
              "    }\n",
              "    90% {\n",
              "      border-color: transparent;\n",
              "      border-bottom-color: var(--fill-color);\n",
              "    }\n",
              "  }\n",
              "</style>\n",
              "\n",
              "  <script>\n",
              "    async function quickchart(key) {\n",
              "      const quickchartButtonEl =\n",
              "        document.querySelector('#' + key + ' button');\n",
              "      quickchartButtonEl.disabled = true;  // To prevent multiple clicks.\n",
              "      quickchartButtonEl.classList.add('colab-df-spinner');\n",
              "      try {\n",
              "        const charts = await google.colab.kernel.invokeFunction(\n",
              "            'suggestCharts', [key], {});\n",
              "      } catch (error) {\n",
              "        console.error('Error during call to suggestCharts:', error);\n",
              "      }\n",
              "      quickchartButtonEl.classList.remove('colab-df-spinner');\n",
              "      quickchartButtonEl.classList.add('colab-df-quickchart-complete');\n",
              "    }\n",
              "    (() => {\n",
              "      let quickchartButtonEl =\n",
              "        document.querySelector('#df-7db5f4cf-7be1-478d-9864-d30b49f7c0f0 button');\n",
              "      quickchartButtonEl.style.display =\n",
              "        google.colab.kernel.accessAllowed ? 'block' : 'none';\n",
              "    })();\n",
              "  </script>\n",
              "</div>\n",
              "\n",
              "    </div>\n",
              "  </div>\n"
            ],
            "application/vnd.google.colaboratory.intrinsic+json": {
              "type": "dataframe",
              "summary": "{\n  \"name\": \"df\",\n  \"rows\": 8,\n  \"fields\": [\n    {\n      \"column\": \"Movie_ID\",\n      \"properties\": {\n        \"dtype\": \"number\",\n        \"std\": 1720.2332807214548,\n        \"min\": 1.0,\n        \"max\": 4788.0,\n        \"num_unique_values\": 8,\n        \"samples\": [\n          2382.5663865546217,\n          2380.5,\n          4760.0\n        ],\n        \"semantic_type\": \"\",\n        \"description\": \"\"\n      }\n    },\n    {\n      \"column\": \"Movie_Budget\",\n      \"properties\": {\n        \"dtype\": \"number\",\n        \"std\": 129145160.11869688,\n        \"min\": 0.0,\n        \"max\": 380000000.0,\n        \"num_unique_values\": 8,\n        \"samples\": [\n          29201287.084033612,\n          15000000.0,\n          4760.0\n        ],\n        \"semantic_type\": \"\",\n        \"description\": \"\"\n      }\n    },\n    {\n      \"column\": \"Movie_Popularity\",\n      \"properties\": {\n        \"dtype\": \"number\",\n        \"std\": 1661.1040447605237,\n        \"min\": 0.000372,\n        \"max\": 4760.0,\n        \"num_unique_values\": 8,\n        \"samples\": [\n          21.599509934663867,\n          13.119057999999999,\n          4760.0\n        ],\n        \"semantic_type\": \"\",\n        \"description\": \"\"\n      }\n    },\n    {\n      \"column\": \"Movie_Revenue\",\n      \"properties\": {\n        \"dtype\": \"number\",\n        \"std\": 969366059.9423022,\n        \"min\": 0.0,\n        \"max\": 2787965087.0,\n        \"num_unique_values\": 7,\n        \"samples\": [\n          4760.0,\n          82637425.44285715,\n          93412759.75\n        ],\n        \"semantic_type\": \"\",\n        \"description\": \"\"\n      }\n    },\n    {\n      \"column\": \"Movie_Runtime\",\n      \"properties\": {\n        \"dtype\": \"number\",\n        \"std\": 1645.7876738678387,\n        \"min\": 0.0,\n        \"max\": 4758.0,\n        \"num_unique_values\": 8,\n        \"samples\": [\n          107.18411097099622,\n          104.0,\n          4758.0\n        ],\n        \"semantic_type\": \"\",\n        \"description\": \"\"\n      }\n    },\n    {\n      \"column\": \"Movie_Vote\",\n      \"properties\": {\n        \"dtype\": \"number\",\n        \"std\": 1681.106199712945,\n        \"min\": 0.0,\n        \"max\": 4760.0,\n        \"num_unique_values\": 8,\n        \"samples\": [\n          6.113865546218487,\n          6.2,\n          4760.0\n        ],\n        \"semantic_type\": \"\",\n        \"description\": \"\"\n      }\n    },\n    {\n      \"column\": \"Movie_Vote_Count\",\n      \"properties\": {\n        \"dtype\": \"number\",\n        \"std\": 4732.148341860835,\n        \"min\": 0.0,\n        \"max\": 13752.0,\n        \"num_unique_values\": 8,\n        \"samples\": [\n          692.5084033613446,\n          238.0,\n          4760.0\n        ],\n        \"semantic_type\": \"\",\n        \"description\": \"\"\n      }\n    }\n  ]\n}"
            }
          },
          "metadata": {},
          "execution_count": 5
        }
      ]
    },
    {
      "cell_type": "code",
      "source": [
        "df.shape"
      ],
      "metadata": {
        "colab": {
          "base_uri": "https://localhost:8080/"
        },
        "id": "j-pmJ6zwyVuF",
        "outputId": "00a058c8-4d11-4482-c104-f923478d35fb"
      },
      "execution_count": 6,
      "outputs": [
        {
          "output_type": "execute_result",
          "data": {
            "text/plain": [
              "(4760, 21)"
            ]
          },
          "metadata": {},
          "execution_count": 6
        }
      ]
    },
    {
      "cell_type": "code",
      "source": [
        "df.columns"
      ],
      "metadata": {
        "colab": {
          "base_uri": "https://localhost:8080/"
        },
        "id": "OCvb9bXhzLTe",
        "outputId": "7c3407a1-fea8-45af-adf4-8604f2e1ba16"
      },
      "execution_count": 7,
      "outputs": [
        {
          "output_type": "execute_result",
          "data": {
            "text/plain": [
              "Index(['Movie_ID', 'Movie_Title', 'Movie_Genre', 'Movie_Language',\n",
              "       'Movie_Budget', 'Movie_Popularity', 'Movie_Release_Date',\n",
              "       'Movie_Revenue', 'Movie_Runtime', 'Movie_Vote', 'Movie_Vote_Count',\n",
              "       'Movie_Homepage', 'Movie_Keywords', 'Movie_Overview',\n",
              "       'Movie_Production_House', 'Movie_Production_Country',\n",
              "       'Movie_Spoken_Language', 'Movie_Tagline', 'Movie_Cast', 'Movie_Crew',\n",
              "       'Movie_Director'],\n",
              "      dtype='object')"
            ]
          },
          "metadata": {},
          "execution_count": 7
        }
      ]
    },
    {
      "cell_type": "markdown",
      "source": [
        "**Get Feature Selection**"
      ],
      "metadata": {
        "id": "ZXVWc4-JzirF"
      }
    },
    {
      "cell_type": "code",
      "source": [
        "df_features = df[['Movie_Genre','Movie_Keywords','Movie_Tagline','Movie_Cast','Movie_Director']].fillna('')"
      ],
      "metadata": {
        "id": "QTyLFe-h1tg2"
      },
      "execution_count": 8,
      "outputs": []
    },
    {
      "cell_type": "markdown",
      "source": [
        "Selected five existing features to recommend movies. It may vary from project to project and developer to developer. Like one can add language, vote, director, etc."
      ],
      "metadata": {
        "id": "kW3cMHWQgc-e"
      }
    },
    {
      "cell_type": "code",
      "source": [
        "df_features.shape"
      ],
      "metadata": {
        "colab": {
          "base_uri": "https://localhost:8080/"
        },
        "id": "VxjowjTE2qaV",
        "outputId": "12b2583d-b130-4dcc-b3e2-d239b9472f4c"
      },
      "execution_count": 9,
      "outputs": [
        {
          "output_type": "execute_result",
          "data": {
            "text/plain": [
              "(4760, 5)"
            ]
          },
          "metadata": {},
          "execution_count": 9
        }
      ]
    },
    {
      "cell_type": "code",
      "source": [
        "df_features"
      ],
      "metadata": {
        "colab": {
          "base_uri": "https://localhost:8080/",
          "height": 579
        },
        "id": "UUH8qnon3JD0",
        "outputId": "05978a8a-4264-4227-8ee8-abfa35af314e"
      },
      "execution_count": 10,
      "outputs": [
        {
          "output_type": "execute_result",
          "data": {
            "text/plain": [
              "                           Movie_Genre  \\\n",
              "0                         Crime Comedy   \n",
              "1     Adventure Action Science Fiction   \n",
              "2                     Animation Family   \n",
              "3                 Comedy Drama Romance   \n",
              "4                                Drama   \n",
              "...                                ...   \n",
              "4755                            Horror   \n",
              "4756               Comedy Family Drama   \n",
              "4757                    Thriller Drama   \n",
              "4758                            Family   \n",
              "4759                       Documentary   \n",
              "\n",
              "                                         Movie_Keywords  \\\n",
              "0             hotel new year's eve witch bet hotel room   \n",
              "1           android galaxy hermit death star lightsaber   \n",
              "2     father son relationship harbor underwater fish...   \n",
              "3     vietnam veteran hippie mentally disabled runni...   \n",
              "4     male nudity female nudity adultery midlife cri...   \n",
              "...                                                 ...   \n",
              "4755                                                      \n",
              "4756                                                      \n",
              "4757                     christian film sex trafficking   \n",
              "4758                                                      \n",
              "4759  music actors legendary perfomer classic hollyw...   \n",
              "\n",
              "                                          Movie_Tagline  \\\n",
              "0     Twelve outrageous guests. Four scandalous requ...   \n",
              "1          A long time ago in a galaxy far, far away...   \n",
              "2     There are 3.7 trillion fish in the ocean, they...   \n",
              "3     The world will never be the same, once you've ...   \n",
              "4                                          Look closer.   \n",
              "...                                                 ...   \n",
              "4755                The hot spot where Satan's waitin'.   \n",
              "4756           It’s better to stand out than to fit in.   \n",
              "4757           She never knew it could happen to her...   \n",
              "4758                                                      \n",
              "4759                                                      \n",
              "\n",
              "                                             Movie_Cast     Movie_Director  \n",
              "0     Tim Roth Antonio Banderas Jennifer Beals Madon...     Allison Anders  \n",
              "1     Mark Hamill Harrison Ford Carrie Fisher Peter ...       George Lucas  \n",
              "2     Albert Brooks Ellen DeGeneres Alexander Gould ...     Andrew Stanton  \n",
              "3     Tom Hanks Robin Wright Gary Sinise Mykelti Wil...    Robert Zemeckis  \n",
              "4     Kevin Spacey Annette Bening Thora Birch Wes Be...         Sam Mendes  \n",
              "...                                                 ...                ...  \n",
              "4755  Lisa Hart Carroll Michael Des Barres Paul Drak...         Pece Dingo  \n",
              "4756  Roni Akurati Brighton Sharbino Jason Lee Anjul...       Frank Lotito  \n",
              "4757  Nicole Smolen Kim Baldwin Ariana Stephens Brys...       Jaco Booyens  \n",
              "4758                                                                        \n",
              "4759                                    Tony Oppedisano  Simon Napier-Bell  \n",
              "\n",
              "[4760 rows x 5 columns]"
            ],
            "text/html": [
              "\n",
              "  <div id=\"df-dc538193-37a7-4baf-b5f0-7fe3f8aa7281\" class=\"colab-df-container\">\n",
              "    <div>\n",
              "<style scoped>\n",
              "    .dataframe tbody tr th:only-of-type {\n",
              "        vertical-align: middle;\n",
              "    }\n",
              "\n",
              "    .dataframe tbody tr th {\n",
              "        vertical-align: top;\n",
              "    }\n",
              "\n",
              "    .dataframe thead th {\n",
              "        text-align: right;\n",
              "    }\n",
              "</style>\n",
              "<table border=\"1\" class=\"dataframe\">\n",
              "  <thead>\n",
              "    <tr style=\"text-align: right;\">\n",
              "      <th></th>\n",
              "      <th>Movie_Genre</th>\n",
              "      <th>Movie_Keywords</th>\n",
              "      <th>Movie_Tagline</th>\n",
              "      <th>Movie_Cast</th>\n",
              "      <th>Movie_Director</th>\n",
              "    </tr>\n",
              "  </thead>\n",
              "  <tbody>\n",
              "    <tr>\n",
              "      <th>0</th>\n",
              "      <td>Crime Comedy</td>\n",
              "      <td>hotel new year's eve witch bet hotel room</td>\n",
              "      <td>Twelve outrageous guests. Four scandalous requ...</td>\n",
              "      <td>Tim Roth Antonio Banderas Jennifer Beals Madon...</td>\n",
              "      <td>Allison Anders</td>\n",
              "    </tr>\n",
              "    <tr>\n",
              "      <th>1</th>\n",
              "      <td>Adventure Action Science Fiction</td>\n",
              "      <td>android galaxy hermit death star lightsaber</td>\n",
              "      <td>A long time ago in a galaxy far, far away...</td>\n",
              "      <td>Mark Hamill Harrison Ford Carrie Fisher Peter ...</td>\n",
              "      <td>George Lucas</td>\n",
              "    </tr>\n",
              "    <tr>\n",
              "      <th>2</th>\n",
              "      <td>Animation Family</td>\n",
              "      <td>father son relationship harbor underwater fish...</td>\n",
              "      <td>There are 3.7 trillion fish in the ocean, they...</td>\n",
              "      <td>Albert Brooks Ellen DeGeneres Alexander Gould ...</td>\n",
              "      <td>Andrew Stanton</td>\n",
              "    </tr>\n",
              "    <tr>\n",
              "      <th>3</th>\n",
              "      <td>Comedy Drama Romance</td>\n",
              "      <td>vietnam veteran hippie mentally disabled runni...</td>\n",
              "      <td>The world will never be the same, once you've ...</td>\n",
              "      <td>Tom Hanks Robin Wright Gary Sinise Mykelti Wil...</td>\n",
              "      <td>Robert Zemeckis</td>\n",
              "    </tr>\n",
              "    <tr>\n",
              "      <th>4</th>\n",
              "      <td>Drama</td>\n",
              "      <td>male nudity female nudity adultery midlife cri...</td>\n",
              "      <td>Look closer.</td>\n",
              "      <td>Kevin Spacey Annette Bening Thora Birch Wes Be...</td>\n",
              "      <td>Sam Mendes</td>\n",
              "    </tr>\n",
              "    <tr>\n",
              "      <th>...</th>\n",
              "      <td>...</td>\n",
              "      <td>...</td>\n",
              "      <td>...</td>\n",
              "      <td>...</td>\n",
              "      <td>...</td>\n",
              "    </tr>\n",
              "    <tr>\n",
              "      <th>4755</th>\n",
              "      <td>Horror</td>\n",
              "      <td></td>\n",
              "      <td>The hot spot where Satan's waitin'.</td>\n",
              "      <td>Lisa Hart Carroll Michael Des Barres Paul Drak...</td>\n",
              "      <td>Pece Dingo</td>\n",
              "    </tr>\n",
              "    <tr>\n",
              "      <th>4756</th>\n",
              "      <td>Comedy Family Drama</td>\n",
              "      <td></td>\n",
              "      <td>It’s better to stand out than to fit in.</td>\n",
              "      <td>Roni Akurati Brighton Sharbino Jason Lee Anjul...</td>\n",
              "      <td>Frank Lotito</td>\n",
              "    </tr>\n",
              "    <tr>\n",
              "      <th>4757</th>\n",
              "      <td>Thriller Drama</td>\n",
              "      <td>christian film sex trafficking</td>\n",
              "      <td>She never knew it could happen to her...</td>\n",
              "      <td>Nicole Smolen Kim Baldwin Ariana Stephens Brys...</td>\n",
              "      <td>Jaco Booyens</td>\n",
              "    </tr>\n",
              "    <tr>\n",
              "      <th>4758</th>\n",
              "      <td>Family</td>\n",
              "      <td></td>\n",
              "      <td></td>\n",
              "      <td></td>\n",
              "      <td></td>\n",
              "    </tr>\n",
              "    <tr>\n",
              "      <th>4759</th>\n",
              "      <td>Documentary</td>\n",
              "      <td>music actors legendary perfomer classic hollyw...</td>\n",
              "      <td></td>\n",
              "      <td>Tony Oppedisano</td>\n",
              "      <td>Simon Napier-Bell</td>\n",
              "    </tr>\n",
              "  </tbody>\n",
              "</table>\n",
              "<p>4760 rows × 5 columns</p>\n",
              "</div>\n",
              "    <div class=\"colab-df-buttons\">\n",
              "\n",
              "  <div class=\"colab-df-container\">\n",
              "    <button class=\"colab-df-convert\" onclick=\"convertToInteractive('df-dc538193-37a7-4baf-b5f0-7fe3f8aa7281')\"\n",
              "            title=\"Convert this dataframe to an interactive table.\"\n",
              "            style=\"display:none;\">\n",
              "\n",
              "  <svg xmlns=\"http://www.w3.org/2000/svg\" height=\"24px\" viewBox=\"0 -960 960 960\">\n",
              "    <path d=\"M120-120v-720h720v720H120Zm60-500h600v-160H180v160Zm220 220h160v-160H400v160Zm0 220h160v-160H400v160ZM180-400h160v-160H180v160Zm440 0h160v-160H620v160ZM180-180h160v-160H180v160Zm440 0h160v-160H620v160Z\"/>\n",
              "  </svg>\n",
              "    </button>\n",
              "\n",
              "  <style>\n",
              "    .colab-df-container {\n",
              "      display:flex;\n",
              "      gap: 12px;\n",
              "    }\n",
              "\n",
              "    .colab-df-convert {\n",
              "      background-color: #E8F0FE;\n",
              "      border: none;\n",
              "      border-radius: 50%;\n",
              "      cursor: pointer;\n",
              "      display: none;\n",
              "      fill: #1967D2;\n",
              "      height: 32px;\n",
              "      padding: 0 0 0 0;\n",
              "      width: 32px;\n",
              "    }\n",
              "\n",
              "    .colab-df-convert:hover {\n",
              "      background-color: #E2EBFA;\n",
              "      box-shadow: 0px 1px 2px rgba(60, 64, 67, 0.3), 0px 1px 3px 1px rgba(60, 64, 67, 0.15);\n",
              "      fill: #174EA6;\n",
              "    }\n",
              "\n",
              "    .colab-df-buttons div {\n",
              "      margin-bottom: 4px;\n",
              "    }\n",
              "\n",
              "    [theme=dark] .colab-df-convert {\n",
              "      background-color: #3B4455;\n",
              "      fill: #D2E3FC;\n",
              "    }\n",
              "\n",
              "    [theme=dark] .colab-df-convert:hover {\n",
              "      background-color: #434B5C;\n",
              "      box-shadow: 0px 1px 3px 1px rgba(0, 0, 0, 0.15);\n",
              "      filter: drop-shadow(0px 1px 2px rgba(0, 0, 0, 0.3));\n",
              "      fill: #FFFFFF;\n",
              "    }\n",
              "  </style>\n",
              "\n",
              "    <script>\n",
              "      const buttonEl =\n",
              "        document.querySelector('#df-dc538193-37a7-4baf-b5f0-7fe3f8aa7281 button.colab-df-convert');\n",
              "      buttonEl.style.display =\n",
              "        google.colab.kernel.accessAllowed ? 'block' : 'none';\n",
              "\n",
              "      async function convertToInteractive(key) {\n",
              "        const element = document.querySelector('#df-dc538193-37a7-4baf-b5f0-7fe3f8aa7281');\n",
              "        const dataTable =\n",
              "          await google.colab.kernel.invokeFunction('convertToInteractive',\n",
              "                                                    [key], {});\n",
              "        if (!dataTable) return;\n",
              "\n",
              "        const docLinkHtml = 'Like what you see? Visit the ' +\n",
              "          '<a target=\"_blank\" href=https://colab.research.google.com/notebooks/data_table.ipynb>data table notebook</a>'\n",
              "          + ' to learn more about interactive tables.';\n",
              "        element.innerHTML = '';\n",
              "        dataTable['output_type'] = 'display_data';\n",
              "        await google.colab.output.renderOutput(dataTable, element);\n",
              "        const docLink = document.createElement('div');\n",
              "        docLink.innerHTML = docLinkHtml;\n",
              "        element.appendChild(docLink);\n",
              "      }\n",
              "    </script>\n",
              "  </div>\n",
              "\n",
              "\n",
              "<div id=\"df-51404136-5955-431f-ac2d-163a510ac041\">\n",
              "  <button class=\"colab-df-quickchart\" onclick=\"quickchart('df-51404136-5955-431f-ac2d-163a510ac041')\"\n",
              "            title=\"Suggest charts\"\n",
              "            style=\"display:none;\">\n",
              "\n",
              "<svg xmlns=\"http://www.w3.org/2000/svg\" height=\"24px\"viewBox=\"0 0 24 24\"\n",
              "     width=\"24px\">\n",
              "    <g>\n",
              "        <path d=\"M19 3H5c-1.1 0-2 .9-2 2v14c0 1.1.9 2 2 2h14c1.1 0 2-.9 2-2V5c0-1.1-.9-2-2-2zM9 17H7v-7h2v7zm4 0h-2V7h2v10zm4 0h-2v-4h2v4z\"/>\n",
              "    </g>\n",
              "</svg>\n",
              "  </button>\n",
              "\n",
              "<style>\n",
              "  .colab-df-quickchart {\n",
              "      --bg-color: #E8F0FE;\n",
              "      --fill-color: #1967D2;\n",
              "      --hover-bg-color: #E2EBFA;\n",
              "      --hover-fill-color: #174EA6;\n",
              "      --disabled-fill-color: #AAA;\n",
              "      --disabled-bg-color: #DDD;\n",
              "  }\n",
              "\n",
              "  [theme=dark] .colab-df-quickchart {\n",
              "      --bg-color: #3B4455;\n",
              "      --fill-color: #D2E3FC;\n",
              "      --hover-bg-color: #434B5C;\n",
              "      --hover-fill-color: #FFFFFF;\n",
              "      --disabled-bg-color: #3B4455;\n",
              "      --disabled-fill-color: #666;\n",
              "  }\n",
              "\n",
              "  .colab-df-quickchart {\n",
              "    background-color: var(--bg-color);\n",
              "    border: none;\n",
              "    border-radius: 50%;\n",
              "    cursor: pointer;\n",
              "    display: none;\n",
              "    fill: var(--fill-color);\n",
              "    height: 32px;\n",
              "    padding: 0;\n",
              "    width: 32px;\n",
              "  }\n",
              "\n",
              "  .colab-df-quickchart:hover {\n",
              "    background-color: var(--hover-bg-color);\n",
              "    box-shadow: 0 1px 2px rgba(60, 64, 67, 0.3), 0 1px 3px 1px rgba(60, 64, 67, 0.15);\n",
              "    fill: var(--button-hover-fill-color);\n",
              "  }\n",
              "\n",
              "  .colab-df-quickchart-complete:disabled,\n",
              "  .colab-df-quickchart-complete:disabled:hover {\n",
              "    background-color: var(--disabled-bg-color);\n",
              "    fill: var(--disabled-fill-color);\n",
              "    box-shadow: none;\n",
              "  }\n",
              "\n",
              "  .colab-df-spinner {\n",
              "    border: 2px solid var(--fill-color);\n",
              "    border-color: transparent;\n",
              "    border-bottom-color: var(--fill-color);\n",
              "    animation:\n",
              "      spin 1s steps(1) infinite;\n",
              "  }\n",
              "\n",
              "  @keyframes spin {\n",
              "    0% {\n",
              "      border-color: transparent;\n",
              "      border-bottom-color: var(--fill-color);\n",
              "      border-left-color: var(--fill-color);\n",
              "    }\n",
              "    20% {\n",
              "      border-color: transparent;\n",
              "      border-left-color: var(--fill-color);\n",
              "      border-top-color: var(--fill-color);\n",
              "    }\n",
              "    30% {\n",
              "      border-color: transparent;\n",
              "      border-left-color: var(--fill-color);\n",
              "      border-top-color: var(--fill-color);\n",
              "      border-right-color: var(--fill-color);\n",
              "    }\n",
              "    40% {\n",
              "      border-color: transparent;\n",
              "      border-right-color: var(--fill-color);\n",
              "      border-top-color: var(--fill-color);\n",
              "    }\n",
              "    60% {\n",
              "      border-color: transparent;\n",
              "      border-right-color: var(--fill-color);\n",
              "    }\n",
              "    80% {\n",
              "      border-color: transparent;\n",
              "      border-right-color: var(--fill-color);\n",
              "      border-bottom-color: var(--fill-color);\n",
              "    }\n",
              "    90% {\n",
              "      border-color: transparent;\n",
              "      border-bottom-color: var(--fill-color);\n",
              "    }\n",
              "  }\n",
              "</style>\n",
              "\n",
              "  <script>\n",
              "    async function quickchart(key) {\n",
              "      const quickchartButtonEl =\n",
              "        document.querySelector('#' + key + ' button');\n",
              "      quickchartButtonEl.disabled = true;  // To prevent multiple clicks.\n",
              "      quickchartButtonEl.classList.add('colab-df-spinner');\n",
              "      try {\n",
              "        const charts = await google.colab.kernel.invokeFunction(\n",
              "            'suggestCharts', [key], {});\n",
              "      } catch (error) {\n",
              "        console.error('Error during call to suggestCharts:', error);\n",
              "      }\n",
              "      quickchartButtonEl.classList.remove('colab-df-spinner');\n",
              "      quickchartButtonEl.classList.add('colab-df-quickchart-complete');\n",
              "    }\n",
              "    (() => {\n",
              "      let quickchartButtonEl =\n",
              "        document.querySelector('#df-51404136-5955-431f-ac2d-163a510ac041 button');\n",
              "      quickchartButtonEl.style.display =\n",
              "        google.colab.kernel.accessAllowed ? 'block' : 'none';\n",
              "    })();\n",
              "  </script>\n",
              "</div>\n",
              "\n",
              "  <div id=\"id_931ca3fe-d5f1-46ed-a00a-bd5e06e1b3cb\">\n",
              "    <style>\n",
              "      .colab-df-generate {\n",
              "        background-color: #E8F0FE;\n",
              "        border: none;\n",
              "        border-radius: 50%;\n",
              "        cursor: pointer;\n",
              "        display: none;\n",
              "        fill: #1967D2;\n",
              "        height: 32px;\n",
              "        padding: 0 0 0 0;\n",
              "        width: 32px;\n",
              "      }\n",
              "\n",
              "      .colab-df-generate:hover {\n",
              "        background-color: #E2EBFA;\n",
              "        box-shadow: 0px 1px 2px rgba(60, 64, 67, 0.3), 0px 1px 3px 1px rgba(60, 64, 67, 0.15);\n",
              "        fill: #174EA6;\n",
              "      }\n",
              "\n",
              "      [theme=dark] .colab-df-generate {\n",
              "        background-color: #3B4455;\n",
              "        fill: #D2E3FC;\n",
              "      }\n",
              "\n",
              "      [theme=dark] .colab-df-generate:hover {\n",
              "        background-color: #434B5C;\n",
              "        box-shadow: 0px 1px 3px 1px rgba(0, 0, 0, 0.15);\n",
              "        filter: drop-shadow(0px 1px 2px rgba(0, 0, 0, 0.3));\n",
              "        fill: #FFFFFF;\n",
              "      }\n",
              "    </style>\n",
              "    <button class=\"colab-df-generate\" onclick=\"generateWithVariable('df_features')\"\n",
              "            title=\"Generate code using this dataframe.\"\n",
              "            style=\"display:none;\">\n",
              "\n",
              "  <svg xmlns=\"http://www.w3.org/2000/svg\" height=\"24px\"viewBox=\"0 0 24 24\"\n",
              "       width=\"24px\">\n",
              "    <path d=\"M7,19H8.4L18.45,9,17,7.55,7,17.6ZM5,21V16.75L18.45,3.32a2,2,0,0,1,2.83,0l1.4,1.43a1.91,1.91,0,0,1,.58,1.4,1.91,1.91,0,0,1-.58,1.4L9.25,21ZM18.45,9,17,7.55Zm-12,3A5.31,5.31,0,0,0,4.9,8.1,5.31,5.31,0,0,0,1,6.5,5.31,5.31,0,0,0,4.9,4.9,5.31,5.31,0,0,0,6.5,1,5.31,5.31,0,0,0,8.1,4.9,5.31,5.31,0,0,0,12,6.5,5.46,5.46,0,0,0,6.5,12Z\"/>\n",
              "  </svg>\n",
              "    </button>\n",
              "    <script>\n",
              "      (() => {\n",
              "      const buttonEl =\n",
              "        document.querySelector('#id_931ca3fe-d5f1-46ed-a00a-bd5e06e1b3cb button.colab-df-generate');\n",
              "      buttonEl.style.display =\n",
              "        google.colab.kernel.accessAllowed ? 'block' : 'none';\n",
              "\n",
              "      buttonEl.onclick = () => {\n",
              "        google.colab.notebook.generateWithVariable('df_features');\n",
              "      }\n",
              "      })();\n",
              "    </script>\n",
              "  </div>\n",
              "\n",
              "    </div>\n",
              "  </div>\n"
            ],
            "application/vnd.google.colaboratory.intrinsic+json": {
              "type": "dataframe",
              "variable_name": "df_features",
              "summary": "{\n  \"name\": \"df_features\",\n  \"rows\": 4760,\n  \"fields\": [\n    {\n      \"column\": \"Movie_Genre\",\n      \"properties\": {\n        \"dtype\": \"category\",\n        \"num_unique_values\": 1164,\n        \"samples\": [\n          \"Family Animation Adventure\",\n          \"Adventure Science Fiction Action\",\n          \"Action Crime Drama Romance Thriller\"\n        ],\n        \"semantic_type\": \"\",\n        \"description\": \"\"\n      }\n    },\n    {\n      \"column\": \"Movie_Keywords\",\n      \"properties\": {\n        \"dtype\": \"string\",\n        \"num_unique_values\": 4203,\n        \"samples\": [\n          \"canada nazis sequel spin off ancient evil\",\n          \"sex professor wedding woman director columbia university\",\n          \"prophecy sea beach gold small town\"\n        ],\n        \"semantic_type\": \"\",\n        \"description\": \"\"\n      }\n    },\n    {\n      \"column\": \"Movie_Tagline\",\n      \"properties\": {\n        \"dtype\": \"string\",\n        \"num_unique_values\": 3928,\n        \"samples\": [\n          \"The messenger must be silenced.\",\n          \"It's not the house that's haunted.\",\n          \"The final hunt begins.\"\n        ],\n        \"semantic_type\": \"\",\n        \"description\": \"\"\n      }\n    },\n    {\n      \"column\": \"Movie_Cast\",\n      \"properties\": {\n        \"dtype\": \"string\",\n        \"num_unique_values\": 4715,\n        \"samples\": [\n          \"Robin Tunney Fairuza Balk Neve Campbell Rachel True Skeet Ulrich\",\n          \"Peter Sellers Christopher Plummer Herbert Lom Catherine Schell Peter Arne\",\n          \"John Wayne Laraine Day Cedric Hardwicke Judith Anderson Anthony Quinn\"\n        ],\n        \"semantic_type\": \"\",\n        \"description\": \"\"\n      }\n    },\n    {\n      \"column\": \"Movie_Director\",\n      \"properties\": {\n        \"dtype\": \"category\",\n        \"num_unique_values\": 2332,\n        \"samples\": [\n          \"Rob McKittrick\",\n          \"Terron R. Parsons\",\n          \"Cyrus Nowrasteh\"\n        ],\n        \"semantic_type\": \"\",\n        \"description\": \"\"\n      }\n    }\n  ]\n}"
            }
          },
          "metadata": {},
          "execution_count": 10
        }
      ]
    },
    {
      "cell_type": "code",
      "source": [
        "x = df_features['Movie_Genre']+' '+df_features['Movie_Keywords']+' '+df_features['Movie_Tagline']+' '+df_features['Movie_Cast']+' '+df_features['Movie_Director']"
      ],
      "metadata": {
        "id": "B0NeDcgx5-XS"
      },
      "execution_count": 11,
      "outputs": []
    },
    {
      "cell_type": "code",
      "source": [
        "x"
      ],
      "metadata": {
        "colab": {
          "base_uri": "https://localhost:8080/"
        },
        "id": "PjQQU7_I6rr1",
        "outputId": "e3bee0a3-f4de-4dac-da42-f6ac6a6d1746"
      },
      "execution_count": 12,
      "outputs": [
        {
          "output_type": "execute_result",
          "data": {
            "text/plain": [
              "0       Crime Comedy hotel new year's eve witch bet ho...\n",
              "1       Adventure Action Science Fiction android galax...\n",
              "2       Animation Family father son relationship harbo...\n",
              "3       Comedy Drama Romance vietnam veteran hippie me...\n",
              "4       Drama male nudity female nudity adultery midli...\n",
              "                              ...                        \n",
              "4755    Horror  The hot spot where Satan's waitin'. Li...\n",
              "4756    Comedy Family Drama  It’s better to stand out ...\n",
              "4757    Thriller Drama christian film sex trafficking ...\n",
              "4758                                           Family    \n",
              "4759    Documentary music actors legendary perfomer cl...\n",
              "Length: 4760, dtype: object"
            ]
          },
          "metadata": {},
          "execution_count": 12
        }
      ]
    },
    {
      "cell_type": "code",
      "source": [
        "x.shape"
      ],
      "metadata": {
        "colab": {
          "base_uri": "https://localhost:8080/"
        },
        "id": "RV3rtLt86zU_",
        "outputId": "82d101af-538d-4cd6-a2c6-0a937a6d7919"
      },
      "execution_count": 13,
      "outputs": [
        {
          "output_type": "execute_result",
          "data": {
            "text/plain": [
              "(4760,)"
            ]
          },
          "metadata": {},
          "execution_count": 13
        }
      ]
    },
    {
      "cell_type": "markdown",
      "source": [
        "**Get Feature Text Conversion to Tokens**"
      ],
      "metadata": {
        "id": "-FlWKQeA66V-"
      }
    },
    {
      "cell_type": "code",
      "source": [
        "from sklearn.feature_extraction.text import TfidfVectorizer"
      ],
      "metadata": {
        "id": "G-rcCun97EVF"
      },
      "execution_count": 14,
      "outputs": []
    },
    {
      "cell_type": "code",
      "source": [
        "tfidf = TfidfVectorizer()"
      ],
      "metadata": {
        "id": "nuE2E6HB7VPH"
      },
      "execution_count": 15,
      "outputs": []
    },
    {
      "cell_type": "code",
      "source": [
        "x = tfidf.fit_transform(x)"
      ],
      "metadata": {
        "id": "n3iINTjZ7hVJ"
      },
      "execution_count": 16,
      "outputs": []
    },
    {
      "cell_type": "code",
      "source": [
        "x.shape"
      ],
      "metadata": {
        "colab": {
          "base_uri": "https://localhost:8080/"
        },
        "id": "VsMeMeP47l8f",
        "outputId": "f2385008-13ab-4cf1-fd6f-3bde8209a867"
      },
      "execution_count": 17,
      "outputs": [
        {
          "output_type": "execute_result",
          "data": {
            "text/plain": [
              "(4760, 17258)"
            ]
          },
          "metadata": {},
          "execution_count": 17
        }
      ]
    },
    {
      "cell_type": "code",
      "source": [
        "print(x)"
      ],
      "metadata": {
        "colab": {
          "base_uri": "https://localhost:8080/"
        },
        "id": "eVvfdh587zfI",
        "outputId": "f1e29f13-ee18-4d78-d3a9-f6c15a0c88ed"
      },
      "execution_count": 18,
      "outputs": [
        {
          "output_type": "stream",
          "name": "stdout",
          "text": [
            "  (0, 617)\t0.1633382144407513\n",
            "  (0, 492)\t0.1432591540388685\n",
            "  (0, 15413)\t0.1465525095337543\n",
            "  (0, 9675)\t0.14226057295252661\n",
            "  (0, 9465)\t0.1659841367820977\n",
            "  (0, 1390)\t0.16898383612799558\n",
            "  (0, 7825)\t0.09799561597509843\n",
            "  (0, 1214)\t0.13865857545144072\n",
            "  (0, 729)\t0.13415063359531618\n",
            "  (0, 13093)\t0.1432591540388685\n",
            "  (0, 15355)\t0.10477815972666779\n",
            "  (0, 9048)\t0.0866842116160778\n",
            "  (0, 11161)\t0.06250380151644369\n",
            "  (0, 16773)\t0.17654247479915475\n",
            "  (0, 5612)\t0.08603537588547631\n",
            "  (0, 16735)\t0.10690083751525419\n",
            "  (0, 7904)\t0.13348000542112332\n",
            "  (0, 15219)\t0.09800472886453934\n",
            "  (0, 11242)\t0.07277788238484746\n",
            "  (0, 3878)\t0.11998399582562203\n",
            "  (0, 5499)\t0.11454057510303811\n",
            "  (0, 7071)\t0.19822417598406614\n",
            "  (0, 7454)\t0.14745635785412262\n",
            "  (0, 1495)\t0.19712637387361423\n",
            "  (0, 9206)\t0.15186283580984414\n",
            "  :\t:\n",
            "  (4757, 5455)\t0.12491480594769522\n",
            "  (4757, 2967)\t0.16273475835631626\n",
            "  (4757, 8464)\t0.23522565554066333\n",
            "  (4757, 6938)\t0.17088173678136628\n",
            "  (4757, 8379)\t0.17480603856721913\n",
            "  (4757, 15303)\t0.07654356007668191\n",
            "  (4757, 15384)\t0.09754322497537371\n",
            "  (4757, 7649)\t0.11479421494340192\n",
            "  (4757, 10896)\t0.14546473055066447\n",
            "  (4757, 4494)\t0.05675298448720501\n",
            "  (4758, 5238)\t1.0\n",
            "  (4759, 11264)\t0.33947721804318337\n",
            "  (4759, 11708)\t0.33947721804318337\n",
            "  (4759, 205)\t0.3237911628497312\n",
            "  (4759, 8902)\t0.3040290704566037\n",
            "  (4759, 14062)\t0.3237911628497312\n",
            "  (4759, 3058)\t0.2812896191863103\n",
            "  (4759, 7130)\t0.26419662449963793\n",
            "  (4759, 10761)\t0.3126617295732147\n",
            "  (4759, 4358)\t0.18306542312175342\n",
            "  (4759, 14051)\t0.20084315377640435\n",
            "  (4759, 5690)\t0.19534291014627303\n",
            "  (4759, 15431)\t0.19628653185946862\n",
            "  (4759, 1490)\t0.21197258705292082\n",
            "  (4759, 10666)\t0.15888268987343043\n"
          ]
        }
      ]
    },
    {
      "cell_type": "markdown",
      "source": [
        "**Get Similarity Score using Cosine Similarity**\n"
      ],
      "metadata": {
        "id": "9k4CMtbx8aDM"
      }
    },
    {
      "cell_type": "code",
      "source": [
        "from sklearn.metrics.pairwise import cosine_similarity"
      ],
      "metadata": {
        "id": "5DumW4DE8t6d"
      },
      "execution_count": 19,
      "outputs": []
    },
    {
      "cell_type": "code",
      "source": [
        "Similarity_Score = cosine_similarity(x)"
      ],
      "metadata": {
        "id": "NQoF2Zpx81Xw"
      },
      "execution_count": 20,
      "outputs": []
    },
    {
      "cell_type": "code",
      "source": [
        "Similarity_Score"
      ],
      "metadata": {
        "colab": {
          "base_uri": "https://localhost:8080/"
        },
        "id": "DVat9H9X8-Xi",
        "outputId": "a3860af8-33f1-4c89-d59a-90d319d3449a"
      },
      "execution_count": 21,
      "outputs": [
        {
          "output_type": "execute_result",
          "data": {
            "text/plain": [
              "array([[1.        , 0.01351235, 0.03570468, ..., 0.        , 0.        ,\n",
              "        0.        ],\n",
              "       [0.01351235, 1.        , 0.00806674, ..., 0.        , 0.        ,\n",
              "        0.        ],\n",
              "       [0.03570468, 0.00806674, 1.        , ..., 0.        , 0.08014876,\n",
              "        0.        ],\n",
              "       ...,\n",
              "       [0.        , 0.        , 0.        , ..., 1.        , 0.        ,\n",
              "        0.        ],\n",
              "       [0.        , 0.        , 0.08014876, ..., 0.        , 1.        ,\n",
              "        0.        ],\n",
              "       [0.        , 0.        , 0.        , ..., 0.        , 0.        ,\n",
              "        1.        ]])"
            ]
          },
          "metadata": {},
          "execution_count": 21
        }
      ]
    },
    {
      "cell_type": "code",
      "source": [
        "Similarity_Score.shape"
      ],
      "metadata": {
        "id": "HVkWAC3c9TaT",
        "colab": {
          "base_uri": "https://localhost:8080/"
        },
        "outputId": "3f70c004-a9e4-410c-853e-206ebf557a46"
      },
      "execution_count": 22,
      "outputs": [
        {
          "output_type": "execute_result",
          "data": {
            "text/plain": [
              "(4760, 4760)"
            ]
          },
          "metadata": {},
          "execution_count": 22
        }
      ]
    },
    {
      "cell_type": "markdown",
      "source": [
        "**Get Movie Name as Input from User and Validate for Closest Spelling**\n",
        "\n",
        "---\n",
        "\n"
      ],
      "metadata": {
        "id": "cUudFUFQ9dcw"
      }
    },
    {
      "cell_type": "code",
      "source": [
        "Favourite_Movie_Name = input('Enter your favourite movie name : ')"
      ],
      "metadata": {
        "colab": {
          "base_uri": "https://localhost:8080/"
        },
        "id": "WiLuW_I496EY",
        "outputId": "37d21107-5665-4aa5-fc9a-7e3bf5a648cf"
      },
      "execution_count": 23,
      "outputs": [
        {
          "name": "stdout",
          "output_type": "stream",
          "text": [
            "Enter your favourite movie name : American Beauty\n"
          ]
        }
      ]
    },
    {
      "cell_type": "code",
      "source": [
        "All_Movies_Title_List = df['Movie_Title'].tolist()"
      ],
      "metadata": {
        "id": "woXJfdC2BEtC"
      },
      "execution_count": 24,
      "outputs": []
    },
    {
      "cell_type": "code",
      "source": [
        "import difflib"
      ],
      "metadata": {
        "id": "v5fPucoRA3zL"
      },
      "execution_count": 25,
      "outputs": []
    },
    {
      "cell_type": "code",
      "source": [
        "Movie_Recommendation = difflib.get_close_matches(Favourite_Movie_Name, All_Movies_Title_List)\n",
        "print(Movie_Recommendation)"
      ],
      "metadata": {
        "colab": {
          "base_uri": "https://localhost:8080/"
        },
        "id": "ujKc7Jtd96bx",
        "outputId": "59415967-7735-4034-eab3-2fe42374a5e3"
      },
      "execution_count": 26,
      "outputs": [
        {
          "output_type": "stream",
          "name": "stdout",
          "text": [
            "['American Beauty', 'American Beast', 'American Heist']\n"
          ]
        }
      ]
    },
    {
      "cell_type": "code",
      "source": [
        "Close_Match = Movie_Recommendation[0]\n",
        "print(Close_Match)"
      ],
      "metadata": {
        "colab": {
          "base_uri": "https://localhost:8080/"
        },
        "id": "OxxxB9F0EvoP",
        "outputId": "07b5dad9-acd4-4a2f-929f-b7e34f8bae47"
      },
      "execution_count": 27,
      "outputs": [
        {
          "output_type": "stream",
          "name": "stdout",
          "text": [
            "American Beauty\n"
          ]
        }
      ]
    },
    {
      "cell_type": "code",
      "source": [
        "Index_of_Close_Match_Movie = df[df.Movie_Title == Close_Match]['Movie_ID'].values[0]\n",
        "print(Index_of_Close_Match_Movie)"
      ],
      "metadata": {
        "colab": {
          "base_uri": "https://localhost:8080/"
        },
        "id": "2HzfUvlYQ76Y",
        "outputId": "f5c5f9e6-1719-4a72-837f-e9e398d221eb"
      },
      "execution_count": 28,
      "outputs": [
        {
          "output_type": "stream",
          "name": "stdout",
          "text": [
            "5\n"
          ]
        }
      ]
    },
    {
      "cell_type": "code",
      "source": [
        "#getting a list of similar movies\n",
        "Recommendation_Score = list(enumerate(Similarity_Score[Index_of_Close_Match_Movie]))\n",
        "print(Recommendation_Score)"
      ],
      "metadata": {
        "colab": {
          "base_uri": "https://localhost:8080/"
        },
        "id": "_5p6_2_pRTdX",
        "outputId": "150cab64-2c4a-4013-c096-cbf8be129056"
      },
      "execution_count": 29,
      "outputs": [
        {
          "output_type": "stream",
          "name": "stdout",
          "text": [
            "[(0, 0.0058726147633111694), (1, 0.014798802030248786), (2, 0.0), (3, 0.0519911011825567), (4, 0.00309078340831478), (5, 1.0000000000000002), (6, 0.0), (7, 0.033098270930275266), (8, 0.003181298470234406), (9, 0.008007861686693422), (10, 0.021119521548410902), (11, 0.029151519581502992), (12, 0.0031281756116451507), (13, 0.0), (14, 0.03986593100010247), (15, 0.012390521250965281), (16, 0.002441559415285773), (17, 0.0), (18, 0.05041567800294471), (19, 0.0028262897015505057), (20, 0.06398236977514019), (21, 0.011871390607326733), (22, 0.0), (23, 0.054730982878127866), (24, 0.0019132237389548445), (25, 0.05132948307271069), (26, 0.028306705099380432), (27, 0.0), (28, 0.026398926724169183), (29, 0.002789561729610087), (30, 0.04203136500225512), (31, 0.0027549494714499373), (32, 0.0025688462164857235), (33, 0.011871706049625766), (34, 0.013978386758133053), (35, 0.0), (36, 0.0), (37, 0.0), (38, 0.009338796541247215), (39, 0.0), (40, 0.009166740332730612), (41, 0.003259525031603568), (42, 0.01720986637149586), (43, 0.025397134073851104), (44, 0.011182346882196808), (45, 0.008212675026080635), (46, 0.0), (47, 0.00725335660265308), (48, 0.012231783824068698), (49, 0.0083876166116586), (50, 0.034585418659448156), (51, 0.011679693364116783), (52, 0.028931576350254843), (53, 0.09834463063047183), (54, 0.025613811666393347), (55, 0.017312155363243164), (56, 0.016868911203369457), (57, 0.0), (58, 0.007255738881815628), (59, 0.08851375533574951), (60, 0.0025058278736117164), (61, 0.013262557079257381), (62, 0.0032341409009333214), (63, 0.0023313554797595028), (64, 0.0072475391745373445), (65, 0.0), (66, 0.011560099974784731), (67, 0.0), (68, 0.02043993554098866), (69, 0.0), (70, 0.02042684701526672), (71, 0.0030009999256854687), (72, 0.032275602840981826), (73, 0.05281850729398648), (74, 0.046012175151584685), (75, 0.007268073184721192), (76, 0.02057954743414744), (77, 0.0), (78, 0.0), (79, 0.019436872361486775), (80, 0.0), (81, 0.008096594790063832), (82, 0.00222293122607462), (83, 0.033724032197449634), (84, 0.04776099764261721), (85, 0.010679419651813763), (86, 0.00702781324380415), (87, 0.010716450342945069), (88, 0.015403718837253699), (89, 0.00921386083938455), (90, 0.011388417765216919), (91, 0.0), (92, 0.06138099023925914), (93, 0.0), (94, 0.0), (95, 0.0), (96, 0.060585376239713794), (97, 0.061729713037219115), (98, 0.05993495463924575), (99, 0.0161517895888657), (100, 0.0), (101, 0.0), (102, 0.0), (103, 0.00253721942066695), (104, 0.002947822240446527), (105, 0.03602375027842924), (106, 0.015206712889945642), (107, 0.0033223393670466666), (108, 0.007898126987266088), (109, 0.029686793194137612), (110, 0.0), (111, 0.03851370691049739), (112, 0.010687439494328673), (113, 0.029595775214658473), (114, 0.019478273015007843), (115, 0.08101331556746479), (116, 0.00276471242211363), (117, 0.1070586667014112), (118, 0.0), (119, 0.01912898092592212), (120, 0.011448898741693532), (121, 0.06492515192869362), (122, 0.017203853382914504), (123, 0.021086069153309833), (124, 0.018038084841327552), (125, 0.0), (126, 0.03029533315307896), (127, 0.029175546243893086), (128, 0.0), (129, 0.002045549636554111), (130, 0.0), (131, 0.008767068525912365), (132, 0.002597056933052897), (133, 0.0114935778071857), (134, 0.016886525135897477), (135, 0.011636123402773308), (136, 0.0027051087349641693), (137, 0.01732242110064141), (138, 0.007846350179369514), (139, 0.009168576270621752), (140, 0.0027439873925340793), (141, 0.027578050785576763), (142, 0.015945636460853032), (143, 0.008572379468110052), (144, 0.007765786755760577), (145, 0.0166611434668069), (146, 0.017871761932874982), (147, 0.009604276907138574), (148, 0.01798407275911766), (149, 0.017841284862093337), (150, 0.0), (151, 0.0), (152, 0.0), (153, 0.013687901755294083), (154, 0.002749641914107577), (155, 0.019371802334516738), (156, 0.0023796609243628107), (157, 0.0027898705116993685), (158, 0.002627623377814), (159, 0.0022926398689762156), (160, 0.009627987753877566), (161, 0.020879301796246662), (162, 0.00897539559623278), (163, 0.0), (164, 0.042476964343643335), (165, 0.0025322920294594004), (166, 0.052642207036426976), (167, 0.0028299042287399322), (168, 0.0), (169, 0.002878049335038529), (170, 0.017956218209273025), (171, 0.0), (172, 0.01113633149322165), (173, 0.011634558202421597), (174, 0.01925881612770575), (175, 0.03769439618895211), (176, 0.0149768980053717), (177, 0.009928125822565413), (178, 0.003081541500219483), (179, 0.0), (180, 0.03742388811277312), (181, 0.04290562040980764), (182, 0.013540525496427636), (183, 0.056100535577403896), (184, 0.04572149966227531), (185, 0.0), (186, 0.0), (187, 0.029254002927778647), (188, 0.04528759510782297), (189, 0.010877406016543882), (190, 0.04506774443614609), (191, 0.00772073998548352), (192, 0.07100327127778379), (193, 0.09790211808987379), (194, 0.002350271838559246), (195, 0.025838077178384107), (196, 0.01699708782787604), (197, 0.05775795308110738), (198, 0.0968740877472814), (199, 0.010122181663601838), (200, 0.0025883735317707808), (201, 0.008525896534351117), (202, 0.0076002447563898266), (203, 0.002771717966014519), (204, 0.09288191638443809), (205, 0.03669515479097452), (206, 0.09831919740260642), (207, 0.009230180838712649), (208, 0.003109960323892395), (209, 0.011201693094361052), (210, 0.044113443830359846), (211, 0.03023932146880455), (212, 0.002741401994020263), (213, 0.051324019711660285), (214, 0.0), (215, 0.05235700345951523), (216, 0.03401145657551794), (217, 0.07326875433935157), (218, 0.0026743421203622273), (219, 0.016857544688322224), (220, 0.0), (221, 0.05077073825174378), (222, 0.002578279253252462), (223, 0.0), (224, 0.008493463583207348), (225, 0.0), (226, 0.07063143276815316), (227, 0.012378594434459511), (228, 0.011038785478657878), (229, 0.01358861238637245), (230, 0.0), (231, 0.0), (232, 0.0), (233, 0.0), (234, 0.0), (235, 0.003306352271655959), (236, 0.010427467113139455), (237, 0.0397424318753253), (238, 0.002987708887838798), (239, 0.023022590688509908), (240, 0.017732166820659565), (241, 0.0), (242, 0.01002834055199231), (243, 0.03510160646006721), (244, 0.018270023055477758), (245, 0.0), (246, 0.030766552424620997), (247, 0.0028963743113847745), (248, 0.009717443181815295), (249, 0.025335877098386188), (250, 0.0), (251, 0.009514801001933897), (252, 0.0025947523896532247), (253, 0.030653624895538956), (254, 0.012235723703583895), (255, 0.0030674936609811684), (256, 0.03968330416088574), (257, 0.014465665061784745), (258, 0.0), (259, 0.00860381646326923), (260, 0.0), (261, 0.0), (262, 0.03873133747826553), (263, 0.0), (264, 0.0), (265, 0.0), (266, 0.002253920504246642), (267, 0.002482437806550788), (268, 0.00261267375494709), (269, 0.0025135625383927913), (270, 0.031645590714406785), (271, 0.0149135629437201), (272, 0.0), (273, 0.0), (274, 0.012746339066493901), (275, 0.0), (276, 0.010467132266068952), (277, 0.03566512585178935), (278, 0.00252292417857854), (279, 0.0027423171360412965), (280, 0.011072106153469985), (281, 0.012532047751535005), (282, 0.010936352154486167), (283, 0.0303149097033203), (284, 0.0), (285, 0.02502527776956094), (286, 0.00251371281371173), (287, 0.010416397519089527), (288, 0.007348775792083249), (289, 0.0), (290, 0.0), (291, 0.017023215343489228), (292, 0.0028420804222144278), (293, 0.0020828319819316417), (294, 0.015253577625531006), (295, 0.01351170173882669), (296, 0.002195469690557926), (297, 0.0), (298, 0.0), (299, 0.011644260389490332), (300, 0.0), (301, 0.012319412389426581), (302, 0.015729870850457413), (303, 0.0), (304, 0.026902360746205355), (305, 0.0), (306, 0.007972834352814411), (307, 0.002747695681583238), (308, 0.0032756700458405853), (309, 0.009212554270823984), (310, 0.0), (311, 0.018601320077957784), (312, 0.0), (313, 0.0), (314, 0.00725387813361482), (315, 0.008679978444699856), (316, 0.0), (317, 0.03290906342982371), (318, 0.0032012662108481544), (319, 0.013544510602313419), (320, 0.0), (321, 0.02946619938908051), (322, 0.008521078864646805), (323, 0.01941536779780103), (324, 0.010675577532397602), (325, 0.010945260932714418), (326, 0.0035874080259243827), (327, 0.0), (328, 0.0), (329, 0.02888780991059541), (330, 0.019451224953814898), (331, 0.0), (332, 0.0), (333, 0.014965658919817802), (334, 0.045678812874924174), (335, 0.08055162922242352), (336, 0.0), (337, 0.0), (338, 0.00789489655412627), (339, 0.0), (340, 0.01251303756645996), (341, 0.0), (342, 0.012093133341712081), (343, 0.02914961834704074), (344, 0.026407037685397348), (345, 0.03225427981786692), (346, 0.002910772030623074), (347, 0.0), (348, 0.0028997880939131268), (349, 0.03992475679240862), (350, 0.0031890447022760327), (351, 0.0022348973960319716), (352, 0.0), (353, 0.0029751034604194567), (354, 0.010657728212545592), (355, 0.002701120232156321), (356, 0.002794158446459185), (357, 0.01746245450046362), (358, 0.01896285824635864), (359, 0.0026882622109650005), (360, 0.027015667776014753), (361, 0.0), (362, 0.0), (363, 0.0), (364, 0.002520117148571046), (365, 0.0), (366, 0.02056845002292449), (367, 0.007828397051968255), (368, 0.009808936107722361), (369, 0.0062540832431794815), (370, 0.011083149416615678), (371, 0.0032234038985637296), (372, 0.0027293859566712947), (373, 0.03410869054302111), (374, 0.014380540219559897), (375, 0.01038096175702114), (376, 0.02450897529199371), (377, 0.04457607390610482), (378, 0.0029418749160268357), (379, 0.010725241848680709), (380, 0.013379138033755863), (381, 0.027064545477640867), (382, 0.025950735421649447), (383, 0.014766310811302204), (384, 0.009182634447013388), (385, 0.01862556946813617), (386, 0.0), (387, 0.0027627026878690943), (388, 0.012681397718365892), (389, 0.0), (390, 0.0), (391, 0.027798625548940803), (392, 0.0230560415404406), (393, 0.0), (394, 0.007395183785496405), (395, 0.014412683274416183), (396, 0.010667809685970529), (397, 0.01920824713368478), (398, 0.016645384664087853), (399, 0.026806884497428424), (400, 0.002902433696189966), (401, 0.033584505923171346), (402, 0.003571029259260429), (403, 0.024520988695051635), (404, 0.0), (405, 0.009276816797640785), (406, 0.0029886958706491357), (407, 0.011694868145976688), (408, 0.0204267194183904), (409, 0.0), (410, 0.010775860361528902), (411, 0.0), (412, 0.028137862111448156), (413, 0.0), (414, 0.016299428680913147), (415, 0.0), (416, 0.04169366343825975), (417, 0.007590545269620716), (418, 0.030865199945605028), (419, 0.035076126182355935), (420, 0.0), (421, 0.0), (422, 0.02757028118713649), (423, 0.01155906705313589), (424, 0.0), (425, 0.0), (426, 0.0), (427, 0.010075329138769323), (428, 0.013159237120343904), (429, 0.01163428451133134), (430, 0.015687977525955805), (431, 0.017189208502478435), (432, 0.0024920310733500587), (433, 0.019001044107847913), (434, 0.056375090810300704), (435, 0.006626286476260609), (436, 0.0032774166112553836), (437, 0.0027795309415512017), (438, 0.00858716620562984), (439, 0.02018003898113948), (440, 0.02106483164550429), (441, 0.0024206943617777026), (442, 0.002428920532125311), (443, 0.01553754829294012), (444, 0.021682419882150722), (445, 0.018907813458962468), (446, 0.002857583044584856), (447, 0.03141961825536069), (448, 0.0033811688192324136), (449, 0.0026493185716959912), (450, 0.030361388886336105), (451, 0.008690742724391784), (452, 0.0366315820647923), (453, 0.0022399620507120442), (454, 0.0), (455, 0.0020786578715515816), (456, 0.012271703680868128), (457, 0.04463919904909993), (458, 0.02538153588467969), (459, 0.0), (460, 0.0), (461, 0.009677175610472809), (462, 0.0), (463, 0.01830789455114101), (464, 0.011448925440071818), (465, 0.026411944024002987), (466, 0.011451181364590302), (467, 0.0), (468, 0.024330694519840677), (469, 0.020843557754361714), (470, 0.014168000300821052), (471, 0.0027355705624335087), (472, 0.011924417603080727), (473, 0.00265018799996459), (474, 0.03139319020013408), (475, 0.019174822031587248), (476, 0.050576419992385116), (477, 0.0), (478, 0.02206637866531912), (479, 0.011088023117973172), (480, 0.002570480247003558), (481, 0.02349582709047899), (482, 0.0030575482808962344), (483, 0.024017338707940095), (484, 0.0), (485, 0.021169919007890232), (486, 0.03327923104736055), (487, 0.03884287994523146), (488, 0.002833397832864143), (489, 0.0035042109463277417), (490, 0.0029007117268769526), (491, 0.0), (492, 0.008079122092231127), (493, 0.0031101886093940546), (494, 0.008209314187124893), (495, 0.0025908807747239315), (496, 0.0025009140303643477), (497, 0.017635775460414577), (498, 0.0), (499, 0.0031878929676129987), (500, 0.05293380359496409), (501, 0.015108567136400556), (502, 0.028966857021296075), (503, 0.019278209606463825), (504, 0.002947032260109219), (505, 0.002782806108586099), (506, 0.028770809285795864), (507, 0.0027505581376778493), (508, 0.022418990105953596), (509, 0.030538812823729344), (510, 0.009258493408339334), (511, 0.007880947368821844), (512, 0.030903511106909667), (513, 0.03242693914534765), (514, 0.0), (515, 0.0570068631652181), (516, 0.0), (517, 0.01990849464992142), (518, 0.0034341391393023658), (519, 0.002586442585124117), (520, 0.007560874630354814), (521, 0.03183102546410667), (522, 0.0028434998713978647), (523, 0.012242426117888082), (524, 0.021959643221046054), (525, 0.0), (526, 0.0036835829330484947), (527, 0.002319046945378748), (528, 0.008811053958761049), (529, 0.0), (530, 0.029410208335250692), (531, 0.013982825678806056), (532, 0.007588195452543359), (533, 0.012485982051116843), (534, 0.010964180246196479), (535, 0.008538315773417763), (536, 0.0), (537, 0.0), (538, 0.0), (539, 0.007996520662265028), (540, 0.0), (541, 0.06446810294557924), (542, 0.013852764961020999), (543, 0.050466259886288264), (544, 0.011265327588359854), (545, 0.007601669851248165), (546, 0.015985833588229862), (547, 0.0756388544120426), (548, 0.023544718664145942), (549, 0.0), (550, 0.0), (551, 0.03737738329458574), (552, 0.011694090346468029), (553, 0.0061538647738348835), (554, 0.021054800459322048), (555, 0.017852721212339096), (556, 0.008364793725162037), (557, 0.0), (558, 0.0102365523832843), (559, 0.0), (560, 0.008196515865083579), (561, 0.006381024561831172), (562, 0.0022223355001506464), (563, 0.018247278700087338), (564, 0.003068908862547869), (565, 0.009810882278989096), (566, 0.023181806337637695), (567, 0.0), (568, 0.0), (569, 0.007928802495730473), (570, 0.0), (571, 0.0022585583591287796), (572, 0.026654854864268378), (573, 0.024109553047984247), (574, 0.0), (575, 0.03559033790267255), (576, 0.07883017205541627), (577, 0.0077501167922744306), (578, 0.026533033392524878), (579, 0.0029694615283372993), (580, 0.030230919903109686), (581, 0.026835523745137715), (582, 0.0), (583, 0.0228648576891114), (584, 0.011486585199283531), (585, 0.0), (586, 0.0), (587, 0.0032216231527261077), (588, 0.029134154432189877), (589, 0.0027148177355195797), (590, 0.0026998561475567446), (591, 0.0), (592, 0.0), (593, 0.002987822524746174), (594, 0.002618284552469969), (595, 0.0), (596, 0.003282170560103641), (597, 0.002633238185267111), (598, 0.002729321739699303), (599, 0.0), (600, 0.0), (601, 0.0), (602, 0.0), (603, 0.0), (604, 0.03412240253335977), (605, 0.02206794502883401), (606, 0.06107009379430871), (607, 0.0022572357574649426), (608, 0.0026553547100021868), (609, 0.009190113069422624), (610, 0.0), (611, 0.004706390052956629), (612, 0.012297651004185606), (613, 0.01840835081285664), (614, 0.00336097776520951), (615, 0.0), (616, 0.01621667770374786), (617, 0.0294233509630585), (618, 0.0), (619, 0.033196712985092774), (620, 0.0028135177600278837), (621, 0.04748979313973509), (622, 0.042560779768519304), (623, 0.0031111799605481752), (624, 0.1728488549719541), (625, 0.0), (626, 0.012352049966538228), (627, 0.003966554872352831), (628, 0.002953415431015832), (629, 0.08921421381514215), (630, 0.0), (631, 0.0030119035934137815), (632, 0.03434558403008653), (633, 0.0), (634, 0.0), (635, 0.0), (636, 0.0029583893912406892), (637, 0.011994387122441594), (638, 0.0647355548990956), (639, 0.0), (640, 0.007244202469802005), (641, 0.024955879858945856), (642, 0.010004711551241814), (643, 0.010757293734700829), (644, 0.002782737358155353), (645, 0.009460068937932968), (646, 0.07841542084148816), (647, 0.01178648561223563), (648, 0.0), (649, 0.015702328162124437), (650, 0.0), (651, 0.027930725632666104), (652, 0.011354753318585067), (653, 0.009658577415655869), (654, 0.008612816300471523), (655, 0.030434257936626616), (656, 0.00909110164501751), (657, 0.017280671837709014), (658, 0.017574227520920808), (659, 0.03600691134709895), (660, 0.0030599185259510553), (661, 0.0), (662, 0.024454116205898185), (663, 0.02412358758824692), (664, 0.0073251279406111635), (665, 0.020344816573944696), (666, 0.0), (667, 0.03995335604557463), (668, 0.006465026705306103), (669, 0.02545902877825702), (670, 0.00361006575287586), (671, 0.0), (672, 0.0026120859101890406), (673, 0.02482322470249807), (674, 0.0), (675, 0.012106183850918866), (676, 0.01076228786160182), (677, 0.01151162339907836), (678, 0.008908634195965237), (679, 0.009972803260309544), (680, 0.003115291480040424), (681, 0.0), (682, 0.009190594958480876), (683, 0.01253236186631718), (684, 0.020275660890313324), (685, 0.030643058895990827), (686, 0.0), (687, 0.03130294452443848), (688, 0.024467068185482128), (689, 0.01151916522854774), (690, 0.04461944286529378), (691, 0.0023675454834965596), (692, 0.06516906630207421), (693, 0.00285109445574182), (694, 0.02251014476625226), (695, 0.018253600289125108), (696, 0.011658627795835003), (697, 0.01348956321789665), (698, 0.0027715118560603345), (699, 0.0), (700, 0.0), (701, 0.012391933639568206), (702, 0.008096028686671017), (703, 0.05025753943037659), (704, 0.012592717886692261), (705, 0.02119187175817866), (706, 0.002326665671755712), (707, 0.016399519573912988), (708, 0.021674789395971956), (709, 0.01449215502602143), (710, 0.008038993813890645), (711, 0.0), (712, 0.010233233138225849), (713, 0.008238480035922946), (714, 0.0), (715, 0.0032324909844870906), (716, 0.003071802557064873), (717, 0.025689643563470768), (718, 0.025686814084245366), (719, 0.017744041167104936), (720, 0.0), (721, 0.04721185406864495), (722, 0.02519252251123193), (723, 0.018374425434814014), (724, 0.0), (725, 0.0), (726, 0.02325414256776324), (727, 0.0028780101606116692), (728, 0.003159473739941435), (729, 0.01625329073216742), (730, 0.0), (731, 0.0028021164495083237), (732, 0.03291237848846514), (733, 0.035268952581731884), (734, 0.0027434023876394937), (735, 0.004000003724616802), (736, 0.0), (737, 0.016439578071213445), (738, 0.014257262403799187), (739, 0.051752882257207), (740, 0.0077701432307954385), (741, 0.0), (742, 0.023574712744487445), (743, 0.02386975021356988), (744, 0.0027090017172629512), (745, 0.007555474974034924), (746, 0.010257519912471522), (747, 0.0), (748, 0.0), (749, 0.002931090125587742), (750, 0.0029843284625539605), (751, 0.012675396738468741), (752, 0.0), (753, 0.019503776769815438), (754, 0.0), (755, 0.0028468038389807427), (756, 0.00922378040425067), (757, 0.008867418444692323), (758, 0.0), (759, 0.0026670674191343236), (760, 0.022734750893309837), (761, 0.0029297642296376237), (762, 0.028908192333174654), (763, 0.010994723478865334), (764, 0.016996872467286754), (765, 0.0), (766, 0.0027104344430962162), (767, 0.010987385650824992), (768, 0.0), (769, 0.02362411961630855), (770, 0.0), (771, 0.023384050777983667), (772, 0.0), (773, 0.03631401155183755), (774, 0.003035214313041555), (775, 0.0), (776, 0.0), (777, 0.017518085048335668), (778, 0.017050828904083416), (779, 0.0), (780, 0.0), (781, 0.03567489860461309), (782, 0.027760917732744757), (783, 0.0030858066482620005), (784, 0.017139907227948684), (785, 0.008658491962012268), (786, 0.07794432356724887), (787, 0.04347711524878203), (788, 0.005379207649142427), (789, 0.0), (790, 0.030495999167797813), (791, 0.014431136312156333), (792, 0.01180858010430564), (793, 0.09735248327661346), (794, 0.03365706220597387), (795, 0.019317134213648838), (796, 0.0024319920472826166), (797, 0.0090310171643085), (798, 0.013909377712164337), (799, 0.010821910304777443), (800, 0.0026329768030002206), (801, 0.01541220885641938), (802, 0.009468392847164626), (803, 0.0), (804, 0.013109496905045252), (805, 0.012422221392279487), (806, 0.020386167917230132), (807, 0.03652824580701042), (808, 0.026252513826935713), (809, 0.008883819910093606), (810, 0.01789860814336424), (811, 0.0), (812, 0.03619075540345843), (813, 0.021898656010511025), (814, 0.0346808763594447), (815, 0.002617046346786653), (816, 0.026134088667333397), (817, 0.014104934541583302), (818, 0.034000176222895466), (819, 0.01566787840054652), (820, 0.007643850972563569), (821, 0.01513918462084381), (822, 0.03390403507355648), (823, 0.0033764953812322517), (824, 0.015380505344992409), (825, 0.007925558032220342), (826, 0.003124103942500977), (827, 0.015961567527452123), (828, 0.01048665531630684), (829, 0.018147047588069863), (830, 0.02636346330991157), (831, 0.020423509950786428), (832, 0.002978493663410436), (833, 0.01854712770796539), (834, 0.01155132006675377), (835, 0.011011411758405235), (836, 0.0), (837, 0.008952463839076564), (838, 0.0027238654573473126), (839, 0.01315797996211312), (840, 0.042179633196356536), (841, 0.0), (842, 0.00999207083393563), (843, 0.0024089899098979593), (844, 0.006314776732304636), (845, 0.040468327780578225), (846, 0.00886066682222799), (847, 0.06127760018614836), (848, 0.04155504395266353), (849, 0.06684647886608909), (850, 0.014838351411166725), (851, 0.009724993530600716), (852, 0.0028021248378312853), (853, 0.021964304474332653), (854, 0.039522310117740156), (855, 0.013297764206572645), (856, 0.040741320832122105), (857, 0.003234803915844553), (858, 0.001977876272498834), (859, 0.008179688007267132), (860, 0.02635587909847232), (861, 0.002522519146874684), (862, 0.007119108860832931), (863, 0.04746085951975046), (864, 0.011217328708218064), (865, 0.01189309307444146), (866, 0.03805128923583184), (867, 0.002886986279236584), (868, 0.0027197681633090933), (869, 0.008378503358652343), (870, 0.010854891612139686), (871, 0.08815569846198817), (872, 0.0031360153947251118), (873, 0.011248201785265357), (874, 0.009573346382592718), (875, 0.020497655869350165), (876, 0.012670981615204744), (877, 0.0), (878, 0.010485161560304879), (879, 0.011581633838825685), (880, 0.014366168390330943), (881, 0.0), (882, 0.0), (883, 0.002798243929266303), (884, 0.030982122546961352), (885, 0.013073514110997674), (886, 0.012593903459538473), (887, 0.03237955583644685), (888, 0.012303402582229268), (889, 0.036082894719689826), (890, 0.0030550984992252957), (891, 0.009115189444969848), (892, 0.025696376969125634), (893, 0.0), (894, 0.019568923757428414), (895, 0.010791120643022154), (896, 0.05416740344082521), (897, 0.002951607240329605), (898, 0.0077952958032742005), (899, 0.0027002992494704493), (900, 0.012560031161671224), (901, 0.028527107036171975), (902, 0.0), (903, 0.0027458595335935034), (904, 0.05467534297099473), (905, 0.009453017285589402), (906, 0.016499119683932268), (907, 0.002693843795556958), (908, 0.01718842212750538), (909, 0.01674572679073575), (910, 0.0026815003351632104), (911, 0.0027751985341203504), (912, 0.0076092044797939525), (913, 0.0), (914, 0.0), (915, 0.007863361623498146), (916, 0.032450669578965384), (917, 0.002622020746291319), (918, 0.017411896858571578), (919, 0.0), (920, 0.0925279147127268), (921, 0.0027262789892681244), (922, 0.003286518506984807), (923, 0.0028210092935245625), (924, 0.04049869304098984), (925, 0.0033682375757784475), (926, 0.006749225148862004), (927, 0.010303389312656657), (928, 0.035660994076970154), (929, 0.038958920762024965), (930, 0.025407538776202835), (931, 0.008166160462420656), (932, 0.0), (933, 0.002991655141585152), (934, 0.0026697297314020227), (935, 0.0027246462700068314), (936, 0.002635719108544608), (937, 0.012969736660906719), (938, 0.008673878209661695), (939, 0.01863270172209589), (940, 0.03929464724061075), (941, 0.0027436079157638197), (942, 0.009024848117692974), (943, 0.0), (944, 0.0027291974807552417), (945, 0.011792439913260054), (946, 0.05931263398031094), (947, 0.03068448763610302), (948, 0.0102892958000349), (949, 0.0034843217488841234), (950, 0.0), (951, 0.03416253381254906), (952, 0.0031665706648416345), (953, 0.009325872666838049), (954, 0.0), (955, 0.013731649047936731), (956, 0.022240589913243333), (957, 0.0026748250879501632), (958, 0.009600918990059897), (959, 0.023250574289663664), (960, 0.0), (961, 0.02915251388380718), (962, 0.01845206328620697), (963, 0.0027382086889314694), (964, 0.0), (965, 0.0), (966, 0.002765804652769569), (967, 0.014831232725056976), (968, 0.002653537773652798), (969, 0.013711243824012169), (970, 0.0), (971, 0.008906979451798523), (972, 0.0379851526480527), (973, 0.0028860180475711547), (974, 0.009833155726596933), (975, 0.012575728708807708), (976, 0.019684366395389563), (977, 0.0), (978, 0.04435782224957701), (979, 0.009288320664593558), (980, 0.0030275375974367865), (981, 0.010427632401469126), (982, 0.039174562320623205), (983, 0.0), (984, 0.01101752590252783), (985, 0.003350935501234381), (986, 0.011092657403062011), (987, 0.024093275279546057), (988, 0.011026281608097738), (989, 0.037327333634085774), (990, 0.0), (991, 0.02644329898869419), (992, 0.012459285821721067), (993, 0.002950873246532083), (994, 0.01128142907840961), (995, 0.0), (996, 0.0), (997, 0.0), (998, 0.0033207817036195434), (999, 0.0033180638752408377), (1000, 0.009984797372632567), (1001, 0.002791875843060773), (1002, 0.002791052117996638), (1003, 0.0), (1004, 0.002625611365851912), (1005, 0.00848512064665602), (1006, 0.003060401102837523), (1007, 0.003083854975077073), (1008, 0.0), (1009, 0.010275311506898255), (1010, 0.0), (1011, 0.0), (1012, 0.0), (1013, 0.022934404541747788), (1014, 0.0), (1015, 0.0401062603785966), (1016, 0.0), (1017, 0.01079007994484003), (1018, 0.02605349461422861), (1019, 0.005559485418012376), (1020, 0.002810366014243857), (1021, 0.002917855931981543), (1022, 0.025881977582446834), (1023, 0.003292767180086607), (1024, 0.008511194476702306), (1025, 0.0), (1026, 0.07054814825043952), (1027, 0.002801119260327562), (1028, 0.029440592144412078), (1029, 0.011020796149768437), (1030, 0.013003417250004878), (1031, 0.0), (1032, 0.023267425442356365), (1033, 0.018652684578125123), (1034, 0.07547506603012447), (1035, 0.03050493931255518), (1036, 0.03544690404008706), (1037, 0.002382902484002297), (1038, 0.010636391889640882), (1039, 0.015028110443988503), (1040, 0.0022879318553489024), (1041, 0.010872382457684873), (1042, 0.009673679405000185), (1043, 0.02130692486735791), (1044, 0.0225022637973174), (1045, 0.0), (1046, 0.0), (1047, 0.008514077903305935), (1048, 0.003044054537478557), (1049, 0.0034735117319280614), (1050, 0.009457329114035518), (1051, 0.0), (1052, 0.03294254700736233), (1053, 0.026755212727941), (1054, 0.007716352017957032), (1055, 0.029146729336360238), (1056, 0.012671143116884094), (1057, 0.0), (1058, 0.010016118790705334), (1059, 0.013297392592172285), (1060, 0.0028263061726838856), (1061, 0.01514715561249563), (1062, 0.014470891803438192), (1063, 0.007895600119260097), (1064, 0.013449398300110427), (1065, 0.0026773935716501744), (1066, 0.0), (1067, 0.010018395953917118), (1068, 0.05181605319490792), (1069, 0.0), (1070, 0.0), (1071, 0.06244218074051012), (1072, 0.019311530777614553), (1073, 0.0), (1074, 0.018733245856241768), (1075, 0.0030858423319262756), (1076, 0.044972835384419194), (1077, 0.0029926412551662326), (1078, 0.00924483124725946), (1079, 0.018608948379835927), (1080, 0.03643054219250844), (1081, 0.010714742766492653), (1082, 0.027710128638506134), (1083, 0.0030478451269172293), (1084, 0.0631360622781526), (1085, 0.010708435250320081), (1086, 0.008082341620479905), (1087, 0.00297810862576466), (1088, 0.0025041068203755304), (1089, 0.0), (1090, 0.007591662831898741), (1091, 0.0), (1092, 0.026225414889140035), (1093, 0.0), (1094, 0.0), (1095, 0.0), (1096, 0.002849835382810381), (1097, 0.0), (1098, 0.002388695923719624), (1099, 0.0), (1100, 0.002880848733903491), (1101, 0.03203020038721493), (1102, 0.0029073007333183906), (1103, 0.0351876361565449), (1104, 0.008601203700376451), (1105, 0.0), (1106, 0.0), (1107, 0.020101654145658572), (1108, 0.0), (1109, 0.0032481970866512547), (1110, 0.02843655793764634), (1111, 0.0), (1112, 0.0029176164366414518), (1113, 0.0), (1114, 0.002698096559406247), (1115, 0.013132411348887324), (1116, 0.01782447923353371), (1117, 0.002814074311434394), (1118, 0.024233725218790626), (1119, 0.021091212496598538), (1120, 0.0), (1121, 0.0036699896566766005), (1122, 0.03826347768718753), (1123, 0.018530400180713863), (1124, 0.0030369740057103025), (1125, 0.007852679710379302), (1126, 0.0), (1127, 0.0), (1128, 0.05279428346584699), (1129, 0.0), (1130, 0.06174579785567906), (1131, 0.002939105158493312), (1132, 0.01831631863750746), (1133, 0.010481490497017083), (1134, 0.0), (1135, 0.0), (1136, 0.01706007965956871), (1137, 0.027417129908987113), (1138, 0.002963221138610462), (1139, 0.020415466047734743), (1140, 0.03611865357764449), (1141, 0.011863469599218888), (1142, 0.0), (1143, 0.025517377838745817), (1144, 0.0023354570252850015), (1145, 0.004050703014205024), (1146, 0.02427678700815772), (1147, 0.0), (1148, 0.012533911721462582), (1149, 0.0), (1150, 0.017870411112332583), (1151, 0.021764136220408285), (1152, 0.0), (1153, 0.045478350864763734), (1154, 0.0), (1155, 0.0), (1156, 0.039439042351901335), (1157, 0.007939739766941461), (1158, 0.0), (1159, 0.0), (1160, 0.02626290738316418), (1161, 0.0026442811991366846), (1162, 0.008915333521259762), (1163, 0.0029241662354642494), (1164, 0.0), (1165, 0.04469211317133195), (1166, 0.016888897569303354), (1167, 0.011507852197937726), (1168, 0.034740257142959016), (1169, 0.0034283735691370636), (1170, 0.0029326204159923134), (1171, 0.0), (1172, 0.016588475569331216), (1173, 0.07743458529126529), (1174, 0.00299465442726957), (1175, 0.06621728223904112), (1176, 0.002990166504484993), (1177, 0.012654308647769286), (1178, 0.0), (1179, 0.0029289229425405877), (1180, 0.008060201023008046), (1181, 0.0), (1182, 0.002988709780872892), (1183, 0.0103040620401607), (1184, 0.012664500398904724), (1185, 0.020879146092041286), (1186, 0.010170308890673165), (1187, 0.03294097440336715), (1188, 0.003074629500047424), (1189, 0.0), (1190, 0.0), (1191, 0.011628373982910882), (1192, 0.0030691348927451897), (1193, 0.017321785769011562), (1194, 0.00713972014190542), (1195, 0.012072081461624017), (1196, 0.011570119496649666), (1197, 0.047625836940009755), (1198, 0.0), (1199, 0.002584092822996215), (1200, 0.06563838260595906), (1201, 0.0), (1202, 0.0600430122643129), (1203, 0.0027503929829906307), (1204, 0.002972093985766228), (1205, 0.023094646384629682), (1206, 0.002738378199182706), (1207, 0.008266949826895933), (1208, 0.0037346306772138484), (1209, 0.002441083650700634), (1210, 0.0), (1211, 0.0), (1212, 0.0), (1213, 0.0071784252309505855), (1214, 0.006852208640523809), (1215, 0.009914361571420054), (1216, 0.026233902301566577), (1217, 0.00254313446949734), (1218, 0.0), (1219, 0.010390884061611424), (1220, 0.002643912525199612), (1221, 0.014388401870091362), (1222, 0.0), (1223, 0.011627493617130604), (1224, 0.011588124414594295), (1225, 0.012219078837596762), (1226, 0.028886173414391807), (1227, 0.0), (1228, 0.0), (1229, 0.012092272382429735), (1230, 0.007843592326019123), (1231, 0.007830646442170982), (1232, 0.036488270705129396), (1233, 0.009066726119344871), (1234, 0.01175534541849914), (1235, 0.0), (1236, 0.02249941830020925), (1237, 0.025117201613387187), (1238, 0.0), (1239, 0.010408658251866576), (1240, 0.0), (1241, 0.0024081356238829328), (1242, 0.0), (1243, 0.03272362326430268), (1244, 0.0), (1245, 0.002839502927355967), (1246, 0.0), (1247, 0.0028293317665226006), (1248, 0.030850215685340045), (1249, 0.024110924683552803), (1250, 0.011870075601771968), (1251, 0.04022792462627698), (1252, 0.0109985910260938), (1253, 0.010357488571331125), (1254, 0.00300222451864495), (1255, 0.046708745357417994), (1256, 0.008170366823706438), (1257, 0.01141368721729793), (1258, 0.0), (1259, 0.007469040722214898), (1260, 0.009115586192190479), (1261, 0.024282002883757307), (1262, 0.0), (1263, 0.024759695637933912), (1264, 0.01337214490174499), (1265, 0.0), (1266, 0.0), (1267, 0.0), (1268, 0.0), (1269, 0.0), (1270, 0.007933080831715771), (1271, 0.012219142245312849), (1272, 0.02069930530851884), (1273, 0.002787895618232745), (1274, 0.0), (1275, 0.012809073975397139), (1276, 0.01845317351843761), (1277, 0.0021905671800369502), (1278, 0.0), (1279, 0.0255599785842213), (1280, 0.0), (1281, 0.028762012647520676), (1282, 0.008736304096888744), (1283, 0.033659916132294666), (1284, 0.01127518927905076), (1285, 0.024037952094640387), (1286, 0.0028717668328621087), (1287, 0.0), (1288, 0.0), (1289, 0.0), (1290, 0.017074475754086327), (1291, 0.0), (1292, 0.02432880599927104), (1293, 0.0), (1294, 0.0030071620230378597), (1295, 0.032334200323611666), (1296, 0.007112212008860377), (1297, 0.05976364315859234), (1298, 0.0029131004028761617), (1299, 0.0), (1300, 0.014226916545659262), (1301, 0.0025592059565143948), (1302, 0.0), (1303, 0.008950377955967856), (1304, 0.037596079589302514), (1305, 0.0024217109368152544), (1306, 0.027368136612041884), (1307, 0.0), (1308, 0.01062666487786365), (1309, 0.007406001338082534), (1310, 0.014953767488143392), (1311, 0.0), (1312, 0.009774608353662742), (1313, 0.0028865807616841616), (1314, 0.01837178731165324), (1315, 0.029015221714168805), (1316, 0.044623386863787376), (1317, 0.016005607132860977), (1318, 0.010329918467860376), (1319, 0.002873963286439667), (1320, 0.006414878240273824), (1321, 0.034331156505490394), (1322, 0.0), (1323, 0.014202798789669402), (1324, 0.014329488027368498), (1325, 0.01203230952372771), (1326, 0.013525280216491221), (1327, 0.0), (1328, 0.0), (1329, 0.010365573030237753), (1330, 0.01651644171772873), (1331, 0.010674600044893283), (1332, 0.0), (1333, 0.0), (1334, 0.042017966935728575), (1335, 0.019951194065624664), (1336, 0.0), (1337, 0.01132877186842587), (1338, 0.010918471233131036), (1339, 0.022964580562683475), (1340, 0.06156604802992787), (1341, 0.0), (1342, 0.008771437621127543), (1343, 0.009714347258843431), (1344, 0.02209900113302686), (1345, 0.0), (1346, 0.0), (1347, 0.040977853169555496), (1348, 0.007118036580154189), (1349, 0.003300605311760088), (1350, 0.0028534222953300126), (1351, 0.036768938624794724), (1352, 0.012380956175646768), (1353, 0.027579261225111763), (1354, 0.02670874614778345), (1355, 0.002999782653407946), (1356, 0.00247934956308073), (1357, 0.010673998421291589), (1358, 0.0), (1359, 0.0374478974948417), (1360, 0.01010335832803643), (1361, 0.010669991999759834), (1362, 0.023417463986073632), (1363, 0.0), (1364, 0.0030416904594091753), (1365, 0.00978091968188438), (1366, 0.00264238349159026), (1367, 0.04759883419510873), (1368, 0.0), (1369, 0.009085946101812344), (1370, 0.0025258039460963598), (1371, 0.009077463423820167), (1372, 0.0027478889238907733), (1373, 0.0), (1374, 0.0), (1375, 0.013853185582442584), (1376, 0.0), (1377, 0.008954942891564672), (1378, 0.019481109874268907), (1379, 0.015000687283407588), (1380, 0.0), (1381, 0.0), (1382, 0.01195547555088063), (1383, 0.003306710284459061), (1384, 0.00770159036069822), (1385, 0.011115092812061978), (1386, 0.0), (1387, 0.06801079044558528), (1388, 0.008207384481550457), (1389, 0.0), (1390, 0.034342078660378444), (1391, 0.0), (1392, 0.011943633980420174), (1393, 0.008580472916572178), (1394, 0.03152632787796286), (1395, 0.0), (1396, 0.0), (1397, 0.002533180717137332), (1398, 0.01687281117113306), (1399, 0.0), (1400, 0.003087837422321392), (1401, 0.029793103169862403), (1402, 0.02316042434894039), (1403, 0.00225064545040226), (1404, 0.0027689959097818625), (1405, 0.007607597179439743), (1406, 0.007986615149872733), (1407, 0.01116272584064096), (1408, 0.02399223961288294), (1409, 0.0031338626840725467), (1410, 0.03310939343427768), (1411, 0.01144564554007824), (1412, 0.016014472518897007), (1413, 0.0029729158705136044), (1414, 0.002613322745782908), (1415, 0.0024000240225712332), (1416, 0.011068574383085186), (1417, 0.0086654860296215), (1418, 0.012735464358634197), (1419, 0.02991254779279942), (1420, 0.021616793905254585), (1421, 0.011166112129513246), (1422, 0.002852153394499521), (1423, 0.002599753848403922), (1424, 0.0529285433078405), (1425, 0.008802989167606896), (1426, 0.0), (1427, 0.0024012847640535987), (1428, 0.05016358987753851), (1429, 0.017522278837960426), (1430, 0.009767116514504966), (1431, 0.008860907408975788), (1432, 0.00851216597822359), (1433, 0.002725273762540571), (1434, 0.0026744704465256424), (1435, 0.008846898310593286), (1436, 0.02096875633399993), (1437, 0.0), (1438, 0.06097586921277698), (1439, 0.003067123785364264), (1440, 0.011272507031015906), (1441, 0.0), (1442, 0.005800151526150204), (1443, 0.0), (1444, 0.05174541216958875), (1445, 0.017311148784769918), (1446, 0.0028071726848524553), (1447, 0.01630466828810286), (1448, 0.012412564006475597), (1449, 0.0), (1450, 0.02416128677984448), (1451, 0.0), (1452, 0.0), (1453, 0.0), (1454, 0.014754845862846033), (1455, 0.008161872226879219), (1456, 0.010750922286582552), (1457, 0.008058666065957629), (1458, 0.047044390196903395), (1459, 0.00851769981607136), (1460, 0.0), (1461, 0.028789876327862084), (1462, 0.0026868415743733966), (1463, 0.07512798298230512), (1464, 0.0023995377582097565), (1465, 0.01690408520621599), (1466, 0.019314804128180273), (1467, 0.0), (1468, 0.0), (1469, 0.02174853345279074), (1470, 0.025988532450221924), (1471, 0.008232164542492919), (1472, 0.07321265787973676), (1473, 0.03437630231783341), (1474, 0.02170175776123328), (1475, 0.003053772783399124), (1476, 0.011734825819610576), (1477, 0.0027018933369912608), (1478, 0.010630403658476456), (1479, 0.026254334405247794), (1480, 0.027569781510654416), (1481, 0.01074437359013879), (1482, 0.007563765978449111), (1483, 0.011015027264952907), (1484, 0.025321062345409942), (1485, 0.009476895753532706), (1486, 0.0), (1487, 0.0), (1488, 0.002936694262047533), (1489, 0.04223134570792093), (1490, 0.0), (1491, 0.03602837570284385), (1492, 0.06423053892942088), (1493, 0.010126881304037818), (1494, 0.003017768025801161), (1495, 0.0), (1496, 0.0), (1497, 0.003343153381726847), (1498, 0.021676534608413633), (1499, 0.0032791655518789146), (1500, 0.0028943273424043574), (1501, 0.0), (1502, 0.0), (1503, 0.026230099881653212), (1504, 0.02890048737962817), (1505, 0.021068967328357554), (1506, 0.01912429274077209), (1507, 0.009357950394104362), (1508, 0.011469260954319835), (1509, 0.00758372614597836), (1510, 0.002957264477688374), (1511, 0.017991282159827756), (1512, 0.0), (1513, 0.011564079123501868), (1514, 0.0027109997508986314), (1515, 0.0), (1516, 0.003016805021984193), (1517, 0.011594937612956267), (1518, 0.012474576950236243), (1519, 0.0027088390304951145), (1520, 0.0), (1521, 0.01005837213848181), (1522, 0.0), (1523, 0.007392801114778441), (1524, 0.01585043740793651), (1525, 0.0), (1526, 0.0), (1527, 0.02707933804214628), (1528, 0.023816617392704523), (1529, 0.0), (1530, 0.0), (1531, 0.0), (1532, 0.01994149614621321), (1533, 0.04975069553089713), (1534, 0.0443269431435703), (1535, 0.0), (1536, 0.008497682474820219), (1537, 0.012400789610990507), (1538, 0.002658923098968009), (1539, 0.0026120478411047953), (1540, 0.009546058645043872), (1541, 0.06061016016922217), (1542, 0.025614702053031492), (1543, 0.010671304084699766), (1544, 0.03647955424395277), (1545, 0.01007273122519141), (1546, 0.024907505056422398), (1547, 0.0034117643187720433), (1548, 0.0), (1549, 0.0), (1550, 0.01324623168365609), (1551, 0.031656500128519116), (1552, 0.0), (1553, 0.04955280745889116), (1554, 0.03815443149634065), (1555, 0.002726991141971615), (1556, 0.0), (1557, 0.008891852452605525), (1558, 0.01354904742295292), (1559, 0.01818171432896057), (1560, 0.0), (1561, 0.01841391968365195), (1562, 0.019458883092677463), (1563, 0.0), (1564, 0.0), (1565, 0.03522023913848677), (1566, 0.028237134059419376), (1567, 0.0074024278841818905), (1568, 0.0), (1569, 0.0), (1570, 0.003080694748455869), (1571, 0.009576144448015737), (1572, 0.020507257615049197), (1573, 0.0), (1574, 0.0029560819267853053), (1575, 0.02371656359691777), (1576, 0.0), (1577, 0.060234914573478626), (1578, 0.0), (1579, 0.020402161359527334), (1580, 0.0032324033723873827), (1581, 0.01963126185134394), (1582, 0.020741900935716283), (1583, 0.0), (1584, 0.015130944356547996), (1585, 0.01911110371385822), (1586, 0.013206428983501875), (1587, 0.02567353969741175), (1588, 0.0), (1589, 0.030174042924741705), (1590, 0.0), (1591, 0.03460193961325507), (1592, 0.05793046921520166), (1593, 0.0035499825410615178), (1594, 0.015040358182971378), (1595, 0.019552069727826648), (1596, 0.03515891345729999), (1597, 0.03620388724550975), (1598, 0.0028916718941819053), (1599, 0.011791467852121203), (1600, 0.0), (1601, 0.0), (1602, 0.0), (1603, 0.0), (1604, 0.0), (1605, 0.017580450952555622), (1606, 0.02621167805467138), (1607, 0.0), (1608, 0.0025856696056226376), (1609, 0.0), (1610, 0.008011778236513958), (1611, 0.0), (1612, 0.0029170002770957135), (1613, 0.010925880876777613), (1614, 0.03493295117387936), (1615, 0.0), (1616, 0.017134369751995615), (1617, 0.002859790777365269), (1618, 0.0), (1619, 0.003121745987151476), (1620, 0.01038019213835708), (1621, 0.01094374017226177), (1622, 0.011448163991167664), (1623, 0.0), (1624, 0.015866181824038532), (1625, 0.002634089180671528), (1626, 0.0), (1627, 0.002504013664803314), (1628, 0.03293086041328986), (1629, 0.011459110466730805), (1630, 0.007753811523601056), (1631, 0.0), (1632, 0.0158855085139522), (1633, 0.0), (1634, 0.011479850355223916), (1635, 0.0), (1636, 0.0), (1637, 0.02091439634560497), (1638, 0.0), (1639, 0.0073256274377453785), (1640, 0.0), (1641, 0.0027164273182006117), (1642, 0.013489799093205022), (1643, 0.03808945015791165), (1644, 0.0), (1645, 0.012977468785893176), (1646, 0.006962567274510999), (1647, 0.019858580133869746), (1648, 0.002187588737634527), (1649, 0.00806461244146493), (1650, 0.002716312559944919), (1651, 0.0), (1652, 0.0), (1653, 0.02402278142366209), (1654, 0.0182864619358039), (1655, 0.003563292428541825), (1656, 0.0033584483694629715), (1657, 0.007815337593860707), (1658, 0.0032431624716158566), (1659, 0.0), (1660, 0.030227213795877762), (1661, 0.0), (1662, 0.015441977054552624), (1663, 0.0027596413151113473), (1664, 0.0), (1665, 0.010394086466842225), (1666, 0.002888731315767097), (1667, 0.010230884886416403), (1668, 0.0), (1669, 0.0), (1670, 0.0030831482375822247), (1671, 0.01865947486775547), (1672, 0.0026816258019253716), (1673, 0.008055920379054027), (1674, 0.008914278319629489), (1675, 0.002668610141349944), (1676, 0.0), (1677, 0.015920489442891605), (1678, 0.028245556856308397), (1679, 0.023517671927378744), (1680, 0.010082008095102185), (1681, 0.00897160588030622), (1682, 0.010869379186006702), (1683, 0.049587602502884395), (1684, 0.0), (1685, 0.0030992754365861985), (1686, 0.0), (1687, 0.01177016835341173), (1688, 0.0029870686319860094), (1689, 0.022772432861532233), (1690, 0.002639223888317798), (1691, 0.03070894142179683), (1692, 0.0), (1693, 0.023129673725481192), (1694, 0.007255440131483396), (1695, 0.014008062898240877), (1696, 0.0), (1697, 0.0), (1698, 0.007474511509313127), (1699, 0.009088059146639514), (1700, 0.020685687514392963), (1701, 0.009196323126723886), (1702, 0.0), (1703, 0.05683493632657591), (1704, 0.011871638982893298), (1705, 0.008750649994565747), (1706, 0.023440396278339083), (1707, 0.011987392613527199), (1708, 0.0031462450654504296), (1709, 0.0), (1710, 0.01843343578956238), (1711, 0.003673445081305332), (1712, 0.003131156857678293), (1713, 0.0), (1714, 0.007911569170892082), (1715, 0.0), (1716, 0.012449829764608442), (1717, 0.03710497502102002), (1718, 0.0), (1719, 0.0026437043761768733), (1720, 0.010462107212523955), (1721, 0.015293485357665799), (1722, 0.0029581049916167362), (1723, 0.0), (1724, 0.027034274304914636), (1725, 0.0), (1726, 0.02227305662217924), (1727, 0.011542139766431156), (1728, 0.0), (1729, 0.0), (1730, 0.0026706346823084873), (1731, 0.0), (1732, 0.0), (1733, 0.0032118903702054477), (1734, 0.0), (1735, 0.00842730405454573), (1736, 0.042849103220703094), (1737, 0.00923058614593113), (1738, 0.018813695418727967), (1739, 0.06142014642055683), (1740, 0.011324280114339967), (1741, 0.016664182123989655), (1742, 0.002769770004648382), (1743, 0.0024934148700942716), (1744, 0.011049659900334198), (1745, 0.007406606169383104), (1746, 0.0), (1747, 0.04824075716313009), (1748, 0.003429641983107287), (1749, 0.0), (1750, 0.00938740850270196), (1751, 0.0), (1752, 0.02663008585918719), (1753, 0.0), (1754, 0.012228900974816567), (1755, 0.0), (1756, 0.04620020165751363), (1757, 0.00852447192229808), (1758, 0.0), (1759, 0.002767804301535859), (1760, 0.0027083539485834953), (1761, 0.02218086858768408), (1762, 0.021976472526576876), (1763, 0.016664289720083762), (1764, 0.010040015515231517), (1765, 0.003029698704018597), (1766, 0.0), (1767, 0.016625262982471436), (1768, 0.011908636582637747), (1769, 0.0), (1770, 0.0), (1771, 0.0), (1772, 0.01010609915727028), (1773, 0.0), (1774, 0.02897695207974772), (1775, 0.0109604855843771), (1776, 0.02889188646837159), (1777, 0.01778015606226401), (1778, 0.0), (1779, 0.014302083756300588), (1780, 0.018845638728913316), (1781, 0.006953094149133779), (1782, 0.048233832560977075), (1783, 0.008142076938563055), (1784, 0.009538196210819893), (1785, 0.0), (1786, 0.0), (1787, 0.008195893535956986), (1788, 0.0), (1789, 0.007545952892502958), (1790, 0.0), (1791, 0.0), (1792, 0.0034424714384278152), (1793, 0.018274490533777304), (1794, 0.034986771335331006), (1795, 0.009497867510428566), (1796, 0.010128751607176446), (1797, 0.0071641808330001645), (1798, 0.003144740590043941), (1799, 0.0), (1800, 0.0), (1801, 0.03096244279830683), (1802, 0.01789334531583631), (1803, 0.0), (1804, 0.0), (1805, 0.0031915580532745087), (1806, 0.02163586606611271), (1807, 0.0028733136786543746), (1808, 0.025945550531195367), (1809, 0.0), (1810, 0.0), (1811, 0.0029057722735563903), (1812, 0.0), (1813, 0.02721977890343385), (1814, 0.002697187695110287), (1815, 0.009459582577828633), (1816, 0.007366310866468368), (1817, 0.010451515811703931), (1818, 0.00820013596472268), (1819, 0.002729078932563371), (1820, 0.02018480267350884), (1821, 0.011649164588538907), (1822, 0.0030922621692212335), (1823, 0.010775293240823838), (1824, 0.028536501452594412), (1825, 0.0), (1826, 0.002648881425188275), (1827, 0.029471311924620384), (1828, 0.0025276079255532376), (1829, 0.011433728670439415), (1830, 0.03188961148502994), (1831, 0.05214369605299129), (1832, 0.008345948181070768), (1833, 0.012480797445779745), (1834, 0.0), (1835, 0.029603816808614306), (1836, 0.012930796982383712), (1837, 0.0), (1838, 0.019088721994477087), (1839, 0.0), (1840, 0.015746598062741497), (1841, 0.0), (1842, 0.0), (1843, 0.022114465762969892), (1844, 0.0), (1845, 0.00979485925937982), (1846, 0.008429707360706803), (1847, 0.05634182256819155), (1848, 0.03526507202656528), (1849, 0.0), (1850, 0.007463772571637993), (1851, 0.0030496795980296566), (1852, 0.01633854718940233), (1853, 0.011750397576633155), (1854, 0.034571093259165006), (1855, 0.0), (1856, 0.017579602955353598), (1857, 0.008518900946876413), (1858, 0.02417519354674174), (1859, 0.0), (1860, 0.003012564624684606), (1861, 0.00841455815235768), (1862, 0.01632393026124697), (1863, 0.009071771448975143), (1864, 0.002817485034259702), (1865, 0.002657466320256986), (1866, 0.00319860183149566), (1867, 0.02004762998477231), (1868, 0.0), (1869, 0.013196627205016282), (1870, 0.0), (1871, 0.0023314991537546326), (1872, 0.0029627832970128215), (1873, 0.010514474559376838), (1874, 0.011997125180290582), (1875, 0.01786987822214136), (1876, 0.002946157249668513), (1877, 0.002795288713934558), (1878, 0.010997666818492532), (1879, 0.0), (1880, 0.0), (1881, 0.0173294659906654), (1882, 0.002870116914850152), (1883, 0.02143629439280431), (1884, 0.0027379526341987956), (1885, 0.0034322926041036373), (1886, 0.0023282942691428598), (1887, 0.0165174699954148), (1888, 0.042795205356044315), (1889, 0.0), (1890, 0.021634816523970306), (1891, 0.011482194124199208), (1892, 0.0026599649637448234), (1893, 0.0030896442148058293), (1894, 0.0), (1895, 0.008151633366478526), (1896, 0.00310759362099157), (1897, 0.003176107529062675), (1898, 0.0), (1899, 0.008067056636195608), (1900, 0.0), (1901, 0.0), (1902, 0.012174612461340184), (1903, 0.0), (1904, 0.0), (1905, 0.0031936446539934144), (1906, 0.0), (1907, 0.02651654688060956), (1908, 0.0), (1909, 0.0033248947647486872), (1910, 0.0), (1911, 0.0), (1912, 0.011150133544230969), (1913, 0.0189053948883018), (1914, 0.0), (1915, 0.026448342495796452), (1916, 0.0030869124534531915), (1917, 0.0), (1918, 0.07094625163838013), (1919, 0.022779032793845095), (1920, 0.05410173252735103), (1921, 0.002617943296850184), (1922, 0.011206315523088862), (1923, 0.051758176684605875), (1924, 0.0033465901669190684), (1925, 0.053140096750324634), (1926, 0.0), (1927, 0.0), (1928, 0.0), (1929, 0.0027925954768147623), (1930, 0.008747680521680335), (1931, 0.002992946296467872), (1932, 0.008985473975853624), (1933, 0.021157300368739734), (1934, 0.0026155980820703434), (1935, 0.0), (1936, 0.11100897190029745), (1937, 0.01605363586541226), (1938, 0.0), (1939, 0.021937779546319286), (1940, 0.02947808814117988), (1941, 0.0), (1942, 0.011294231615822653), (1943, 0.027107739623087115), (1944, 0.03974820314884857), (1945, 0.00823383447826191), (1946, 0.003010149556184503), (1947, 0.003400560641966949), (1948, 0.0), (1949, 0.00847187476362765), (1950, 0.009460935671683306), (1951, 0.0031079490419372202), (1952, 0.0), (1953, 0.0), (1954, 0.010260261738066868), (1955, 0.0), (1956, 0.02195443990711818), (1957, 0.0), (1958, 0.02600647643119095), (1959, 0.0031687116483871815), (1960, 0.0032433282473570573), (1961, 0.0), (1962, 0.0), (1963, 0.027315354007839625), (1964, 0.029460726642525577), (1965, 0.0), (1966, 0.011316430766853541), (1967, 0.010784429570322366), (1968, 0.027279192416129007), (1969, 0.002826952277546117), (1970, 0.06225319300501564), (1971, 0.0167438739612455), (1972, 0.0), (1973, 0.03574882336032114), (1974, 0.019198903504643636), (1975, 0.0), (1976, 0.0), (1977, 0.002608133124793141), (1978, 0.017074684139877172), (1979, 0.018678066741845495), (1980, 0.002627400417360301), (1981, 0.0310032061291296), (1982, 0.010667239363312602), (1983, 0.03344126870746689), (1984, 0.0), (1985, 0.05419407210768304), (1986, 0.008081700774498343), (1987, 0.015444353783599173), (1988, 0.0), (1989, 0.008916282056950088), (1990, 0.03487105541070044), (1991, 0.0), (1992, 0.015718643688938865), (1993, 0.021148494509164124), (1994, 0.0), (1995, 0.0031498555966044096), (1996, 0.011190235618442452), (1997, 0.02093938229411156), (1998, 0.025410777063495253), (1999, 0.013155484812275827), (2000, 0.02390804138484417), (2001, 0.0), (2002, 0.0), (2003, 0.010147947057727143), (2004, 0.0027531930287708613), (2005, 0.007781007439127512), (2006, 0.0), (2007, 0.007898530904267384), (2008, 0.018961373104572368), (2009, 0.013793539994007972), (2010, 0.0023133335838055576), (2011, 0.01769480583628405), (2012, 0.05808456407105719), (2013, 0.006894532100132506), (2014, 0.02688844530320457), (2015, 0.0), (2016, 0.055716580275846146), (2017, 0.0), (2018, 0.0), (2019, 0.011566259554319325), (2020, 0.0), (2021, 0.0), (2022, 0.006862720708581553), (2023, 0.018149223841552223), (2024, 0.03552872592852678), (2025, 0.007138283094173013), (2026, 0.06008135942862341), (2027, 0.0028256555048381963), (2028, 0.0), (2029, 0.02109304804598628), (2030, 0.0), (2031, 0.0026433730724875768), (2032, 0.0), (2033, 0.0), (2034, 0.009542669424859655), (2035, 0.017143058852113698), (2036, 0.0), (2037, 0.012097975286387395), (2038, 0.0), (2039, 0.002464054308743323), (2040, 0.012264133119634361), (2041, 0.0), (2042, 0.091904878079033), (2043, 0.007836071379295538), (2044, 0.012370592592453928), (2045, 0.03329258374166843), (2046, 0.0), (2047, 0.01023521853845612), (2048, 0.0030150270469165466), (2049, 0.039677221517916576), (2050, 0.0), (2051, 0.003328189165867248), (2052, 0.0), (2053, 0.011461029731446129), (2054, 0.009086287154246595), (2055, 0.010061244122322819), (2056, 0.037095897958795504), (2057, 0.029405998103140936), (2058, 0.0), (2059, 0.0), (2060, 0.02947648239008662), (2061, 0.019748216626432398), (2062, 0.016042916154704878), (2063, 0.0), (2064, 0.02075375936299042), (2065, 0.009973484100827983), (2066, 0.009192877077294836), (2067, 0.0029469411283625205), (2068, 0.0027835480935821137), (2069, 0.03874486803121904), (2070, 0.0168969308058734), (2071, 0.0), (2072, 0.00303539917651906), (2073, 0.0029854740992203872), (2074, 0.007639312709471621), (2075, 0.09192927437027043), (2076, 0.009362684626131735), (2077, 0.00996600202858481), (2078, 0.006882080466246032), (2079, 0.02317310338091855), (2080, 0.01072568758890284), (2081, 0.0), (2082, 0.04122643233139236), (2083, 0.07306759288470754), (2084, 0.0), (2085, 0.010943941372946226), (2086, 0.017646205294913613), (2087, 0.01903301973461021), (2088, 0.0030690774178797455), (2089, 0.0034420915043185773), (2090, 0.0), (2091, 0.002970101236007538), (2092, 0.0), (2093, 0.050706897013073404), (2094, 0.0), (2095, 0.02096223486250741), (2096, 0.011832364063549282), (2097, 0.012080240120488465), (2098, 0.0), (2099, 0.0027379818684619478), (2100, 0.01842148604187858), (2101, 0.0), (2102, 0.04028214293345172), (2103, 0.014192526026102933), (2104, 0.025564482694505175), (2105, 0.003119302628123903), (2106, 0.0), (2107, 0.031527604121735886), (2108, 0.003251332403448824), (2109, 0.002952845170108066), (2110, 0.00749773373315316), (2111, 0.002869398792272022), (2112, 0.02180344996725073), (2113, 0.0), (2114, 0.007285098997529007), (2115, 0.0), (2116, 0.0031615743615068847), (2117, 0.0028098516365757265), (2118, 0.058242329757033404), (2119, 0.0075806907445553386), (2120, 0.008063487961159327), (2121, 0.002788766583423694), (2122, 0.028304211146674356), (2123, 0.0030320435119649864), (2124, 0.02786490911452793), (2125, 0.0), (2126, 0.011448454005475553), (2127, 0.0024591538204808117), (2128, 0.0), (2129, 0.031257125711069735), (2130, 0.020519679512881032), (2131, 0.021217431733294042), (2132, 0.009676554247807468), (2133, 0.0027707203257828204), (2134, 0.003276574947734629), (2135, 0.007891184324455302), (2136, 0.0), (2137, 0.004151810818641353), (2138, 0.0), (2139, 0.0), (2140, 0.0), (2141, 0.002799898453275958), (2142, 0.003416434566704503), (2143, 0.02687878426250012), (2144, 0.002954786504483186), (2145, 0.014681048666641718), (2146, 0.002503387689778889), (2147, 0.009184974307265293), (2148, 0.03086561317875857), (2149, 0.0027370098665342123), (2150, 0.0), (2151, 0.003123213639014146), (2152, 0.07494490684474617), (2153, 0.05509091501523733), (2154, 0.014219390596974956), (2155, 0.0029805362655572166), (2156, 0.0), (2157, 0.0586512902882364), (2158, 0.056555523497962626), (2159, 0.02145824763594005), (2160, 0.0), (2161, 0.0), (2162, 0.023201371419833035), (2163, 0.010335063891132402), (2164, 0.0), (2165, 0.055669327685833034), (2166, 0.030852137137890322), (2167, 0.0), (2168, 0.0), (2169, 0.0029482645088875392), (2170, 0.010891098325927525), (2171, 0.0), (2172, 0.0), (2173, 0.00288455089347346), (2174, 0.011003616063194022), (2175, 0.0), (2176, 0.06459340334748372), (2177, 0.0), (2178, 0.016365478548346007), (2179, 0.0), (2180, 0.01200716252520138), (2181, 0.02463694107915051), (2182, 0.0), (2183, 0.0), (2184, 0.007676314864374598), (2185, 0.019444583013024073), (2186, 0.0), (2187, 0.013293347672652075), (2188, 0.014135742529230081), (2189, 0.004112002994426053), (2190, 0.0031575444624341725), (2191, 0.002627086289778929), (2192, 0.0029499926725191487), (2193, 0.0029559762422938706), (2194, 0.03969734652719534), (2195, 0.04046937711340453), (2196, 0.03199833570403906), (2197, 0.0), (2198, 0.0), (2199, 0.0387637206821357), (2200, 0.0), (2201, 0.0027249971544865597), (2202, 0.0), (2203, 0.007918185893612371), (2204, 0.009872507172918765), (2205, 0.008099925185159847), (2206, 0.007810945761177743), (2207, 0.0), (2208, 0.009171513800106914), (2209, 0.0032612030071230633), (2210, 0.019595347730832876), (2211, 0.0024545273927659966), (2212, 0.011077065780235148), (2213, 0.011979391562808585), (2214, 0.01207000894560201), (2215, 0.01093141392789705), (2216, 0.027841227881960737), (2217, 0.012192097554446685), (2218, 0.0), (2219, 0.0), (2220, 0.0), (2221, 0.012117163621850767), (2222, 0.01707438260947603), (2223, 0.0033306699420884494), (2224, 0.010533945258679983), (2225, 0.01514073299726228), (2226, 0.002864367979114119), (2227, 0.022464289004416306), (2228, 0.010576439044870056), (2229, 0.012131679839566978), (2230, 0.014968792610630974), (2231, 0.0), (2232, 0.011377904687731642), (2233, 0.0), (2234, 0.0), (2235, 0.008397050425702199), (2236, 0.0026581595459685644), (2237, 0.017108896294404322), (2238, 0.0), (2239, 0.008440927744954354), (2240, 0.039176956261386155), (2241, 0.0), (2242, 0.01849644827509658), (2243, 0.0), (2244, 0.0), (2245, 0.008358003558509443), (2246, 0.0), (2247, 0.0), (2248, 0.0026335291548169448), (2249, 0.0), (2250, 0.07252623559726025), (2251, 0.02712846415178801), (2252, 0.00880466712395375), (2253, 0.0), (2254, 0.011912576350050177), (2255, 0.0037793270892808885), (2256, 0.03914323897850245), (2257, 0.003771459969530077), (2258, 0.01139024822943295), (2259, 0.0), (2260, 0.03850026522550275), (2261, 0.0), (2262, 0.0), (2263, 0.0), (2264, 0.044051355589805316), (2265, 0.002659304706083002), (2266, 0.0036069398871007474), (2267, 0.0), (2268, 0.002829085648719884), (2269, 0.03782540083263778), (2270, 0.0025309927293468253), (2271, 0.019210957559706754), (2272, 0.02332138720502075), (2273, 0.023959427868166898), (2274, 0.007962137500675278), (2275, 0.022784881755626214), (2276, 0.016787934588073518), (2277, 0.0029694245251640572), (2278, 0.0), (2279, 0.03535409403342085), (2280, 0.01850033494637028), (2281, 0.011480317915358189), (2282, 0.0), (2283, 0.0), (2284, 0.011161027154667255), (2285, 0.002635872460861764), (2286, 0.0037435611325831917), (2287, 0.016882735212125494), (2288, 0.003098464568628122), (2289, 0.002909044205367284), (2290, 0.0), (2291, 0.0), (2292, 0.0029835008317452595), (2293, 0.0031930306722110155), (2294, 0.0), (2295, 0.011277627834040375), (2296, 0.013886107430258207), (2297, 0.021711466015357797), (2298, 0.0), (2299, 0.004684313701759012), (2300, 0.03319850231557969), (2301, 0.002679592266517113), (2302, 0.0033272029851724766), (2303, 0.002762750868544706), (2304, 0.009130451122076513), (2305, 0.0), (2306, 0.0037061677574143194), (2307, 0.0), (2308, 0.02068732296654761), (2309, 0.0027982548335167418), (2310, 0.003916589770660394), (2311, 0.02041766506973613), (2312, 0.0), (2313, 0.09243700904429011), (2314, 0.0), (2315, 0.007975995518538547), (2316, 0.008752984416659762), (2317, 0.04708350017656063), (2318, 0.02311033370010511), (2319, 0.015141634532509727), (2320, 0.016944313420739186), (2321, 0.011405361936947347), (2322, 0.024568482498583854), (2323, 0.029410754567873943), (2324, 0.007559025220030967), (2325, 0.0), (2326, 0.006794879082407929), (2327, 0.008067915342840841), (2328, 0.0), (2329, 0.0), (2330, 0.009149182020884892), (2331, 0.007099965808464039), (2332, 0.0), (2333, 0.0), (2334, 0.020332758350948756), (2335, 0.0), (2336, 0.00812593492695288), (2337, 0.012330076330435794), (2338, 0.002646596745570645), (2339, 0.0), (2340, 0.07392782518162397), (2341, 0.0), (2342, 0.0), (2343, 0.0), (2344, 0.01950021354143494), (2345, 0.012140889736123496), (2346, 0.012621886080004288), (2347, 0.012348912196674978), (2348, 0.002759188578661239), (2349, 0.004055918156841284), (2350, 0.02500570219173065), (2351, 0.013901053182583063), (2352, 0.06851217714807352), (2353, 0.02280551121311908), (2354, 0.002932249693857817), (2355, 0.012151502612243983), (2356, 0.003274663427391546), (2357, 0.018766250706021427), (2358, 0.04890514968584209), (2359, 0.0024449798213401945), (2360, 0.010292569413669034), (2361, 0.02068118353948331), (2362, 0.002685214461093247), (2363, 0.010098661558048819), (2364, 0.0), (2365, 0.034134226700289025), (2366, 0.024987922843503086), (2367, 0.002804033605161188), (2368, 0.012519497502290613), (2369, 0.0), (2370, 0.0030518583884523126), (2371, 0.0), (2372, 0.012950120442299987), (2373, 0.0), (2374, 0.002968766344714536), (2375, 0.012724719070223479), (2376, 0.0), (2377, 0.0), (2378, 0.003447378187633715), (2379, 0.004227572955711212), (2380, 0.0), (2381, 0.0), (2382, 0.012485676518336267), (2383, 0.00908617522781865), (2384, 0.02417382561980473), (2385, 0.0030853197376511537), (2386, 0.0029948950416606086), (2387, 0.0029229590544432465), (2388, 0.0071927367432474175), (2389, 0.0), (2390, 0.0032112821412933266), (2391, 0.012370937342181166), (2392, 0.003824767725277681), (2393, 0.012360781725804274), (2394, 0.0030866434939581986), (2395, 0.022865899311650017), (2396, 0.011687964486694182), (2397, 0.011779957137225757), (2398, 0.008792808465706625), (2399, 0.002703999543087166), (2400, 0.013100640476618831), (2401, 0.011256830468292137), (2402, 0.010489544440724523), (2403, 0.016799041632305355), (2404, 0.038134489337713025), (2405, 0.012046720392475938), (2406, 0.02320405707185714), (2407, 0.004049237757311986), (2408, 0.021933615198509046), (2409, 0.034768149610276786), (2410, 0.024229850417982337), (2411, 0.003316988906462066), (2412, 0.01975154452153478), (2413, 0.02276747959206226), (2414, 0.027064713634759246), (2415, 0.00355453562858319), (2416, 0.0028870759188303614), (2417, 0.003429810022110241), (2418, 0.020667400501547264), (2419, 0.003077559786651302), (2420, 0.0), (2421, 0.0), (2422, 0.01892642233047649), (2423, 0.03752873772566148), (2424, 0.007406944198184997), (2425, 0.003796517051461224), (2426, 0.0), (2427, 0.02264790514640782), (2428, 0.0032327655470873982), (2429, 0.007575042674949516), (2430, 0.03651484293104488), (2431, 0.0), (2432, 0.020921519043229916), (2433, 0.0), (2434, 0.06136338662636601), (2435, 0.02143320558544121), (2436, 0.003274013855931128), (2437, 0.0033249307459518418), (2438, 0.024103791816416757), (2439, 0.0), (2440, 0.01661744296406675), (2441, 0.010878039833507706), (2442, 0.0), (2443, 0.00882230533590172), (2444, 0.07656645760068975), (2445, 0.018683563655433735), (2446, 0.002720747949545225), (2447, 0.031786449791351874), (2448, 0.025463401523387726), (2449, 0.008709405838567932), (2450, 0.0), (2451, 0.0), (2452, 0.0), (2453, 0.002692310417080522), (2454, 0.003537250665532274), (2455, 0.02754954152833424), (2456, 0.0), (2457, 0.010419112584387087), (2458, 0.012691631417844093), (2459, 0.003565472004245796), (2460, 0.0075412921896811915), (2461, 0.01123040597093529), (2462, 0.017752237465415713), (2463, 0.0028794063063567136), (2464, 0.012174978101072317), (2465, 0.0314716425000881), (2466, 0.020023820450720063), (2467, 0.0028262218025754894), (2468, 0.039017212789006044), (2469, 0.02817813478445479), (2470, 0.0), (2471, 0.0), (2472, 0.0), (2473, 0.002789801445642011), (2474, 0.02817657068342038), (2475, 0.0031502344695208463), (2476, 0.0), (2477, 0.014513768071902338), (2478, 0.0033627833489323637), (2479, 0.01850139969249652), (2480, 0.020827594882143308), (2481, 0.002439445405519995), (2482, 0.0027001155972329045), (2483, 0.0), (2484, 0.026069716192406542), (2485, 0.0), (2486, 0.009330036127765111), (2487, 0.0638463115760725), (2488, 0.014155325252773625), (2489, 0.011313138525745527), (2490, 0.004222083450977384), (2491, 0.0), (2492, 0.0029476629322551513), (2493, 0.022403731076874794), (2494, 0.02504392969255306), (2495, 0.002929070220852153), (2496, 0.002739435191769955), (2497, 0.009701280814390506), (2498, 0.0), (2499, 0.023077537139192944), (2500, 0.0), (2501, 0.0), (2502, 0.0350792312472872), (2503, 0.0), (2504, 0.0), (2505, 0.016187064652021077), (2506, 0.0), (2507, 0.0031821269748207722), (2508, 0.0), (2509, 0.011039262257636078), (2510, 0.0), (2511, 0.026142997421642125), (2512, 0.039766585375405936), (2513, 0.020130567053001522), (2514, 0.03740857076963765), (2515, 0.0), (2516, 0.011129728666937198), (2517, 0.047736085800865045), (2518, 0.0), (2519, 0.008429176317226962), (2520, 0.00253938247166583), (2521, 0.01516220852883582), (2522, 0.02424341638034893), (2523, 0.0), (2524, 0.006584800194523181), (2525, 0.002758384500735784), (2526, 0.047238435879224557), (2527, 0.0025194463468388726), (2528, 0.04516657204603383), (2529, 0.004252244412307088), (2530, 0.0037231534509668328), (2531, 0.012071249137130565), (2532, 0.0), (2533, 0.002946242341433234), (2534, 0.016054865724751333), (2535, 0.0032467159651418595), (2536, 0.0), (2537, 0.026746997372499345), (2538, 0.031950135993258605), (2539, 0.007511937266572747), (2540, 0.002791877247862835), (2541, 0.017226213060081246), (2542, 0.0), (2543, 0.0), (2544, 0.0), (2545, 0.003051906929340708), (2546, 0.042609928501651094), (2547, 0.0), (2548, 0.009705825500973833), (2549, 0.011795491648659742), (2550, 0.029674354565662413), (2551, 0.0), (2552, 0.02621295519588855), (2553, 0.01309634671076144), (2554, 0.03719308876687539), (2555, 0.006662250719193534), (2556, 0.002716247521548244), (2557, 0.0036330361491743964), (2558, 0.013435176343649342), (2559, 0.0038508011193665284), (2560, 0.003362036490658548), (2561, 0.0030561021680535396), (2562, 0.0), (2563, 0.0024226927022705886), (2564, 0.0), (2565, 0.02974200818328064), (2566, 0.0), (2567, 0.0), (2568, 0.0035826676349261315), (2569, 0.0028945272731978676), (2570, 0.0034477293821248392), (2571, 0.021339045253830992), (2572, 0.002774873453464404), (2573, 0.0), (2574, 0.01023928189441208), (2575, 0.01272904627100296), (2576, 0.0), (2577, 0.0), (2578, 0.009818375351779146), (2579, 0.00328348338674922), (2580, 0.01034374318795396), (2581, 0.051619919198940364), (2582, 0.0), (2583, 0.0), (2584, 0.007978919581278443), (2585, 0.01495429110557129), (2586, 0.016748639793516654), (2587, 0.040376690300462745), (2588, 0.012474428497002941), (2589, 0.01634045784904122), (2590, 0.0), (2591, 0.02147560483503842), (2592, 0.003242955983909186), (2593, 0.01795396233971961), (2594, 0.0), (2595, 0.003177237300873569), (2596, 0.0), (2597, 0.0), (2598, 0.022647474116973744), (2599, 0.0), (2600, 0.01030979185473403), (2601, 0.020294543184052015), (2602, 0.009211158482516562), (2603, 0.03752700134867373), (2604, 0.0), (2605, 0.0), (2606, 0.002949560180882987), (2607, 0.009950447838531155), (2608, 0.0), (2609, 0.0031244861016749546), (2610, 0.0030957717480113727), (2611, 0.0025131014876985684), (2612, 0.011186431210185185), (2613, 0.017171121032456323), (2614, 0.006361432752814863), (2615, 0.04033221779087395), (2616, 0.0), (2617, 0.03593866732147649), (2618, 0.046457438319118693), (2619, 0.0035276431999930694), (2620, 0.0), (2621, 0.00965815364038496), (2622, 0.050921775993348156), (2623, 0.003316217788578541), (2624, 0.026192781025964763), (2625, 0.012754187971892733), (2626, 0.03503283045098919), (2627, 0.008839758626352043), (2628, 0.0038347387541528264), (2629, 0.0033252703007700946), (2630, 0.0), (2631, 0.022119538656487994), (2632, 0.0028604737360412224), (2633, 0.003075317175721242), (2634, 0.0027371158829870737), (2635, 0.009575100273377903), (2636, 0.008695861619943287), (2637, 0.0), (2638, 0.01261313916311482), (2639, 0.0), (2640, 0.003064988286233239), (2641, 0.0), (2642, 0.0028222824733287084), (2643, 0.0037885125821087167), (2644, 0.0), (2645, 0.014286628089542506), (2646, 0.0), (2647, 0.0029669076907067175), (2648, 0.03291457939423611), (2649, 0.027223787989826505), (2650, 0.022947551297660625), (2651, 0.002771491445548467), (2652, 0.024904583677742648), (2653, 0.002826763253671194), (2654, 0.0), (2655, 0.00388201642471206), (2656, 0.0), (2657, 0.0), (2658, 0.0), (2659, 0.0), (2660, 0.013255131477299582), (2661, 0.03938735820218203), (2662, 0.01283581194414831), (2663, 0.0), (2664, 0.0031229625498007656), (2665, 0.013611471336723984), (2666, 0.0), (2667, 0.0), (2668, 0.011422241622221182), (2669, 0.0), (2670, 0.0), (2671, 0.0063557487808579135), (2672, 0.0), (2673, 0.02588677901913368), (2674, 0.0026965211644499896), (2675, 0.009071260820014828), (2676, 0.0), (2677, 0.0), (2678, 0.004770729147797736), (2679, 0.0027719302027857614), (2680, 0.020805628133717956), (2681, 0.01592874568057985), (2682, 0.0), (2683, 0.0), (2684, 0.016865547333329185), (2685, 0.0), (2686, 0.010063811336070464), (2687, 0.0028819968456911937), (2688, 0.0), (2689, 0.022269796423175045), (2690, 0.0), (2691, 0.0), (2692, 0.009639835665946627), (2693, 0.0), (2694, 0.0039020287261045676), (2695, 0.011114825442718546), (2696, 0.0034052310846482818), (2697, 0.009088047816715041), (2698, 0.024001451302790404), (2699, 0.008073032574124315), (2700, 0.0), (2701, 0.0), (2702, 0.003348015390630146), (2703, 0.0), (2704, 0.0), (2705, 0.0031718209586434356), (2706, 0.026727060480994637), (2707, 0.003438030663145454), (2708, 0.0), (2709, 0.011651203834678442), (2710, 0.03354001952408999), (2711, 0.01646766879343062), (2712, 0.003129841570235652), (2713, 0.0), (2714, 0.03061789056447904), (2715, 0.0), (2716, 0.0028215893902058696), (2717, 0.0), (2718, 0.03340183800134191), (2719, 0.0), (2720, 0.027224735999065733), (2721, 0.002545337353470912), (2722, 0.004112276689816527), (2723, 0.0031416401062135716), (2724, 0.0026029949454815906), (2725, 0.0031328172733992147), (2726, 0.0), (2727, 0.023836370433434947), (2728, 0.01054287869213319), (2729, 0.0), (2730, 0.0), (2731, 0.003932065041090527), (2732, 0.0), (2733, 0.0), (2734, 0.006877727162914366), (2735, 0.002704647504719212), (2736, 0.02577786474540858), (2737, 0.0), (2738, 0.0034569170597699107), (2739, 0.05873971851178557), (2740, 0.00329823564719247), (2741, 0.002637534793959953), (2742, 0.007587144785942147), (2743, 0.002511498900071413), (2744, 0.0030359376185135614), (2745, 0.037213470500897766), (2746, 0.013658654462769265), (2747, 0.0025382365202990423), (2748, 0.0031853997819428935), (2749, 0.018474555666759505), (2750, 0.03900147542344523), (2751, 0.007749293280831967), (2752, 0.010617689346294042), (2753, 0.0025806294664784935), (2754, 0.046870814577508496), (2755, 0.0030975096536055425), (2756, 0.010417161364380296), (2757, 0.10738351731067612), (2758, 0.0024878542281254416), (2759, 0.010235335047729393), (2760, 0.015531983764058477), (2761, 0.016778543004042967), (2762, 0.039781693616613094), (2763, 0.0), (2764, 0.004173388104039718), (2765, 0.002784443768165708), (2766, 0.06702214435778771), (2767, 0.002285382425371112), (2768, 0.01578016863577264), (2769, 0.0034575684916778745), (2770, 0.0137009312314939), (2771, 0.03747275681858659), (2772, 0.0034700120495207753), (2773, 0.0), (2774, 0.0), (2775, 0.003976745098192729), (2776, 0.0031549550522576696), (2777, 0.0258400323312871), (2778, 0.003542070089441587), (2779, 0.0027963860146769694), (2780, 0.041512372481951325), (2781, 0.010428445714963546), (2782, 0.0032608249896354767), (2783, 0.0029479928624503407), (2784, 0.01134662990457317), (2785, 0.01896983853606006), (2786, 0.015608698036513397), (2787, 0.0), (2788, 0.00831940335317011), (2789, 0.0), (2790, 0.020142487858911116), (2791, 0.007494398494747252), (2792, 0.0031034661551159093), (2793, 0.0), (2794, 0.0), (2795, 0.014019283994935352), (2796, 0.003352342929387961), (2797, 0.0035854671375773286), (2798, 0.011761866510328265), (2799, 0.04829006300898523), (2800, 0.002767575742708765), (2801, 0.009010662326566863), (2802, 0.0028643648630571963), (2803, 0.0026658099865966723), (2804, 0.0), (2805, 0.009185345104544298), (2806, 0.018349066165039847), (2807, 0.0), (2808, 0.048046428078066646), (2809, 0.006166732138393009), (2810, 0.0), (2811, 0.012753603437032857), (2812, 0.018339292880569687), (2813, 0.028236664786241136), (2814, 0.0), (2815, 0.016440048270443333), (2816, 0.017143245555371837), (2817, 0.021645500750309632), (2818, 0.0), (2819, 0.011127398431839975), (2820, 0.0), (2821, 0.03180984971994954), (2822, 0.007468078654687698), (2823, 0.0), (2824, 0.0), (2825, 0.008072761734739673), (2826, 0.014653297391222288), (2827, 0.009771267478677494), (2828, 0.0), (2829, 0.0), (2830, 0.03466115781054531), (2831, 0.03114164242390815), (2832, 0.0038443061504928717), (2833, 0.007284021614249098), (2834, 0.0036342158398356018), (2835, 0.0), (2836, 0.01643953731705649), (2837, 0.0), (2838, 0.0037436158779274495), (2839, 0.0), (2840, 0.003267130393859804), (2841, 0.025803173010537812), (2842, 0.016563264678276898), (2843, 0.0), (2844, 0.0024193619567133675), (2845, 0.05487987895961892), (2846, 0.030681996386122398), (2847, 0.0), (2848, 0.0035756179480619242), (2849, 0.011736021457437728), (2850, 0.0), (2851, 0.010646595509281006), (2852, 0.0), (2853, 0.047135087159947166), (2854, 0.02579785462310223), (2855, 0.0), (2856, 0.016978858169253885), (2857, 0.01429752700326848), (2858, 0.004152042594178133), (2859, 0.01848518333185593), (2860, 0.0), (2861, 0.0038827638000607954), (2862, 0.002729980337601516), (2863, 0.0030203634725637363), (2864, 0.0), (2865, 0.0), (2866, 0.0), (2867, 0.012891435510318752), (2868, 0.02604491834646731), (2869, 0.0), (2870, 0.0039710609247013), (2871, 0.01762145598499674), (2872, 0.0033719356937143554), (2873, 0.0), (2874, 0.0075843414815822685), (2875, 0.0), (2876, 0.002446529350852366), (2877, 0.014529753042919757), (2878, 0.03793845658165943), (2879, 0.0035674679566232116), (2880, 0.017816207316280405), (2881, 0.0033176548521203055), (2882, 0.0031831909155924927), (2883, 0.003964086575516241), (2884, 0.013370861458576536), (2885, 0.0), (2886, 0.010591099376003638), (2887, 0.0029681754372646945), (2888, 0.08832955528246803), (2889, 0.004032524241918498), (2890, 0.02151479092212013), (2891, 0.0), (2892, 0.010994780238309312), (2893, 0.0033219208048498173), (2894, 0.013785354318621644), (2895, 0.0035063208687582865), (2896, 0.0), (2897, 0.007805451468091852), (2898, 0.0), (2899, 0.022502203916158935), (2900, 0.002920013924802648), (2901, 0.003760993877381921), (2902, 0.0021544423350040543), (2903, 0.012449163972538289), (2904, 0.015160077473961218), (2905, 0.0), (2906, 0.0), (2907, 0.0027167657729409507), (2908, 0.02392895900824091), (2909, 0.002856924271537884), (2910, 0.010861547173620551), (2911, 0.003048694237857111), (2912, 0.03484904012196731), (2913, 0.013405419571155739), (2914, 0.003312876477640933), (2915, 0.0031855619257027566), (2916, 0.0032811741628014633), (2917, 0.0023073075892864454), (2918, 0.007872895780620259), (2919, 0.03389060488135574), (2920, 0.002680226221657319), (2921, 0.009682685437017658), (2922, 0.0), (2923, 0.003946881449237797), (2924, 0.01557927603411794), (2925, 0.018263694365829558), (2926, 0.0030635361045240317), (2927, 0.0), (2928, 0.0), (2929, 0.007717736881715851), (2930, 0.0), (2931, 0.03519902288007066), (2932, 0.014677482322366965), (2933, 0.009836412946210838), (2934, 0.06201918291309455), (2935, 0.0), (2936, 0.003316023875345085), (2937, 0.020929769764705935), (2938, 0.0), (2939, 0.010177766026499963), (2940, 0.0031309845964013665), (2941, 0.0), (2942, 0.01687176778557575), (2943, 0.002918801106098519), (2944, 0.008458358043620634), (2945, 0.0028674413416942797), (2946, 0.002882836710167997), (2947, 0.0), (2948, 0.010641784769938184), (2949, 0.055485045487839814), (2950, 0.0157089467393766), (2951, 0.0), (2952, 0.009903393954772645), (2953, 0.003100629104784376), (2954, 0.002674726221644738), (2955, 0.0), (2956, 0.03158002650815522), (2957, 0.03013775284656912), (2958, 0.02501368210913251), (2959, 0.0), (2960, 0.0), (2961, 0.010927051921858671), (2962, 0.007776315597855038), (2963, 0.017964649645322194), (2964, 0.0031302726663113485), (2965, 0.042408130104848556), (2966, 0.0035610406717361816), (2967, 0.018646442321465846), (2968, 0.048510622377923175), (2969, 0.012088727427056942), (2970, 0.003122348091065711), (2971, 0.007110364313482793), (2972, 0.0027611797196430113), (2973, 0.0), (2974, 0.0032888480795192744), (2975, 0.010175846220023278), (2976, 0.00262410841360492), (2977, 0.002999357736999824), (2978, 0.0317287441991584), (2979, 0.0), (2980, 0.002872925711660277), (2981, 0.04420573861100233), (2982, 0.009847846809449792), (2983, 0.0), (2984, 0.03961139117278156), (2985, 0.009661259172229701), (2986, 0.02301787218137322), (2987, 0.0033817964187864407), (2988, 0.05409130402548348), (2989, 0.043396191033008874), (2990, 0.0), (2991, 0.025442178955761872), (2992, 0.0), (2993, 0.017580323812691867), (2994, 0.008224781460538634), (2995, 0.0027762730833775493), (2996, 0.02503327106465734), (2997, 0.0027687575414255985), (2998, 0.00439768652709082), (2999, 0.0029127185263099703), (3000, 0.013754042020719877), (3001, 0.009589444718925874), (3002, 0.0), (3003, 0.0032541111755811105), (3004, 0.02396846288139253), (3005, 0.021233352154907254), (3006, 0.0478523840882613), (3007, 0.0031294315994255984), (3008, 0.0), (3009, 0.0), (3010, 0.043734757270467016), (3011, 0.01849927517289758), (3012, 0.04254842649174694), (3013, 0.0033045190395473486), (3014, 0.01375964982737499), (3015, 0.0037120227593847115), (3016, 0.003007225363476459), (3017, 0.0), (3018, 0.03483414660199982), (3019, 0.012923107368896257), (3020, 0.0035561769060263363), (3021, 0.010991364515221131), (3022, 0.0), (3023, 0.0), (3024, 0.009581557184779037), (3025, 0.05506737634277804), (3026, 0.016103508721679087), (3027, 0.002635985768915161), (3028, 0.0028307497471914645), (3029, 0.0), (3030, 0.0039683598501029805), (3031, 0.0035783314116217195), (3032, 0.0032788729958422367), (3033, 0.0), (3034, 0.016676152327774377), (3035, 0.0027886983258612716), (3036, 0.0027850365381351053), (3037, 0.0030920705233480716), (3038, 0.0), (3039, 0.0), (3040, 0.08171422164086446), (3041, 0.0), (3042, 0.04034848600307458), (3043, 0.046335674367098345), (3044, 0.0158879171458069), (3045, 0.006748337873435996), (3046, 0.0028730772004945584), (3047, 0.0), (3048, 0.0), (3049, 0.0), (3050, 0.0026838152917454203), (3051, 0.004178502187571101), (3052, 0.004001159097086472), (3053, 0.0), (3054, 0.0), (3055, 0.003986070838958983), (3056, 0.026412003288488608), (3057, 0.0027480111591989035), (3058, 0.0), (3059, 0.0), (3060, 0.0175921862117853), (3061, 0.0), (3062, 0.0032476334663200587), (3063, 0.015304960326193273), (3064, 0.003187462131574967), (3065, 0.002488157724236536), (3066, 0.0), (3067, 0.0028938596322544575), (3068, 0.0), (3069, 0.025606713804637107), (3070, 0.007299674831930385), (3071, 0.028792877598433134), (3072, 0.003404663728009774), (3073, 0.0), (3074, 0.003593969817201611), (3075, 0.0028449781890590897), (3076, 0.014528282382199786), (3077, 0.009919676722888968), (3078, 0.0), (3079, 0.0), (3080, 0.0), (3081, 0.022901486410258524), (3082, 0.007696333043051638), (3083, 0.029293787881685154), (3084, 0.015458893238960124), (3085, 0.02787599650087425), (3086, 0.02134013421294146), (3087, 0.020902691562831352), (3088, 0.0), (3089, 0.07354192001378546), (3090, 0.01701862672884389), (3091, 0.002451890761546137), (3092, 0.011347781717636321), (3093, 0.0028828705204380933), (3094, 0.003427556556539689), (3095, 0.011918136210931927), (3096, 0.0025463778679021072), (3097, 0.03952131344679333), (3098, 0.0), (3099, 0.014965569144872161), (3100, 0.0), (3101, 0.014841239994566732), (3102, 0.010705645339419765), (3103, 0.01746527844445867), (3104, 0.0), (3105, 0.0), (3106, 0.0), (3107, 0.0), (3108, 0.002629139692481694), (3109, 0.009216007072599019), (3110, 0.02229402330915354), (3111, 0.012023151611451198), (3112, 0.015673159692002597), (3113, 0.0029877654060334914), (3114, 0.0), (3115, 0.02579279763983377), (3116, 0.003218980444624604), (3117, 0.021961924598063884), (3118, 0.007583354094548126), (3119, 0.015219026907731192), (3120, 0.02105997970564131), (3121, 0.00808136655306063), (3122, 0.0027944914857419866), (3123, 0.003573062422545472), (3124, 0.0), (3125, 0.002943798294200821), (3126, 0.0), (3127, 0.023964357580115274), (3128, 0.0036925943542667934), (3129, 0.009024642764169338), (3130, 0.0), (3131, 0.012459833913269302), (3132, 0.0), (3133, 0.008133610504928404), (3134, 0.0), (3135, 0.0), (3136, 0.0), (3137, 0.005437630374850189), (3138, 0.0), (3139, 0.004147378563718784), (3140, 0.0036865503355832086), (3141, 0.010119961177965816), (3142, 0.0377852583505776), (3143, 0.0), (3144, 0.00644310354262498), (3145, 0.06294646076495714), (3146, 0.021766703173029957), (3147, 0.020561607111961082), (3148, 0.00331663021449648), (3149, 0.10359517295076145), (3150, 0.020399824996463572), (3151, 0.002790393774320515), (3152, 0.0022859037000285028), (3153, 0.011927146465038627), (3154, 0.06265790225555094), (3155, 0.011177069908125335), (3156, 0.0), (3157, 0.003260498743485123), (3158, 0.030093109855071645), (3159, 0.0036254849968239337), (3160, 0.010229872983961994), (3161, 0.0377593100646263), (3162, 0.0), (3163, 0.0), (3164, 0.0), (3165, 0.0033645586525591123), (3166, 0.004063326719380048), (3167, 0.04964769104732633), (3168, 0.028272248191692387), (3169, 0.01698520668353914), (3170, 0.002786786595934522), (3171, 0.010559867123139208), (3172, 0.0), (3173, 0.0028848463554959542), (3174, 0.04212015247686532), (3175, 0.011255843220177522), (3176, 0.0), (3177, 0.011063003274421578), (3178, 0.004631425687564098), (3179, 0.05581812386999847), (3180, 0.0), (3181, 0.012690766565697497), (3182, 0.002984050038890963), (3183, 0.0032077533287206503), (3184, 0.003146306630319048), (3185, 0.0), (3186, 0.0033214631492754485), (3187, 0.0030826185609703193), (3188, 0.01913560751549985), (3189, 0.00909151968605665), (3190, 0.013495070273063119), (3191, 0.0), (3192, 0.009027646770861788), (3193, 0.0), (3194, 0.0027649066516566654), (3195, 0.002882738149500508), (3196, 0.00328480627105102), (3197, 0.0), (3198, 0.0030261116969434515), (3199, 0.01567065829634512), (3200, 0.020338922666749738), (3201, 0.0), (3202, 0.0), (3203, 0.0), (3204, 0.0), (3205, 0.0), (3206, 0.003544190307567694), (3207, 0.0), (3208, 0.009096494957801843), (3209, 0.00884998250107617), (3210, 0.011197586694113991), (3211, 0.0025362692632787606), (3212, 0.0), (3213, 0.02104663770952168), (3214, 0.002796603163555259), (3215, 0.014473868932681948), (3216, 0.0029150403436975746), (3217, 0.0), (3218, 0.029890459267909723), (3219, 0.015136823542793415), (3220, 0.00286293633078162), (3221, 0.013025722786073057), (3222, 0.0), (3223, 0.012583197778832616), (3224, 0.0030497928527943733), (3225, 0.013765850288219292), (3226, 0.02535129132380959), (3227, 0.002953604901777047), (3228, 0.003554956671366694), (3229, 0.0), (3230, 0.003381876597953319), (3231, 0.0), (3232, 0.014710571715300942), (3233, 0.0030135743347671374), (3234, 0.04957433606923927), (3235, 0.0031227756339182442), (3236, 0.0), (3237, 0.011440314498158813), (3238, 0.0025209300720608627), (3239, 0.003693205098453834), (3240, 0.005661452096789096), (3241, 0.02030156533930309), (3242, 0.012160611885070878), (3243, 0.06307764296048277), (3244, 0.007926966169230987), (3245, 0.00825653342628978), (3246, 0.011103913153146726), (3247, 0.007826286423756742), (3248, 0.0032669563669065383), (3249, 0.03506642001164895), (3250, 0.0), (3251, 0.0), (3252, 0.0024408790046204095), (3253, 0.0), (3254, 0.00947052775113694), (3255, 0.0), (3256, 0.0), (3257, 0.0035296960506658176), (3258, 0.003185333268440861), (3259, 0.017744127087442274), (3260, 0.011364188027039318), (3261, 0.0), (3262, 0.0037691911170400594), (3263, 0.0), (3264, 0.020547671186206488), (3265, 0.029037215906103184), (3266, 0.0), (3267, 0.010072884947884228), (3268, 0.00279584802181629), (3269, 0.012529117728230187), (3270, 0.0), (3271, 0.0031651375494126757), (3272, 0.03613394985993698), (3273, 0.0032612252428077097), (3274, 0.09187570777583105), (3275, 0.012974967615149312), (3276, 0.004421939860756356), (3277, 0.0), (3278, 0.0026635921548402663), (3279, 0.027981051144141636), (3280, 0.00760806991681013), (3281, 0.012937381551174867), (3282, 0.0037989175328377463), (3283, 0.014846193473694074), (3284, 0.0026828725648728627), (3285, 0.06025390365640826), (3286, 0.0), (3287, 0.0), (3288, 0.0), (3289, 0.03339997564013304), (3290, 0.003014594430174129), (3291, 0.00393651137903847), (3292, 0.019027081718433706), (3293, 0.010507169147860552), (3294, 0.0), (3295, 0.0), (3296, 0.0033317221483742366), (3297, 0.04649331970842403), (3298, 0.0407959524174661), (3299, 0.00291081763534297), (3300, 0.010884804706933586), (3301, 0.0022939096780114692), (3302, 0.0035691174108764758), (3303, 0.037414972509965415), (3304, 0.01762056706706821), (3305, 0.03514473161684259), (3306, 0.01766906905160463), (3307, 0.003402705626083656), (3308, 0.015903600126024167), (3309, 0.0), (3310, 0.010957978531792636), (3311, 0.0026498226068916594), (3312, 0.009491377689894944), (3313, 0.028452243791384092), (3314, 0.0031067725364409206), (3315, 0.011064737577075864), (3316, 0.0022533292620466458), (3317, 0.04044201838769587), (3318, 0.03673801749601924), (3319, 0.015455552675168379), (3320, 0.0), (3321, 0.008006567481524795), (3322, 0.0037700834738500074), (3323, 0.0), (3324, 0.0), (3325, 0.0052336960894327775), (3326, 0.04359909206509746), (3327, 0.010389274440543361), (3328, 0.015733779309981814), (3329, 0.0122809029728292), (3330, 0.07186581519806308), (3331, 0.0024418616053950575), (3332, 0.0676916280124703), (3333, 0.01827302799378026), (3334, 0.008597871395130158), (3335, 0.013572803811847311), (3336, 0.021545616729662084), (3337, 0.022497294023138194), (3338, 0.0), (3339, 0.0), (3340, 0.0), (3341, 0.0029375323195861974), (3342, 0.010755492421808201), (3343, 0.029799795141570065), (3344, 0.04915235364498818), (3345, 0.0), (3346, 0.029699702218067597), (3347, 0.0024586266499796562), (3348, 0.011209262325237845), (3349, 0.0030391233699844106), (3350, 0.0), (3351, 0.003057288187507004), (3352, 0.012918326239220155), (3353, 0.003045433079907483), (3354, 0.0036880623455360926), (3355, 0.016768592105370742), (3356, 0.0065266466634799096), (3357, 0.0036411849689575253), (3358, 0.003556316576450895), (3359, 0.0034090660318379516), (3360, 0.01193253367058611), (3361, 0.015683948074070583), (3362, 0.018955006160471286), (3363, 0.024316701349609608), (3364, 0.04023096709573223), (3365, 0.002065773953116875), (3366, 0.0), (3367, 0.016594400640366797), (3368, 0.0), (3369, 0.002702020467028491), (3370, 0.05485098369238193), (3371, 0.018353652272196794), (3372, 0.0030764892200172674), (3373, 0.012494554483641614), (3374, 0.027459772366033648), (3375, 0.02434009805993857), (3376, 0.002501436146741359), (3377, 0.03414555581199885), (3378, 0.0), (3379, 0.0028719387153382614), (3380, 0.03592326524877934), (3381, 0.05703153469046842), (3382, 0.011583639379573657), (3383, 0.0), (3384, 0.029004575137588896), (3385, 0.0), (3386, 0.025411706709786874), (3387, 0.011599492224075683), (3388, 0.012203643271410217), (3389, 0.05242336484143791), (3390, 0.011035857676757682), (3391, 0.006530735620052417), (3392, 0.04059700679953303), (3393, 0.0025193818714847513), (3394, 0.04615902936731012), (3395, 0.019939324113801855), (3396, 0.003378830004410173), (3397, 0.0), (3398, 0.0), (3399, 0.0027367661781224654), (3400, 0.0), (3401, 0.023006328826263057), (3402, 0.018963135792776448), (3403, 0.016885251095741818), (3404, 0.0), (3405, 0.0), (3406, 0.04999470901291965), (3407, 0.010421688509477486), (3408, 0.029002602543798855), (3409, 0.0024991895910105952), (3410, 0.0023572558963541905), (3411, 0.0), (3412, 0.0028569313996967896), (3413, 0.003518474568372223), (3414, 0.0163156904274279), (3415, 0.0), (3416, 0.06369561945095448), (3417, 0.0032263153390197728), (3418, 0.010074422227127032), (3419, 0.0033805388972281652), (3420, 0.0), (3421, 0.015280374153149309), (3422, 0.012284043733792783), (3423, 0.02230970729469425), (3424, 0.0), (3425, 0.0033941985877584376), (3426, 0.0), (3427, 0.008686050172817972), (3428, 0.0), (3429, 0.0), (3430, 0.00243828020492903), (3431, 0.0023523381107346873), (3432, 0.0), (3433, 0.022539362698062542), (3434, 0.003116415524095357), (3435, 0.02483578460174855), (3436, 0.002948163154625388), (3437, 0.011621422646603048), (3438, 0.0), (3439, 0.015105607964784707), (3440, 0.0), (3441, 0.014455754575074396), (3442, 0.0), (3443, 0.0), (3444, 0.0), (3445, 0.0030000087969769933), (3446, 0.0), (3447, 0.0028624217074012938), (3448, 0.0), (3449, 0.003165420258736999), (3450, 0.02238354720712763), (3451, 0.0), (3452, 0.022971144314569796), (3453, 0.037586805369265425), (3454, 0.016207040239569537), (3455, 0.0026896954372789537), (3456, 0.005909981168626458), (3457, 0.0), (3458, 0.015131754619126712), (3459, 0.0), (3460, 0.05438297500278472), (3461, 0.02676330117961443), (3462, 0.011790750376525978), (3463, 0.010835597840206398), (3464, 0.017831697158443544), (3465, 0.018823872399884034), (3466, 0.025274619987682004), (3467, 0.0), (3468, 0.0), (3469, 0.0), (3470, 0.02818223197469009), (3471, 0.01068095186500719), (3472, 0.0), (3473, 0.018775311930102397), (3474, 0.012206498105806322), (3475, 0.01893112697375238), (3476, 0.0), (3477, 0.03638218902567232), (3478, 0.0029293360048133683), (3479, 0.037442921096303323), (3480, 0.0), (3481, 0.0), (3482, 0.0), (3483, 0.011753741517047904), (3484, 0.0071963789952157985), (3485, 0.0), (3486, 0.0), (3487, 0.002816453613285456), (3488, 0.026175576970196145), (3489, 0.0), (3490, 0.0), (3491, 0.002940829383781445), (3492, 0.01947367760513486), (3493, 0.0030660058840853116), (3494, 0.011720890158581578), (3495, 0.0), (3496, 0.003144354783044694), (3497, 0.01265531054679873), (3498, 0.02287127813850313), (3499, 0.0028777365819629514), (3500, 0.002717713496129597), (3501, 0.0029776400023967154), (3502, 0.0), (3503, 0.0028089382780298574), (3504, 0.010632912575710217), (3505, 0.0), (3506, 0.013358836027090464), (3507, 0.008471262805546591), (3508, 0.008042045076498477), (3509, 0.0), (3510, 0.011324035746857123), (3511, 0.003083519255223518), (3512, 0.004491871242562191), (3513, 0.0), (3514, 0.003058120324297472), (3515, 0.0), (3516, 0.01259698739824177), (3517, 0.02018803647148805), (3518, 0.0), (3519, 0.0), (3520, 0.0), (3521, 0.003608794865753297), (3522, 0.0), (3523, 0.02795036465774479), (3524, 0.015805144413024493), (3525, 0.01764789943401489), (3526, 0.0029978472411879464), (3527, 0.003028027544131965), (3528, 0.009676102471049074), (3529, 0.01279733116335095), (3530, 0.0), (3531, 0.007926058326655308), (3532, 0.0), (3533, 0.025681673011208845), (3534, 0.004837651831303539), (3535, 0.009676491292824815), (3536, 0.015123389348087017), (3537, 0.0036333864404557883), (3538, 0.0023357498604658954), (3539, 0.03001884621925477), (3540, 0.022740953331234468), (3541, 0.0029466550225690597), (3542, 0.0029971407773489896), (3543, 0.0), (3544, 0.0035657442128577696), (3545, 0.01640755765865071), (3546, 0.0021855041506026445), (3547, 0.013526117463990349), (3548, 0.0024089284773621375), (3549, 0.0), (3550, 0.0), (3551, 0.002956523194831637), (3552, 0.004764253624510175), (3553, 0.011002234842736288), (3554, 0.032501997388816976), (3555, 0.0), (3556, 0.04669376093068921), (3557, 0.0028725779767908768), (3558, 0.0027043948484915766), (3559, 0.0), (3560, 0.00329137250855214), (3561, 0.0039710044410797354), (3562, 0.0), (3563, 0.018443334612082887), (3564, 0.01162763165717235), (3565, 0.0028990762882618528), (3566, 0.015563196132856763), (3567, 0.0), (3568, 0.0), (3569, 0.00251153083843548), (3570, 0.00812067544419695), (3571, 0.002995410677671671), (3572, 0.012893889653977959), (3573, 0.0), (3574, 0.0), (3575, 0.01572111874660365), (3576, 0.0), (3577, 0.01801286779569814), (3578, 0.0), (3579, 0.009886753181672816), (3580, 0.02170149916698532), (3581, 0.0), (3582, 0.007872305405110453), (3583, 0.0), (3584, 0.0), (3585, 0.016148359156335692), (3586, 0.008794468776833219), (3587, 0.0032998018694241887), (3588, 0.0), (3589, 0.03529612697169677), (3590, 0.003111679754281764), (3591, 0.031133211661790446), (3592, 0.0), (3593, 0.033242170357369843), (3594, 0.025122062583901095), (3595, 0.0), (3596, 0.01146301662863575), (3597, 0.02747678605117096), (3598, 0.0), (3599, 0.003058580303238292), (3600, 0.0), (3601, 0.0031240828939741666), (3602, 0.026400089709130426), (3603, 0.0), (3604, 0.0), (3605, 0.0), (3606, 0.002986750288954013), (3607, 0.01986215428827041), (3608, 0.001908017490250373), (3609, 0.0), (3610, 0.023975255573354275), (3611, 0.015263366654123351), (3612, 0.011105375931787469), (3613, 0.003613133307143991), (3614, 0.07625724280817897), (3615, 0.002758520244593871), (3616, 0.003642738525792724), (3617, 0.019155658059314164), (3618, 0.003105050313254184), (3619, 0.0), (3620, 0.044894329087732616), (3621, 0.003446965456356533), (3622, 0.0), (3623, 0.0030218497834352876), (3624, 0.01444040605020371), (3625, 0.0), (3626, 0.01552525953960279), (3627, 0.013486018826410769), (3628, 0.0), (3629, 0.002515747850446187), (3630, 0.0), (3631, 0.0), (3632, 0.0), (3633, 0.022486728239971155), (3634, 0.13779224634532378), (3635, 0.003960476939475303), (3636, 0.0030187930548359566), (3637, 0.018894143756901308), (3638, 0.018172300470652315), (3639, 0.02227112448385124), (3640, 0.01238033285778407), (3641, 0.0028290847151731646), (3642, 0.021421567722665222), (3643, 0.002975896408775771), (3644, 0.0), (3645, 0.008367405847926283), (3646, 0.010952197025699871), (3647, 0.0028820832315816333), (3648, 0.0), (3649, 0.018752873142291477), (3650, 0.027393032953253384), (3651, 0.016673757543830603), (3652, 0.009029384246146598), (3653, 0.02949050256754723), (3654, 0.0030807705988733928), (3655, 0.03344652950137269), (3656, 0.03797410421618581), (3657, 0.0024720169660973077), (3658, 0.01413831033626542), (3659, 0.05286581083632088), (3660, 0.010705206515269367), (3661, 0.0033408869218138912), (3662, 0.016560044197572565), (3663, 0.0), (3664, 0.04819696023783602), (3665, 0.00292235796668513), (3666, 0.036184982045153594), (3667, 0.02373324108200201), (3668, 0.002479445401925579), (3669, 0.0024824703530544365), (3670, 0.022941739999609186), (3671, 0.0), (3672, 0.004162513828017423), (3673, 0.002917465561002025), (3674, 0.04190907670463735), (3675, 0.027115727873569535), (3676, 0.0), (3677, 0.021360640432979954), (3678, 0.0031163409918769968), (3679, 0.0), (3680, 0.0033124991214104676), (3681, 0.0), (3682, 0.018354130009079754), (3683, 0.022217783730798687), (3684, 0.03343887719208766), (3685, 0.008489284802317719), (3686, 0.0), (3687, 0.003658761744255794), (3688, 0.0), (3689, 0.003029942043078373), (3690, 0.02218158503017756), (3691, 0.002787392616229405), (3692, 0.0031540254666782633), (3693, 0.007383201677714788), (3694, 0.03550393340276885), (3695, 0.0), (3696, 0.0028249768046800412), (3697, 0.0), (3698, 0.0), (3699, 0.02323395929547331), (3700, 0.028334134299448772), (3701, 0.003003107875002479), (3702, 0.0), (3703, 0.0), (3704, 0.0031655889042365676), (3705, 0.0026507029560799947), (3706, 0.002858817831075861), (3707, 0.0029813914214405243), (3708, 0.009435195736907612), (3709, 0.0), (3710, 0.0), (3711, 0.007529102949142461), (3712, 0.0), (3713, 0.006813218131769035), (3714, 0.0032018537655419343), (3715, 0.0), (3716, 0.0), (3717, 0.0), (3718, 0.008024073155034228), (3719, 0.00285918936279542), (3720, 0.025910468769048962), (3721, 0.0), (3722, 0.0), (3723, 0.0), (3724, 0.0), (3725, 0.0027275503944586446), (3726, 0.05774077385386813), (3727, 0.002904403678824459), (3728, 0.049560815690741236), (3729, 0.0033948312865808208), (3730, 0.0), (3731, 0.03961034646235648), (3732, 0.03307666525435624), (3733, 0.002789910165908342), (3734, 0.0027628673127760577), (3735, 0.018334086920589854), (3736, 0.0), (3737, 0.0032709576197038274), (3738, 0.033389972184672406), (3739, 0.011710032407368443), (3740, 0.014738970371713097), (3741, 0.03865744070147604), (3742, 0.013313557787659493), (3743, 0.0), (3744, 0.0), (3745, 0.003445892916119772), (3746, 0.0), (3747, 0.0110942570247544), (3748, 0.0), (3749, 0.00319394266541113), (3750, 0.005851686647251201), (3751, 0.0475755281500729), (3752, 0.014043414599743927), (3753, 0.0), (3754, 0.003397175265790565), (3755, 0.0025889227195505663), (3756, 0.009080511227495864), (3757, 0.003159905868874456), (3758, 0.0), (3759, 0.013333704147341913), (3760, 0.0), (3761, 0.0), (3762, 0.003816307650248971), (3763, 0.0034522980248952832), (3764, 0.0), (3765, 0.002845501598561608), (3766, 0.013238449444029746), (3767, 0.002690888390236236), (3768, 0.008781035653916953), (3769, 0.017323474133474782), (3770, 0.003063252975721249), (3771, 0.0031728295799226323), (3772, 0.016586838759529654), (3773, 0.0), (3774, 0.020514138704825755), (3775, 0.007583424695115054), (3776, 0.0), (3777, 0.024034019590687475), (3778, 0.020213247387624773), (3779, 0.0035372628353273223), (3780, 0.012367107912133248), (3781, 0.0031386419836250366), (3782, 0.0), (3783, 0.0), (3784, 0.00278823359696946), (3785, 0.0), (3786, 0.0), (3787, 0.0), (3788, 0.0), (3789, 0.0), (3790, 0.021098688444065514), (3791, 0.0), (3792, 0.011779029325476479), (3793, 0.0), (3794, 0.0077399891356139255), (3795, 0.0026203669860631303), (3796, 0.0), (3797, 0.014865342029136712), (3798, 0.0), (3799, 0.002776770496486597), (3800, 0.0), (3801, 0.030814107036461483), (3802, 0.03526847673647108), (3803, 0.0), (3804, 0.0032676979452443203), (3805, 0.0), (3806, 0.008861494764198792), (3807, 0.030099920333131552), (3808, 0.027877123308343476), (3809, 0.0030013006440311237), (3810, 0.0), (3811, 0.03475627965547199), (3812, 0.008807595363934235), (3813, 0.012637913546935381), (3814, 0.010331783565764181), (3815, 0.0), (3816, 0.012753869400480743), (3817, 0.0), (3818, 0.0), (3819, 0.0186519648710775), (3820, 0.0), (3821, 0.002456667212181177), (3822, 0.021892452765129567), (3823, 0.0), (3824, 0.0), (3825, 0.0), (3826, 0.002816183277494247), (3827, 0.0028721388988261084), (3828, 0.01403958113539629), (3829, 0.002722985948895728), (3830, 0.016877942913956008), (3831, 0.027533071098472757), (3832, 0.003576098233810533), (3833, 0.021334670320885086), (3834, 0.0), (3835, 0.0017642516924449173), (3836, 0.0), (3837, 0.02854042805949085), (3838, 0.0), (3839, 0.012390546885977904), (3840, 0.0), (3841, 0.002626975762360986), (3842, 0.016998424494962798), (3843, 0.010712496386237558), (3844, 0.0), (3845, 0.0202974831798415), (3846, 0.0), (3847, 0.028039074378870224), (3848, 0.03557042988013687), (3849, 0.017475364654119467), (3850, 0.09927164692590847), (3851, 0.0), (3852, 0.0), (3853, 0.04997680865721586), (3854, 0.010265742893258626), (3855, 0.009828060160316957), (3856, 0.018181293221085148), (3857, 0.014920421543768927), (3858, 0.01335493809201004), (3859, 0.0), (3860, 0.007409143903851617), (3861, 0.0), (3862, 0.011593968958312193), (3863, 0.00263229078900339), (3864, 0.0), (3865, 0.0), (3866, 0.05592226501591026), (3867, 0.05599336796096234), (3868, 0.07816331829980419), (3869, 0.0), (3870, 0.0), (3871, 0.0), (3872, 0.010121976142188176), (3873, 0.0031322795596281355), (3874, 0.017823422676369126), (3875, 0.002380972517495454), (3876, 0.010632153932633587), (3877, 0.003261494495318426), (3878, 0.003850042645664513), (3879, 0.0), (3880, 0.002555669457248233), (3881, 0.0), (3882, 0.003082997308875706), (3883, 0.012654001913091071), (3884, 0.016958294682536238), (3885, 0.0), (3886, 0.011184587737195504), (3887, 0.0), (3888, 0.027377513741761547), (3889, 0.014568742276793147), (3890, 0.002834007322149813), (3891, 0.015690089272924628), (3892, 0.0038080253113634407), (3893, 0.003164552224956858), (3894, 0.002569085051915334), (3895, 0.017034942679658435), (3896, 0.0), (3897, 0.0), (3898, 0.0027798288205993726), (3899, 0.008898425862455353), (3900, 0.0028168190271649755), (3901, 0.0035327722216945486), (3902, 0.06538315367132237), (3903, 0.0033553046712061965), (3904, 0.03849531560534405), (3905, 0.008643981597524213), (3906, 0.0028820964061698853), (3907, 0.0), (3908, 0.01179937905475021), (3909, 0.0), (3910, 0.01179367151332524), (3911, 0.029436136467317943), (3912, 0.00884067023624007), (3913, 0.002704353820760401), (3914, 0.0), (3915, 0.014590974691055306), (3916, 0.0), (3917, 0.002817867544882896), (3918, 0.0), (3919, 0.014042767076020406), (3920, 0.02015648932478044), (3921, 0.0), (3922, 0.003616180174543182), (3923, 0.0), (3924, 0.012203023995808034), (3925, 0.004360228458551745), (3926, 0.008667269053406337), (3927, 0.0024382235217316997), (3928, 0.002446907155402987), (3929, 0.0), (3930, 0.0), (3931, 0.019381658788056994), (3932, 0.005403623671497439), (3933, 0.0), (3934, 0.0), (3935, 0.0034517755496200164), (3936, 0.0), (3937, 0.0), (3938, 0.011389065514766617), (3939, 0.003901530503652298), (3940, 0.0), (3941, 0.010402912583337918), (3942, 0.01420634940866964), (3943, 0.0), (3944, 0.0), (3945, 0.00852990697711585), (3946, 0.019011444208697992), (3947, 0.03452595793065547), (3948, 0.014615508511251317), (3949, 0.011233167266830473), (3950, 0.0), (3951, 0.02275041472098479), (3952, 0.0033593085566964984), (3953, 0.0026652764343971826), (3954, 0.0027646409435843223), (3955, 0.026794045872180698), (3956, 0.028618935719880112), (3957, 0.0024144962015143594), (3958, 0.00900785160709012), (3959, 0.019961674820392176), (3960, 0.03375997730177957), (3961, 0.03996580169540513), (3962, 0.003289936434060934), (3963, 0.0), (3964, 0.0), (3965, 0.01003184159976182), (3966, 0.008070451389324594), (3967, 0.003238253509346055), (3968, 0.0), (3969, 0.0), (3970, 0.0), (3971, 0.0), (3972, 0.0), (3973, 0.020759062097316), (3974, 0.010425103866291677), (3975, 0.015180035503415071), (3976, 0.029315667794321234), (3977, 0.0529134972948973), (3978, 0.018382924491702847), (3979, 0.0), (3980, 0.017412464868181148), (3981, 0.0), (3982, 0.02169970317853992), (3983, 0.008677362098324214), (3984, 0.011674761879595322), (3985, 0.018313767029809767), (3986, 0.05459922170077188), (3987, 0.003119942125623238), (3988, 0.0), (3989, 0.0), (3990, 0.004043317737146379), (3991, 0.015624875243445368), (3992, 0.012548464641207131), (3993, 0.015545265207876531), (3994, 0.0), (3995, 0.0), (3996, 0.0), (3997, 0.0), (3998, 0.0), (3999, 0.013668996669039538), (4000, 0.011011156123321517), (4001, 0.0), (4002, 0.02259936512434108), (4003, 0.012864837234034457), (4004, 0.036720856861194175), (4005, 0.029958547630836156), (4006, 0.010497890820544082), (4007, 0.011619653442435974), (4008, 0.012086491521317827), (4009, 0.0), (4010, 0.0), (4011, 0.03529668825937769), (4012, 0.0), (4013, 0.0031892540776908905), (4014, 0.0029638940791016154), (4015, 0.0024164151637486413), (4016, 0.0029212642586225945), (4017, 0.003975136569662455), (4018, 0.008952881631609476), (4019, 0.0037973618269247452), (4020, 0.013178782505071155), (4021, 0.0), (4022, 0.03095179739421673), (4023, 0.0411557484992509), (4024, 0.003163377565552161), (4025, 0.003039018224691059), (4026, 0.03642541104037389), (4027, 0.03491042094141474), (4028, 0.012767023245372865), (4029, 0.010293921862036582), (4030, 0.0034286754621362), (4031, 0.01936811352915173), (4032, 0.0034181142573609), (4033, 0.02084040673707431), (4034, 0.0), (4035, 0.007529393036292701), (4036, 0.0028622183114227536), (4037, 0.0), (4038, 0.03092884529023449), (4039, 0.0), (4040, 0.0), (4041, 0.0), (4042, 0.003235393149470324), (4043, 0.0), (4044, 0.0), (4045, 0.0695284127203514), (4046, 0.003211336778575709), (4047, 0.0), (4048, 0.012152835416288648), (4049, 0.002972952610477474), (4050, 0.011603437890373314), (4051, 0.0032681016728912326), (4052, 0.0030959500377922057), (4053, 0.010073084741904595), (4054, 0.0031061149845819595), (4055, 0.014943974532665053), (4056, 0.013360818396336599), (4057, 0.0), (4058, 0.026997653454528054), (4059, 0.03614896965909495), (4060, 0.022599811195160913), (4061, 0.0), (4062, 0.003548022818827864), (4063, 0.009693889482286428), (4064, 0.0), (4065, 0.0), (4066, 0.002572511125344176), (4067, 0.047302728983261086), (4068, 0.011277938941433278), (4069, 0.0028294181744465486), (4070, 0.00865495704341687), (4071, 0.0), (4072, 0.0), (4073, 0.008434213587911701), (4074, 0.01208912336762736), (4075, 0.0034180503560228433), (4076, 0.0), (4077, 0.0), (4078, 0.0), (4079, 0.0030366714061950896), (4080, 0.0026265181438035277), (4081, 0.014656141260204005), (4082, 0.004138191635946861), (4083, 0.0030582537062521496), (4084, 0.0), (4085, 0.002788060909703153), (4086, 0.009363895872224052), (4087, 0.0031843954661063822), (4088, 0.016748893422025447), (4089, 0.022997241695255848), (4090, 0.0), (4091, 0.0), (4092, 0.0033150092441866803), (4093, 0.008359134521824697), (4094, 0.008757740014331812), (4095, 0.009421054297153331), (4096, 0.007079591818046918), (4097, 0.009476328198759505), (4098, 0.0030026924032358826), (4099, 0.0), (4100, 0.0), (4101, 0.0031972121781354574), (4102, 0.041594310696607385), (4103, 0.0), (4104, 0.002596524605412608), (4105, 0.009172667015841289), (4106, 0.0), (4107, 0.0036171030852777328), (4108, 0.013031507502203976), (4109, 0.007829799805379574), (4110, 0.007679981019913846), (4111, 0.0031359034690884753), (4112, 0.0), (4113, 0.0032536319355090646), (4114, 0.0319971376567221), (4115, 0.0), (4116, 0.024799692900689826), (4117, 0.0033438925266472356), (4118, 0.008812284085402383), (4119, 0.0), (4120, 0.0), (4121, 0.03785115810996559), (4122, 0.010148790049415038), (4123, 0.011721364268364749), (4124, 0.021523979987498224), (4125, 0.010909767759160577), (4126, 0.032625183201754726), (4127, 0.0), (4128, 0.02512960218868434), (4129, 0.0028353853065578496), (4130, 0.03254810924357971), (4131, 0.0), (4132, 0.0031530948348753762), (4133, 0.0031941076913986253), (4134, 0.0), (4135, 0.002970878696926251), (4136, 0.00305158117733132), (4137, 0.01168900977983157), (4138, 0.0032469520086282067), (4139, 0.002828724337001391), (4140, 0.003200634160103408), (4141, 0.01718387760897452), (4142, 0.003745157989469499), (4143, 0.0026331530443023466), (4144, 0.009792278655153672), (4145, 0.0034410090706296047), (4146, 0.0), (4147, 0.003566837969590841), (4148, 0.07246191622194452), (4149, 0.0), (4150, 0.011923635526762373), (4151, 0.019233768907753065), (4152, 0.01105082778840365), (4153, 0.019144331954481713), (4154, 0.0026469795151078603), (4155, 0.021100438852535913), (4156, 0.0025677857532476933), (4157, 0.0), (4158, 0.01422606392144482), (4159, 0.08763000272587515), (4160, 0.0032843311183778467), (4161, 0.01568032240210797), (4162, 0.0), (4163, 0.003396214735636597), (4164, 0.007462883931072416), (4165, 0.007535899211556346), (4166, 0.0), (4167, 0.0), (4168, 0.0), (4169, 0.03274481027445426), (4170, 0.020920546221431646), (4171, 0.008185949963804744), (4172, 0.0038726204344677224), (4173, 0.009258430345057137), (4174, 0.01066093094296311), (4175, 0.003119192531699643), (4176, 0.023060980575805214), (4177, 0.009654686482597707), (4178, 0.02268589368343011), (4179, 0.017679256688440614), (4180, 0.0), (4181, 0.0), (4182, 0.01868976457909548), (4183, 0.002841165551838632), (4184, 0.008205149272420251), (4185, 0.0), (4186, 0.007921247722557513), (4187, 0.03562912357770425), (4188, 0.0), (4189, 0.035180614138083696), (4190, 0.0), (4191, 0.0), (4192, 0.010749869561862458), (4193, 0.00955258090093875), (4194, 0.0), (4195, 0.0), (4196, 0.0), (4197, 0.05579216750798284), (4198, 0.021827226960994657), (4199, 0.010735079349872764), (4200, 0.016120457013288483), (4201, 0.0), (4202, 0.04163935459055789), (4203, 0.026367414610529213), (4204, 0.013861459325276578), (4205, 0.017381460996697306), (4206, 0.0027825243709348473), (4207, 0.009391198703948684), (4208, 0.0), (4209, 0.017860500871149997), (4210, 0.0), (4211, 0.0), (4212, 0.0), (4213, 0.0027854742575205145), (4214, 0.011796539578026238), (4215, 0.013738676929756648), (4216, 0.04399586262663995), (4217, 0.022496888692766476), (4218, 0.008464384405971158), (4219, 0.0), (4220, 0.0025841836716615396), (4221, 0.003916510832243011), (4222, 0.003928650517958214), (4223, 0.0), (4224, 0.0), (4225, 0.003075001938075032), (4226, 0.011483470566904515), (4227, 0.0386608192991838), (4228, 0.0028940199826967264), (4229, 0.0), (4230, 0.003753368590691749), (4231, 0.011841944567722818), (4232, 0.009650883616339073), (4233, 0.008655227330962858), (4234, 0.0), (4235, 0.007487447934019317), (4236, 0.0), (4237, 0.014716704468119094), (4238, 0.0), (4239, 0.0), (4240, 0.009446508575980487), (4241, 0.0), (4242, 0.02394328098837772), (4243, 0.003334811834356864), (4244, 0.01271767505873731), (4245, 0.003147304194243479), (4246, 0.018248197900375913), (4247, 0.010180303010337196), (4248, 0.0), (4249, 0.0030224566515136644), (4250, 0.0), (4251, 0.0), (4252, 0.02920890550973223), (4253, 0.07105992694405994), (4254, 0.0027505034001232454), (4255, 0.019765218061543827), (4256, 0.031655185932308316), (4257, 0.002759511946951641), (4258, 0.0), (4259, 0.003253808993328965), (4260, 0.0), (4261, 0.00606282860260009), (4262, 0.031914218139394185), (4263, 0.060656464374055294), (4264, 0.0), (4265, 0.00864831981721678), (4266, 0.002955895883682086), (4267, 0.0282870390879824), (4268, 0.011056297036792328), (4269, 0.0031420985664801677), (4270, 0.0), (4271, 0.010707491878062874), (4272, 0.0), (4273, 0.002997624638661243), (4274, 0.017566323809527457), (4275, 0.010891111598918956), (4276, 0.0), (4277, 0.010609229181045225), (4278, 0.0), (4279, 0.0), (4280, 0.017273910594138395), (4281, 0.012140283420429325), (4282, 0.0026964701821904527), (4283, 0.0029859943700383043), (4284, 0.0028742171814084834), (4285, 0.0), (4286, 0.10459469972358303), (4287, 0.02904436732367929), (4288, 0.035648127031616024), (4289, 0.00869761972184151), (4290, 0.0), (4291, 0.025072624125419146), (4292, 0.009896726022674421), (4293, 0.01238750851599787), (4294, 0.0), (4295, 0.032011004937796794), (4296, 0.002551570367299711), (4297, 0.0), (4298, 0.023873519426327792), (4299, 0.0559259394817327), (4300, 0.011737172360859697), (4301, 0.0021733329925804025), (4302, 0.0), (4303, 0.0), (4304, 0.012056591097488087), (4305, 0.0), (4306, 0.003621593026373449), (4307, 0.02818916497525014), (4308, 0.0032124244863473085), (4309, 0.013111403714154759), (4310, 0.00866213102319691), (4311, 0.0543885146838872), (4312, 0.0), (4313, 0.0), (4314, 0.0), (4315, 0.0), (4316, 0.0), (4317, 0.0), (4318, 0.0030953875692994607), (4319, 0.0), (4320, 0.002921889924781171), (4321, 0.0310279185928797), (4322, 0.0), (4323, 0.0), (4324, 0.029969982103224893), (4325, 0.007579621606573213), (4326, 0.002685671000020837), (4327, 0.010236834456337045), (4328, 0.0), (4329, 0.07473277777635405), (4330, 0.0029309627761622235), (4331, 0.0), (4332, 0.0), (4333, 0.013033415015921606), (4334, 0.00302761601886574), (4335, 0.009307927049844362), (4336, 0.002829480028935703), (4337, 0.011663174235382073), (4338, 0.0), (4339, 0.0), (4340, 0.003029673599460825), (4341, 0.019653621410298784), (4342, 0.0), (4343, 0.002591039842007889), (4344, 0.002504034511148527), (4345, 0.0138254796951232), (4346, 0.0), (4347, 0.0), (4348, 0.0026938777956464193), (4349, 0.0028804428460867722), (4350, 0.002640331285674989), (4351, 0.0), (4352, 0.0), (4353, 0.007514823648543011), (4354, 0.003064390745752381), (4355, 0.003120722489479315), (4356, 0.010772007256436261), (4357, 0.003122547884656719), (4358, 0.0), (4359, 0.021854208882838483), (4360, 0.0), (4361, 0.0030476630790948625), (4362, 0.002868264414888532), (4363, 0.0030680456608206935), (4364, 0.0), (4365, 0.0), (4366, 0.015128312854226885), (4367, 0.0), (4368, 0.04632902958030082), (4369, 0.015454854006976632), (4370, 0.0), (4371, 0.0031412758420404007), (4372, 0.0), (4373, 0.0), (4374, 0.0397775692427994), (4375, 0.0), (4376, 0.0), (4377, 0.011951864921064391), (4378, 0.0), (4379, 0.039320499294697484), (4380, 0.016632522913582106), (4381, 0.0028398701437005293), (4382, 0.01409396429299969), (4383, 0.0), (4384, 0.0), (4385, 0.0), (4386, 0.002526419973866296), (4387, 0.010824427036484053), (4388, 0.008898786450824814), (4389, 0.013195265112690086), (4390, 0.039489673708862354), (4391, 0.049152083769684905), (4392, 0.012263362659822447), (4393, 0.0), (4394, 0.019310174585077004), (4395, 0.002849781748158994), (4396, 0.0032773565461103778), (4397, 0.0032601291045428345), (4398, 0.0033849070844534776), (4399, 0.04467409979960974), (4400, 0.0037342361677362664), (4401, 0.033270993328791285), (4402, 0.010710155881164406), (4403, 0.027537492814963194), (4404, 0.038162800290919875), (4405, 0.0), (4406, 0.0), (4407, 0.015150460300210701), (4408, 0.0), (4409, 0.002912000221487867), (4410, 0.03139244258763413), (4411, 0.0025095610887709294), (4412, 0.00343146449254742), (4413, 0.0), (4414, 0.0), (4415, 0.0), (4416, 0.0034481071307324467), (4417, 0.0), (4418, 0.0038472563423685006), (4419, 0.0030538291392147006), (4420, 0.0030888362616245998), (4421, 0.0), (4422, 0.0030271615048997665), (4423, 0.018900373141677775), (4424, 0.02923453936687669), (4425, 0.0), (4426, 0.0), (4427, 0.0539466311058819), (4428, 0.002781549490550046), (4429, 0.0025434168020957754), (4430, 0.003066984370247864), (4431, 0.003132740419944258), (4432, 0.0025639636315444394), (4433, 0.03449275326214351), (4434, 0.03194869003870375), (4435, 0.022855791114041728), (4436, 0.008811781205143511), (4437, 0.007783818150999687), (4438, 0.008296156649499002), (4439, 0.0), (4440, 0.010450593529106262), (4441, 0.0), (4442, 0.010767641467112512), (4443, 0.0035884929152557297), (4444, 0.003837260003089759), (4445, 0.02168756613450979), (4446, 0.02134704843340162), (4447, 0.0), (4448, 0.0152216789502876), (4449, 0.0), (4450, 0.007243928401882193), (4451, 0.0), (4452, 0.0), (4453, 0.01849922003822026), (4454, 0.0), (4455, 0.0), (4456, 0.011993698003171531), (4457, 0.0), (4458, 0.003493679904907207), (4459, 0.0), (4460, 0.009808840025547019), (4461, 0.0028200308182440054), (4462, 0.0), (4463, 0.0), (4464, 0.0), (4465, 0.0528597990192211), (4466, 0.01093779601971389), (4467, 0.0), (4468, 0.0075554099621003255), (4469, 0.013870151018961559), (4470, 0.0030201078076426244), (4471, 0.039096440818256153), (4472, 0.04400367901315743), (4473, 0.024484699798984134), (4474, 0.011688597442916395), (4475, 0.009982675782929721), (4476, 0.00250663217806239), (4477, 0.012969296051203495), (4478, 0.01771368173005144), (4479, 0.0026979507926821952), (4480, 0.0), (4481, 0.00780771868634978), (4482, 0.010418161776704843), (4483, 0.0), (4484, 0.0039056250787493597), (4485, 0.028521393750912755), (4486, 0.008470198133459735), (4487, 0.09654728312293356), (4488, 0.010096774322295514), (4489, 0.031583265359422165), (4490, 0.013736191279674266), (4491, 0.0), (4492, 0.0), (4493, 0.0), (4494, 0.0033092862873627072), (4495, 0.003137639337700116), (4496, 0.0), (4497, 0.021186189620508597), (4498, 0.025825033809881076), (4499, 0.015888748111517397), (4500, 0.0), (4501, 0.002959533070843231), (4502, 0.010138974545841319), (4503, 0.019922981094009827), (4504, 0.014067516990525343), (4505, 0.003100686650150398), (4506, 0.0), (4507, 0.07301493097622992), (4508, 0.0), (4509, 0.0), (4510, 0.021034767253735185), (4511, 0.03579625487997187), (4512, 0.022205593992809088), (4513, 0.0), (4514, 0.0), (4515, 0.009629177790213026), (4516, 0.003359061968845216), (4517, 0.013514663762294456), (4518, 0.014137733479566617), (4519, 0.0), (4520, 0.0028998474975747853), (4521, 0.0036563464027175546), (4522, 0.0031923093799423236), (4523, 0.0028022183503225357), (4524, 0.0), (4525, 0.0), (4526, 0.0), (4527, 0.0), (4528, 0.015828970018807616), (4529, 0.003927632078994616), (4530, 0.0028648635870269726), (4531, 0.012302676894224788), (4532, 0.014470040699984931), (4533, 0.0029980079874934664), (4534, 0.010216184547719756), (4535, 0.003278709578516205), (4536, 0.002798660484526085), (4537, 0.0), (4538, 0.024956147873244815), (4539, 0.0), (4540, 0.0031475628169895836), (4541, 0.0), (4542, 0.05191423373570846), (4543, 0.007871098786490068), (4544, 0.0036542891719157367), (4545, 0.03370246699996364), (4546, 0.0037864628276776738), (4547, 0.013435106788016009), (4548, 0.0), (4549, 0.012919462194992133), (4550, 0.002839808035551855), (4551, 0.012285546071904142), (4552, 0.0), (4553, 0.007145418266957317), (4554, 0.027039654964635673), (4555, 0.02196734558404312), (4556, 0.012147396300471605), (4557, 0.01981055477683632), (4558, 0.0), (4559, 0.0), (4560, 0.0), (4561, 0.0), (4562, 0.014467890924814377), (4563, 0.00300381465739618), (4564, 0.0), (4565, 0.0), (4566, 0.003087997531432592), (4567, 0.002799678170004539), (4568, 0.0), (4569, 0.019055549575533293), (4570, 0.0), (4571, 0.0231607527436905), (4572, 0.003595145277050531), (4573, 0.002839738609686966), (4574, 0.012401837526742279), (4575, 0.00309943349766501), (4576, 0.0028452013559104833), (4577, 0.0), (4578, 0.0), (4579, 0.0031574510808075654), (4580, 0.01844628313559051), (4581, 0.04710215226011598), (4582, 0.02411446635796144), (4583, 0.010612909757799126), (4584, 0.017135585011076444), (4585, 0.0), (4586, 0.0), (4587, 0.026505836159583643), (4588, 0.0), (4589, 0.003428658373255441), (4590, 0.010371633507327584), (4591, 0.0027244351667327304), (4592, 0.0), (4593, 0.0032573221309808334), (4594, 0.02292102220135983), (4595, 0.0), (4596, 0.0), (4597, 0.0), (4598, 0.025568473588961086), (4599, 0.024897348779831567), (4600, 0.007919048136134789), (4601, 0.003206281178649045), (4602, 0.003213953160854889), (4603, 0.03357163548872597), (4604, 0.02993971334656023), (4605, 0.021657667580346734), (4606, 0.0037085232944066454), (4607, 0.004253714643366445), (4608, 0.002599499243773971), (4609, 0.0), (4610, 0.009316818107564765), (4611, 0.003904546474943294), (4612, 0.003646738141595592), (4613, 0.0), (4614, 0.002798030073962813), (4615, 0.0), (4616, 0.0027059812293198267), (4617, 0.015182856986844693), (4618, 0.0), (4619, 0.012248262078604468), (4620, 0.0026764854740960204), (4621, 0.0), (4622, 0.0), (4623, 0.02461303917481727), (4624, 0.003071739627759715), (4625, 0.0030415611573066333), (4626, 0.002368338572968069), (4627, 0.0025135555332484417), (4628, 0.05961945027038562), (4629, 0.0030558488437017815), (4630, 0.0), (4631, 0.0), (4632, 0.003453514562062131), (4633, 0.003442606516881569), (4634, 0.0027333875878921615), (4635, 0.0), (4636, 0.0024703011028809198), (4637, 0.013172606310551668), (4638, 0.002672138559142197), (4639, 0.009054771719738338), (4640, 0.0029347466558591597), (4641, 0.11174012773281286), (4642, 0.0), (4643, 0.0030132007956117455), (4644, 0.0), (4645, 0.0), (4646, 0.0), (4647, 0.0), (4648, 0.017134907841669485), (4649, 0.0026901799275375247), (4650, 0.0033758710138751587), (4651, 0.012730932406183611), (4652, 0.0022390414192699323), (4653, 0.012842635297020632), (4654, 0.0), (4655, 0.0), (4656, 0.008811868550916643), (4657, 0.03202724282163537), (4658, 0.010672432842983273), (4659, 0.009337999720945258), (4660, 0.0036122198727105643), (4661, 0.002596600980044259), (4662, 0.0), (4663, 0.019110236752724177), (4664, 0.04956296351694173), (4665, 0.0), (4666, 0.0), (4667, 0.0), (4668, 0.0028863728515060865), (4669, 0.024774823939945605), (4670, 0.002806012536032778), (4671, 0.0), (4672, 0.0), (4673, 0.010751964351697016), (4674, 0.0023527460513243924), (4675, 0.0), (4676, 0.0), (4677, 0.002960762935587132), (4678, 0.0), (4679, 0.024551641812386556), (4680, 0.0031320227604740244), (4681, 0.0), (4682, 0.016076791663794738), (4683, 0.010539453233092973), (4684, 0.05833021142188175), (4685, 0.0028759465994353884), (4686, 0.002947188099944738), (4687, 0.002864289398311031), (4688, 0.0), (4689, 0.0), (4690, 0.015537822026369188), (4691, 0.0), (4692, 0.0036566001234057295), (4693, 0.0028454670078408707), (4694, 0.003441877061326614), (4695, 0.012273697030269788), (4696, 0.019095061072705168), (4697, 0.0), (4698, 0.0), (4699, 0.0249201069307894), (4700, 0.0), (4701, 0.003491278522089587), (4702, 0.0), (4703, 0.0), (4704, 0.004001822739333494), (4705, 0.04257605394506902), (4706, 0.003254454204040431), (4707, 0.00915270147791317), (4708, 0.008587269120206704), (4709, 0.011107541059203545), (4710, 0.024645508716159194), (4711, 0.0), (4712, 0.06365749560074765), (4713, 0.0033910344195727917), (4714, 0.0), (4715, 0.0029368864449017653), (4716, 0.0), (4717, 0.022977765454431857), (4718, 0.0032853367815349702), (4719, 0.00567346071161252), (4720, 0.020109712319606038), (4721, 0.013073311740974435), (4722, 0.020893900196988998), (4723, 0.003581595270756693), (4724, 0.013684432788232863), (4725, 0.010563446988084623), (4726, 0.0406225641850233), (4727, 0.008778666633968066), (4728, 0.0), (4729, 0.0028137755744139232), (4730, 0.0), (4731, 0.0033166179467833752), (4732, 0.00319503919227602), (4733, 0.002444195299949227), (4734, 0.003165701341203282), (4735, 0.01313632112332577), (4736, 0.033116487405368406), (4737, 0.0), (4738, 0.0), (4739, 0.04028354998622019), (4740, 0.03485706826031488), (4741, 0.0), (4742, 0.0), (4743, 0.002858205418872625), (4744, 0.002374673083052017), (4745, 0.0), (4746, 0.0), (4747, 0.009404683379261498), (4748, 0.0025369960135473105), (4749, 0.003931264123527433), (4750, 0.0), (4751, 0.0), (4752, 0.008296761066253534), (4753, 0.003340246233614124), (4754, 0.0), (4755, 0.0), (4756, 0.0210042690526744), (4757, 0.012163521223369026), (4758, 0.0), (4759, 0.02045803285638642)]\n"
          ]
        }
      ]
    },
    {
      "cell_type": "code",
      "source": [
        "len(Recommendation_Score)"
      ],
      "metadata": {
        "colab": {
          "base_uri": "https://localhost:8080/"
        },
        "id": "XaGQ61jBRpRB",
        "outputId": "d1321c44-f044-4659-b782-ae22a69aa039"
      },
      "execution_count": 30,
      "outputs": [
        {
          "output_type": "execute_result",
          "data": {
            "text/plain": [
              "4760"
            ]
          },
          "metadata": {},
          "execution_count": 30
        }
      ]
    },
    {
      "cell_type": "markdown",
      "source": [
        "**Get All Movies Sort Based on Recommendatons Score wrt Favourite Movie**"
      ],
      "metadata": {
        "id": "EYTqanO5R-sQ"
      }
    },
    {
      "cell_type": "code",
      "source": [
        "#sorting movies based on their similarity score\n",
        "sorted_similar_movies = sorted(Recommendation_Score, key = lambda x:x[1], reverse=True)\n",
        "print(sorted_similar_movies)"
      ],
      "metadata": {
        "colab": {
          "base_uri": "https://localhost:8080/"
        },
        "id": "sfOGQ25TShic",
        "outputId": "c5385fa7-ab93-4e86-cb60-d7f1f1c4543d"
      },
      "execution_count": 31,
      "outputs": [
        {
          "output_type": "stream",
          "name": "stdout",
          "text": [
            "[(5, 1.0000000000000002), (624, 0.1728488549719541), (3634, 0.13779224634532378), (4641, 0.11174012773281286), (1936, 0.11100897190029745), (2757, 0.10738351731067612), (117, 0.1070586667014112), (4286, 0.10459469972358303), (3149, 0.10359517295076145), (3850, 0.09927164692590847), (53, 0.09834463063047183), (206, 0.09831919740260642), (193, 0.09790211808987379), (793, 0.09735248327661346), (198, 0.0968740877472814), (4487, 0.09654728312293356), (204, 0.09288191638443809), (920, 0.0925279147127268), (2313, 0.09243700904429011), (2075, 0.09192927437027043), (2042, 0.091904878079033), (3274, 0.09187570777583105), (629, 0.08921421381514215), (59, 0.08851375533574951), (2888, 0.08832955528246803), (871, 0.08815569846198817), (4159, 0.08763000272587515), (3040, 0.08171422164086446), (115, 0.08101331556746479), (335, 0.08055162922242352), (576, 0.07883017205541627), (646, 0.07841542084148816), (3868, 0.07816331829980419), (786, 0.07794432356724887), (1173, 0.07743458529126529), (2444, 0.07656645760068975), (3614, 0.07625724280817897), (547, 0.0756388544120426), (1034, 0.07547506603012447), (1463, 0.07512798298230512), (2152, 0.07494490684474617), (4329, 0.07473277777635405), (2340, 0.07392782518162397), (3089, 0.07354192001378546), (217, 0.07326875433935157), (1472, 0.07321265787973676), (2083, 0.07306759288470754), (4507, 0.07301493097622992), (2250, 0.07252623559726025), (4148, 0.07246191622194452), (3330, 0.07186581519806308), (4253, 0.07105992694405994), (192, 0.07100327127778379), (1918, 0.07094625163838013), (226, 0.07063143276815316), (1026, 0.07054814825043952), (4045, 0.0695284127203514), (2352, 0.06851217714807352), (1387, 0.06801079044558528), (3332, 0.0676916280124703), (2766, 0.06702214435778771), (849, 0.06684647886608909), (1175, 0.06621728223904112), (1200, 0.06563838260595906), (3902, 0.06538315367132237), (692, 0.06516906630207421), (121, 0.06492515192869362), (638, 0.0647355548990956), (2176, 0.06459340334748372), (541, 0.06446810294557924), (1492, 0.06423053892942088), (20, 0.06398236977514019), (2487, 0.0638463115760725), (3416, 0.06369561945095448), (4712, 0.06365749560074765), (1084, 0.0631360622781526), (3243, 0.06307764296048277), (3145, 0.06294646076495714), (3154, 0.06265790225555094), (1071, 0.06244218074051012), (1970, 0.06225319300501564), (2934, 0.06201918291309455), (1130, 0.06174579785567906), (97, 0.061729713037219115), (1340, 0.06156604802992787), (1739, 0.06142014642055683), (92, 0.06138099023925914), (2434, 0.06136338662636601), (847, 0.06127760018614836), (606, 0.06107009379430871), (1438, 0.06097586921277698), (4263, 0.060656464374055294), (1541, 0.06061016016922217), (96, 0.060585376239713794), (3285, 0.06025390365640826), (1577, 0.060234914573478626), (2026, 0.06008135942862341), (1202, 0.0600430122643129), (98, 0.05993495463924575), (1297, 0.05976364315859234), (4628, 0.05961945027038562), (946, 0.05931263398031094), (2739, 0.05873971851178557), (2157, 0.0586512902882364), (4684, 0.05833021142188175), (2118, 0.058242329757033404), (2012, 0.05808456407105719), (1592, 0.05793046921520166), (197, 0.05775795308110738), (3726, 0.05774077385386813), (3381, 0.05703153469046842), (515, 0.0570068631652181), (1703, 0.05683493632657591), (2158, 0.056555523497962626), (434, 0.056375090810300704), (1847, 0.05634182256819155), (183, 0.056100535577403896), (3867, 0.05599336796096234), (4299, 0.0559259394817327), (3866, 0.05592226501591026), (3179, 0.05581812386999847), (4197, 0.05579216750798284), (2016, 0.055716580275846146), (2165, 0.055669327685833034), (2949, 0.055485045487839814), (2153, 0.05509091501523733), (3025, 0.05506737634277804), (2845, 0.05487987895961892), (3370, 0.05485098369238193), (23, 0.054730982878127866), (904, 0.05467534297099473), (3986, 0.05459922170077188), (4311, 0.0543885146838872), (3460, 0.05438297500278472), (1985, 0.05419407210768304), (896, 0.05416740344082521), (1920, 0.05410173252735103), (2988, 0.05409130402548348), (4427, 0.0539466311058819), (1925, 0.053140096750324634), (500, 0.05293380359496409), (1424, 0.0529285433078405), (3977, 0.0529134972948973), (3659, 0.05286581083632088), (4465, 0.0528597990192211), (73, 0.05281850729398648), (1128, 0.05279428346584699), (166, 0.052642207036426976), (3389, 0.05242336484143791), (215, 0.05235700345951523), (1831, 0.05214369605299129), (3, 0.0519911011825567), (4542, 0.05191423373570846), (1068, 0.05181605319490792), (1923, 0.051758176684605875), (739, 0.051752882257207), (1444, 0.05174541216958875), (2581, 0.051619919198940364), (25, 0.05132948307271069), (213, 0.051324019711660285), (2622, 0.050921775993348156), (221, 0.05077073825174378), (2093, 0.050706897013073404), (476, 0.050576419992385116), (543, 0.050466259886288264), (18, 0.05041567800294471), (703, 0.05025753943037659), (1428, 0.05016358987753851), (3406, 0.04999470901291965), (3853, 0.04997680865721586), (1533, 0.04975069553089713), (3167, 0.04964769104732633), (1683, 0.049587602502884395), (3234, 0.04957433606923927), (4664, 0.04956296351694173), (3728, 0.049560815690741236), (1553, 0.04955280745889116), (3344, 0.04915235364498818), (4391, 0.049152083769684905), (2358, 0.04890514968584209), (2968, 0.048510622377923175), (2799, 0.04829006300898523), (1747, 0.04824075716313009), (1782, 0.048233832560977075), (3664, 0.04819696023783602), (2808, 0.048046428078066646), (3006, 0.0478523840882613), (84, 0.04776099764261721), (2517, 0.047736085800865045), (1197, 0.047625836940009755), (1367, 0.04759883419510873), (3751, 0.0475755281500729), (621, 0.04748979313973509), (863, 0.04746085951975046), (4067, 0.047302728983261086), (2526, 0.047238435879224557), (721, 0.04721185406864495), (2853, 0.047135087159947166), (4581, 0.04710215226011598), (2317, 0.04708350017656063), (1458, 0.047044390196903395), (2754, 0.046870814577508496), (1255, 0.046708745357417994), (3556, 0.04669376093068921), (3297, 0.04649331970842403), (2618, 0.046457438319118693), (3043, 0.046335674367098345), (4368, 0.04632902958030082), (1756, 0.04620020165751363), (3394, 0.04615902936731012), (74, 0.046012175151584685), (184, 0.04572149966227531), (334, 0.045678812874924174), (1153, 0.045478350864763734), (188, 0.04528759510782297), (2528, 0.04516657204603383), (190, 0.04506774443614609), (1076, 0.044972835384419194), (3620, 0.044894329087732616), (1165, 0.04469211317133195), (4399, 0.04467409979960974), (457, 0.04463919904909993), (1316, 0.044623386863787376), (690, 0.04461944286529378), (377, 0.04457607390610482), (978, 0.04435782224957701), (1534, 0.0443269431435703), (2981, 0.04420573861100233), (210, 0.044113443830359846), (2264, 0.044051355589805316), (4472, 0.04400367901315743), (4216, 0.04399586262663995), (3010, 0.043734757270467016), (3326, 0.04359909206509746), (787, 0.04347711524878203), (2989, 0.043396191033008874), (181, 0.04290562040980764), (1736, 0.042849103220703094), (1888, 0.042795205356044315), (2546, 0.042609928501651094), (4705, 0.04257605394506902), (622, 0.042560779768519304), (3012, 0.04254842649174694), (164, 0.042476964343643335), (2965, 0.042408130104848556), (1489, 0.04223134570792093), (840, 0.042179633196356536), (3174, 0.04212015247686532), (30, 0.04203136500225512), (1334, 0.042017966935728575), (3674, 0.04190907670463735), (416, 0.04169366343825975), (4202, 0.04163935459055789), (4102, 0.041594310696607385), (848, 0.04155504395266353), (2780, 0.041512372481951325), (2082, 0.04122643233139236), (4023, 0.0411557484992509), (1347, 0.040977853169555496), (3298, 0.0407959524174661), (856, 0.040741320832122105), (4726, 0.0406225641850233), (3392, 0.04059700679953303), (924, 0.04049869304098984), (2195, 0.04046937711340453), (845, 0.040468327780578225), (3317, 0.04044201838769587), (2587, 0.040376690300462745), (3042, 0.04034848600307458), (2615, 0.04033221779087395), (4739, 0.04028354998622019), (2102, 0.04028214293345172), (3364, 0.04023096709573223), (1251, 0.04022792462627698), (1015, 0.0401062603785966), (3961, 0.03996580169540513), (667, 0.03995335604557463), (349, 0.03992475679240862), (14, 0.03986593100010247), (2762, 0.039781693616613094), (4374, 0.0397775692427994), (2512, 0.039766585375405936), (1944, 0.03974820314884857), (237, 0.0397424318753253), (2194, 0.03969734652719534), (256, 0.03968330416088574), (2049, 0.039677221517916576), (2984, 0.03961139117278156), (3731, 0.03961034646235648), (854, 0.039522310117740156), (3097, 0.03952131344679333), (4390, 0.039489673708862354), (1156, 0.039439042351901335), (2661, 0.03938735820218203), (4379, 0.039320499294697484), (940, 0.03929464724061075), (2240, 0.039176956261386155), (982, 0.039174562320623205), (2256, 0.03914323897850245), (4471, 0.039096440818256153), (2468, 0.039017212789006044), (2750, 0.03900147542344523), (929, 0.038958920762024965), (487, 0.03884287994523146), (2199, 0.0387637206821357), (2069, 0.03874486803121904), (262, 0.03873133747826553), (4227, 0.0386608192991838), (3741, 0.03865744070147604), (111, 0.03851370691049739), (2260, 0.03850026522550275), (3904, 0.03849531560534405), (1122, 0.03826347768718753), (4404, 0.038162800290919875), (1554, 0.03815443149634065), (2404, 0.038134489337713025), (1643, 0.03808945015791165), (866, 0.03805128923583184), (972, 0.0379851526480527), (3656, 0.03797410421618581), (2878, 0.03793845658165943), (4121, 0.03785115810996559), (2269, 0.03782540083263778), (3142, 0.0377852583505776), (3161, 0.0377593100646263), (175, 0.03769439618895211), (1304, 0.037596079589302514), (3453, 0.037586805369265425), (2423, 0.03752873772566148), (2603, 0.03752700134867373), (2771, 0.03747275681858659), (1359, 0.0374478974948417), (3479, 0.037442921096303323), (180, 0.03742388811277312), (3303, 0.037414972509965415), (2514, 0.03740857076963765), (551, 0.03737738329458574), (989, 0.037327333634085774), (2745, 0.037213470500897766), (2554, 0.03719308876687539), (1717, 0.03710497502102002), (2056, 0.037095897958795504), (1351, 0.036768938624794724), (3318, 0.03673801749601924), (4004, 0.036720856861194175), (205, 0.03669515479097452), (452, 0.0366315820647923), (807, 0.03652824580701042), (2430, 0.03651484293104488), (1232, 0.036488270705129396), (1544, 0.03647955424395277), (1080, 0.03643054219250844), (4026, 0.03642541104037389), (3477, 0.03638218902567232), (773, 0.03631401155183755), (1597, 0.03620388724550975), (812, 0.03619075540345843), (3666, 0.036184982045153594), (4059, 0.03614896965909495), (3272, 0.03613394985993698), (1140, 0.03611865357764449), (889, 0.036082894719689826), (1491, 0.03602837570284385), (105, 0.03602375027842924), (659, 0.03600691134709895), (2617, 0.03593866732147649), (3380, 0.03592326524877934), (4511, 0.03579625487997187), (1973, 0.03574882336032114), (781, 0.03567489860461309), (277, 0.03566512585178935), (928, 0.035660994076970154), (4288, 0.035648127031616024), (4187, 0.03562912357770425), (575, 0.03559033790267255), (3848, 0.03557042988013687), (2024, 0.03552872592852678), (3694, 0.03550393340276885), (1036, 0.03544690404008706), (2279, 0.03535409403342085), (4011, 0.03529668825937769), (3589, 0.03529612697169677), (733, 0.035268952581731884), (3802, 0.03526847673647108), (1848, 0.03526507202656528), (1565, 0.03522023913848677), (2931, 0.03519902288007066), (1103, 0.0351876361565449), (4189, 0.035180614138083696), (1596, 0.03515891345729999), (3305, 0.03514473161684259), (243, 0.03510160646006721), (2502, 0.0350792312472872), (419, 0.035076126182355935), (3249, 0.03506642001164895), (2626, 0.03503283045098919), (1794, 0.034986771335331006), (1614, 0.03493295117387936), (4027, 0.03491042094141474), (1990, 0.03487105541070044), (4740, 0.03485706826031488), (2912, 0.03484904012196731), (3018, 0.03483414660199982), (2409, 0.034768149610276786), (3811, 0.03475627965547199), (1168, 0.034740257142959016), (814, 0.0346808763594447), (2830, 0.03466115781054531), (1591, 0.03460193961325507), (50, 0.034585418659448156), (1854, 0.034571093259165006), (3947, 0.03452595793065547), (4433, 0.03449275326214351), (1473, 0.03437630231783341), (632, 0.03434558403008653), (1390, 0.034342078660378444), (1321, 0.034331156505490394), (951, 0.03416253381254906), (3377, 0.03414555581199885), (2365, 0.034134226700289025), (604, 0.03412240253335977), (373, 0.03410869054302111), (216, 0.03401145657551794), (818, 0.034000176222895466), (822, 0.03390403507355648), (2919, 0.03389060488135574), (3960, 0.03375997730177957), (83, 0.033724032197449634), (4545, 0.03370246699996364), (1283, 0.033659916132294666), (794, 0.03365706220597387), (401, 0.033584505923171346), (4603, 0.03357163548872597), (2710, 0.03354001952408999), (3655, 0.03344652950137269), (1983, 0.03344126870746689), (3684, 0.03343887719208766), (2718, 0.03340183800134191), (3289, 0.03339997564013304), (3738, 0.033389972184672406), (2045, 0.03329258374166843), (486, 0.03327923104736055), (4401, 0.033270993328791285), (3593, 0.033242170357369843), (2300, 0.03319850231557969), (619, 0.033196712985092774), (4736, 0.033116487405368406), (1410, 0.03310939343427768), (7, 0.033098270930275266), (3732, 0.03307666525435624), (1052, 0.03294254700736233), (1187, 0.03294097440336715), (1628, 0.03293086041328986), (2648, 0.03291457939423611), (732, 0.03291237848846514), (317, 0.03290906342982371), (4169, 0.03274481027445426), (1243, 0.03272362326430268), (4126, 0.032625183201754726), (4130, 0.03254810924357971), (3554, 0.032501997388816976), (916, 0.032450669578965384), (513, 0.03242693914534765), (887, 0.03237955583644685), (1295, 0.032334200323611666), (72, 0.032275602840981826), (345, 0.03225427981786692), (1101, 0.03203020038721493), (4657, 0.03202724282163537), (4295, 0.032011004937796794), (2196, 0.03199833570403906), (4114, 0.0319971376567221), (2538, 0.031950135993258605), (4434, 0.03194869003870375), (4262, 0.031914218139394185), (1830, 0.03188961148502994), (521, 0.03183102546410667), (2821, 0.03180984971994954), (2447, 0.031786449791351874), (2978, 0.0317287441991584), (1551, 0.031656500128519116), (4256, 0.031655185932308316), (270, 0.031645590714406785), (4489, 0.031583265359422165), (2956, 0.03158002650815522), (2107, 0.031527604121735886), (1394, 0.03152632787796286), (2465, 0.0314716425000881), (447, 0.03141961825536069), (474, 0.03139319020013408), (4410, 0.03139244258763413), (687, 0.03130294452443848), (2129, 0.031257125711069735), (2831, 0.03114164242390815), (3591, 0.031133211661790446), (4321, 0.0310279185928797), (1981, 0.0310032061291296), (884, 0.030982122546961352), (1801, 0.03096244279830683), (4022, 0.03095179739421673), (4038, 0.03092884529023449), (512, 0.030903511106909667), (2148, 0.03086561317875857), (418, 0.030865199945605028), (2166, 0.030852137137890322), (1248, 0.030850215685340045), (3801, 0.030814107036461483), (246, 0.030766552424620997), (1691, 0.03070894142179683), (947, 0.03068448763610302), (2846, 0.030681996386122398), (253, 0.030653624895538956), (685, 0.030643058895990827), (2714, 0.03061789056447904), (509, 0.030538812823729344), (1035, 0.03050493931255518), (790, 0.030495999167797813), (655, 0.030434257936626616), (450, 0.030361388886336105), (283, 0.0303149097033203), (126, 0.03029533315307896), (211, 0.03023932146880455), (580, 0.030230919903109686), (1660, 0.030227213795877762), (1589, 0.030174042924741705), (2957, 0.03013775284656912), (3807, 0.030099920333131552), (3158, 0.030093109855071645), (3539, 0.03001884621925477), (4324, 0.029969982103224893), (4005, 0.029958547630836156), (4604, 0.02993971334656023), (1419, 0.02991254779279942), (3218, 0.029890459267909723), (3343, 0.029799795141570065), (1401, 0.029793103169862403), (2565, 0.02974200818328064), (3346, 0.029699702218067597), (109, 0.029686793194137612), (2550, 0.029674354565662413), (1835, 0.029603816808614306), (113, 0.029595775214658473), (3653, 0.02949050256754723), (1940, 0.02947808814117988), (2060, 0.02947648239008662), (1827, 0.029471311924620384), (321, 0.02946619938908051), (1964, 0.029460726642525577), (1028, 0.029440592144412078), (3911, 0.029436136467317943), (617, 0.0294233509630585), (2323, 0.029410754567873943), (530, 0.029410208335250692), (2057, 0.029405998103140936), (3976, 0.029315667794321234), (3083, 0.029293787881685154), (187, 0.029254002927778647), (4424, 0.02923453936687669), (4252, 0.02920890550973223), (127, 0.029175546243893086), (961, 0.02915251388380718), (11, 0.029151519581502992), (343, 0.02914961834704074), (1055, 0.029146729336360238), (588, 0.029134154432189877), (4287, 0.02904436732367929), (3265, 0.029037215906103184), (1315, 0.029015221714168805), (3384, 0.029004575137588896), (3408, 0.029002602543798855), (1774, 0.02897695207974772), (502, 0.028966857021296075), (52, 0.028931576350254843), (762, 0.028908192333174654), (1504, 0.02890048737962817), (1776, 0.02889188646837159), (329, 0.02888780991059541), (1226, 0.028886173414391807), (3071, 0.028792877598433134), (1461, 0.028789876327862084), (506, 0.028770809285795864), (1281, 0.028762012647520676), (3956, 0.028618935719880112), (3837, 0.02854042805949085), (1824, 0.028536501452594412), (901, 0.028527107036171975), (4485, 0.028521393750912755), (3313, 0.028452243791384092), (1110, 0.02843655793764634), (3700, 0.028334134299448772), (26, 0.028306705099380432), (2122, 0.028304211146674356), (4267, 0.0282870390879824), (3168, 0.028272248191692387), (1678, 0.028245556856308397), (1566, 0.028237134059419376), (2813, 0.028236664786241136), (4307, 0.02818916497525014), (3470, 0.02818223197469009), (2469, 0.02817813478445479), (2474, 0.02817657068342038), (412, 0.028137862111448156), (3847, 0.028039074378870224), (3279, 0.027981051144141636), (3523, 0.02795036465774479), (651, 0.027930725632666104), (3808, 0.027877123308343476), (3085, 0.02787599650087425), (2124, 0.02786490911452793), (2216, 0.027841227881960737), (391, 0.027798625548940803), (782, 0.027760917732744757), (1082, 0.027710128638506134), (1353, 0.027579261225111763), (141, 0.027578050785576763), (422, 0.02757028118713649), (1480, 0.027569781510654416), (2455, 0.02754954152833424), (4403, 0.027537492814963194), (3831, 0.027533071098472757), (3597, 0.02747678605117096), (3374, 0.027459772366033648), (1137, 0.027417129908987113), (3650, 0.027393032953253384), (3888, 0.027377513741761547), (1306, 0.027368136612041884), (1963, 0.027315354007839625), (1968, 0.027279192416129007), (2720, 0.027224735999065733), (2649, 0.027223787989826505), (1813, 0.02721977890343385), (2251, 0.02712846415178801), (3675, 0.027115727873569535), (1943, 0.027107739623087115), (1527, 0.02707933804214628), (2414, 0.027064713634759246), (381, 0.027064545477640867), (4554, 0.027039654964635673), (1724, 0.027034274304914636), (360, 0.027015667776014753), (4058, 0.026997653454528054), (304, 0.026902360746205355), (2014, 0.02688844530320457), (2143, 0.02687878426250012), (581, 0.026835523745137715), (399, 0.026806884497428424), (3955, 0.026794045872180698), (3461, 0.02676330117961443), (1053, 0.026755212727941), (2537, 0.026746997372499345), (2706, 0.026727060480994637), (1354, 0.02670874614778345), (572, 0.026654854864268378), (1752, 0.02663008585918719), (578, 0.026533033392524878), (1907, 0.02651654688060956), (4587, 0.026505836159583643), (1915, 0.026448342495796452), (991, 0.02644329898869419), (3056, 0.026412003288488608), (465, 0.026411944024002987), (344, 0.026407037685397348), (3602, 0.026400089709130426), (28, 0.026398926724169183), (4203, 0.026367414610529213), (830, 0.02636346330991157), (860, 0.02635587909847232), (1160, 0.02626290738316418), (1479, 0.026254334405247794), (808, 0.026252513826935713), (1216, 0.026233902301566577), (1503, 0.026230099881653212), (1092, 0.026225414889140035), (2552, 0.02621295519588855), (1606, 0.02621167805467138), (2624, 0.026192781025964763), (3488, 0.026175576970196145), (2511, 0.026142997421642125), (816, 0.026134088667333397), (2484, 0.026069716192406542), (1018, 0.02605349461422861), (2868, 0.02604491834646731), (1958, 0.02600647643119095), (1470, 0.025988532450221924), (382, 0.025950735421649447), (1808, 0.025945550531195367), (3720, 0.025910468769048962), (2673, 0.02588677901913368), (1022, 0.025881977582446834), (2777, 0.0258400323312871), (195, 0.025838077178384107), (4498, 0.025825033809881076), (2841, 0.025803173010537812), (2854, 0.02579785462310223), (3115, 0.02579279763983377), (2736, 0.02577786474540858), (892, 0.025696376969125634), (717, 0.025689643563470768), (718, 0.025686814084245366), (3533, 0.025681673011208845), (1587, 0.02567353969741175), (1542, 0.025614702053031492), (54, 0.025613811666393347), (3069, 0.025606713804637107), (4598, 0.025568473588961086), (2104, 0.025564482694505175), (1279, 0.0255599785842213), (1143, 0.025517377838745817), (2448, 0.025463401523387726), (669, 0.02545902877825702), (2991, 0.025442178955761872), (3386, 0.025411706709786874), (1998, 0.025410777063495253), (930, 0.025407538776202835), (43, 0.025397134073851104), (458, 0.02538153588467969), (3226, 0.02535129132380959), (249, 0.025335877098386188), (1484, 0.025321062345409942), (3466, 0.025274619987682004), (722, 0.02519252251123193), (4128, 0.02512960218868434), (3594, 0.025122062583901095), (1237, 0.025117201613387187), (4291, 0.025072624125419146), (2494, 0.02504392969255306), (2996, 0.02503327106465734), (285, 0.02502527776956094), (2958, 0.02501368210913251), (2350, 0.02500570219173065), (2366, 0.024987922843503086), (4538, 0.024956147873244815), (641, 0.024955879858945856), (4699, 0.0249201069307894), (1546, 0.024907505056422398), (2652, 0.024904583677742648), (4599, 0.024897348779831567), (3435, 0.02483578460174855), (673, 0.02482322470249807), (4116, 0.024799692900689826), (4669, 0.024774823939945605), (1263, 0.024759695637933912), (4710, 0.024645508716159194), (2181, 0.02463694107915051), (4623, 0.02461303917481727), (2322, 0.024568482498583854), (4679, 0.024551641812386556), (403, 0.024520988695051635), (376, 0.02450897529199371), (4473, 0.024484699798984134), (688, 0.024467068185482128), (662, 0.024454116205898185), (3375, 0.02434009805993857), (468, 0.024330694519840677), (1292, 0.02432880599927104), (3363, 0.024316701349609608), (1261, 0.024282002883757307), (1146, 0.02427678700815772), (2522, 0.02424341638034893), (1118, 0.024233725218790626), (2410, 0.024229850417982337), (1858, 0.02417519354674174), (2384, 0.02417382561980473), (1450, 0.02416128677984448), (663, 0.02412358758824692), (4582, 0.02411446635796144), (1249, 0.024110924683552803), (573, 0.024109553047984247), (2438, 0.024103791816416757), (987, 0.024093275279546057), (1285, 0.024037952094640387), (3777, 0.024034019590687475), (1653, 0.02402278142366209), (483, 0.024017338707940095), (2698, 0.024001451302790404), (1408, 0.02399223961288294), (3610, 0.023975255573354275), (3004, 0.02396846288139253), (3127, 0.023964357580115274), (2273, 0.023959427868166898), (4242, 0.02394328098837772), (2908, 0.02392895900824091), (2000, 0.02390804138484417), (4298, 0.023873519426327792), (743, 0.02386975021356988), (2727, 0.023836370433434947), (1528, 0.023816617392704523), (3667, 0.02373324108200201), (1575, 0.02371656359691777), (769, 0.02362411961630855), (742, 0.023574712744487445), (548, 0.023544718664145942), (1679, 0.023517671927378744), (481, 0.02349582709047899), (1706, 0.023440396278339083), (1362, 0.023417463986073632), (771, 0.023384050777983667), (2272, 0.02332138720502075), (1032, 0.023267425442356365), (726, 0.02325414256776324), (959, 0.023250574289663664), (3699, 0.02323395929547331), (2406, 0.02320405707185714), (2162, 0.023201371419833035), (566, 0.023181806337637695), (2079, 0.02317310338091855), (4571, 0.0231607527436905), (1402, 0.02316042434894039), (1693, 0.023129673725481192), (2318, 0.02311033370010511), (1205, 0.023094646384629682), (2499, 0.023077537139192944), (4176, 0.023060980575805214), (392, 0.0230560415404406), (239, 0.023022590688509908), (2986, 0.02301787218137322), (3401, 0.023006328826263057), (4089, 0.022997241695255848), (4717, 0.022977765454431857), (3452, 0.022971144314569796), (1339, 0.022964580562683475), (2650, 0.022947551297660625), (3670, 0.022941739999609186), (1013, 0.022934404541747788), (4594, 0.02292102220135983), (3081, 0.022901486410258524), (3498, 0.02287127813850313), (2395, 0.022865899311650017), (583, 0.0228648576891114), (4435, 0.022855791114041728), (2353, 0.02280551121311908), (2275, 0.022784881755626214), (1919, 0.022779032793845095), (1689, 0.022772432861532233), (2413, 0.02276747959206226), (3951, 0.02275041472098479), (3540, 0.022740953331234468), (760, 0.022734750893309837), (4178, 0.02268589368343011), (2427, 0.02264790514640782), (2598, 0.022647474116973744), (4060, 0.022599811195160913), (4002, 0.02259936512434108), (3433, 0.022539362698062542), (694, 0.02251014476625226), (1044, 0.0225022637973174), (2899, 0.022502203916158935), (1236, 0.02249941830020925), (3337, 0.022497294023138194), (4217, 0.022496888692766476), (3633, 0.022486728239971155), (2227, 0.022464289004416306), (508, 0.022418990105953596), (2493, 0.022403731076874794), (3450, 0.02238354720712763), (3423, 0.02230970729469425), (3110, 0.02229402330915354), (1726, 0.02227305662217924), (3639, 0.02227112448385124), (2689, 0.022269796423175045), (956, 0.022240589913243333), (3683, 0.022217783730798687), (4512, 0.022205593992809088), (3690, 0.02218158503017756), (1761, 0.02218086858768408), (2631, 0.022119538656487994), (1843, 0.022114465762969892), (1344, 0.02209900113302686), (605, 0.02206794502883401), (478, 0.02206637866531912), (1762, 0.021976472526576876), (4555, 0.02196734558404312), (853, 0.021964304474332653), (3117, 0.021961924598063884), (524, 0.021959643221046054), (1956, 0.02195443990711818), (1939, 0.021937779546319286), (2408, 0.021933615198509046), (813, 0.021898656010511025), (3822, 0.021892452765129567), (4359, 0.021854208882838483), (4198, 0.021827226960994657), (2112, 0.02180344996725073), (3146, 0.021766703173029957), (1151, 0.021764136220408285), (1469, 0.02174853345279074), (2297, 0.021711466015357797), (1474, 0.02170175776123328), (3580, 0.02170149916698532), (3982, 0.02169970317853992), (4445, 0.02168756613450979), (444, 0.021682419882150722), (1498, 0.021676534608413633), (708, 0.021674789395971956), (4605, 0.021657667580346734), (2817, 0.021645500750309632), (1806, 0.02163586606611271), (1890, 0.021634816523970306), (1420, 0.021616793905254585), (3336, 0.021545616729662084), (4124, 0.021523979987498224), (2890, 0.02151479092212013), (2591, 0.02147560483503842), (2159, 0.02145824763594005), (1883, 0.02143629439280431), (2435, 0.02143320558544121), (3642, 0.021421567722665222), (3677, 0.021360640432979954), (4446, 0.02134704843340162), (3086, 0.02134013421294146), (2571, 0.021339045253830992), (3833, 0.021334670320885086), (1043, 0.02130692486735791), (3005, 0.021233352154907254), (2131, 0.021217431733294042), (705, 0.02119187175817866), (4497, 0.021186189620508597), (485, 0.021169919007890232), (1933, 0.021157300368739734), (1993, 0.021148494509164124), (10, 0.021119521548410902), (4155, 0.021100438852535913), (3790, 0.021098688444065514), (2029, 0.02109304804598628), (1119, 0.021091212496598538), (123, 0.021086069153309833), (1505, 0.021068967328357554), (440, 0.02106483164550429), (3120, 0.02105997970564131), (554, 0.021054800459322048), (3213, 0.02104663770952168), (4510, 0.021034767253735185), (4756, 0.0210042690526744), (1436, 0.02096875633399993), (2095, 0.02096223486250741), (1997, 0.02093938229411156), (2937, 0.020929769764705935), (2432, 0.020921519043229916), (4170, 0.020920546221431646), (1637, 0.02091439634560497), (3087, 0.020902691562831352), (4722, 0.020893900196988998), (161, 0.020879301796246662), (1185, 0.020879146092041286), (469, 0.020843557754361714), (4033, 0.02084040673707431), (2480, 0.020827594882143308), (2680, 0.020805628133717956), (3973, 0.020759062097316), (2064, 0.02075375936299042), (1582, 0.020741900935716283), (1272, 0.02069930530851884), (2308, 0.02068732296654761), (1700, 0.020685687514392963), (2361, 0.02068118353948331), (2418, 0.020667400501547264), (76, 0.02057954743414744), (366, 0.02056845002292449), (3147, 0.020561607111961082), (3264, 0.020547671186206488), (2130, 0.020519679512881032), (3774, 0.020514138704825755), (1572, 0.020507257615049197), (875, 0.020497655869350165), (4759, 0.02045803285638642), (68, 0.02043993554098866), (70, 0.02042684701526672), (408, 0.0204267194183904), (831, 0.020423509950786428), (2311, 0.02041766506973613), (1139, 0.020415466047734743), (1579, 0.020402161359527334), (3150, 0.020399824996463572), (806, 0.020386167917230132), (665, 0.020344816573944696), (3200, 0.020338922666749738), (2334, 0.020332758350948756), (3241, 0.02030156533930309), (3845, 0.0202974831798415), (2601, 0.020294543184052015), (684, 0.020275660890313324), (3778, 0.020213247387624773), (3517, 0.02018803647148805), (1820, 0.02018480267350884), (439, 0.02018003898113948), (3920, 0.02015648932478044), (2790, 0.020142487858911116), (2513, 0.020130567053001522), (4720, 0.020109712319606038), (1107, 0.020101654145658572), (1867, 0.02004762998477231), (2466, 0.020023820450720063), (3959, 0.019961674820392176), (1335, 0.019951194065624664), (1532, 0.01994149614621321), (3395, 0.019939324113801855), (4503, 0.019922981094009827), (517, 0.01990849464992142), (3607, 0.01986215428827041), (1647, 0.019858580133869746), (4557, 0.01981055477683632), (4255, 0.019765218061543827), (2412, 0.01975154452153478), (2061, 0.019748216626432398), (976, 0.019684366395389563), (4341, 0.019653621410298784), (1581, 0.01963126185134394), (2210, 0.019595347730832876), (894, 0.019568923757428414), (1595, 0.019552069727826648), (753, 0.019503776769815438), (2344, 0.01950021354143494), (1378, 0.019481109874268907), (114, 0.019478273015007843), (3492, 0.01947367760513486), (1562, 0.019458883092677463), (330, 0.019451224953814898), (2185, 0.019444583013024073), (79, 0.019436872361486775), (323, 0.01941536779780103), (3931, 0.019381658788056994), (155, 0.019371802334516738), (4031, 0.01936811352915173), (795, 0.019317134213648838), (1466, 0.019314804128180273), (1072, 0.019311530777614553), (4394, 0.019310174585077004), (503, 0.019278209606463825), (174, 0.01925881612770575), (4151, 0.019233768907753065), (2271, 0.019210957559706754), (397, 0.01920824713368478), (1974, 0.019198903504643636), (475, 0.019174822031587248), (3617, 0.019155658059314164), (4153, 0.019144331954481713), (3188, 0.01913560751549985), (119, 0.01912898092592212), (1506, 0.01912429274077209), (1585, 0.01911110371385822), (4663, 0.019110236752724177), (4696, 0.019095061072705168), (1838, 0.019088721994477087), (4569, 0.019055549575533293), (2087, 0.01903301973461021), (3292, 0.019027081718433706), (3946, 0.019011444208697992), (433, 0.019001044107847913), (2785, 0.01896983853606006), (3402, 0.018963135792776448), (358, 0.01896285824635864), (2008, 0.018961373104572368), (3362, 0.018955006160471286), (3475, 0.01893112697375238), (2422, 0.01892642233047649), (445, 0.018907813458962468), (1913, 0.0189053948883018), (4423, 0.018900373141677775), (3637, 0.018894143756901308), (1780, 0.018845638728913316), (3465, 0.018823872399884034), (1738, 0.018813695418727967), (3473, 0.018775311930102397), (2357, 0.018766250706021427), (3649, 0.018752873142291477), (1074, 0.018733245856241768), (4182, 0.01868976457909548), (2445, 0.018683563655433735), (1979, 0.018678066741845495), (1671, 0.01865947486775547), (1033, 0.018652684578125123), (3819, 0.0186519648710775), (2967, 0.018646442321465846), (939, 0.01863270172209589), (385, 0.01862556946813617), (1079, 0.018608948379835927), (311, 0.018601320077957784), (833, 0.01854712770796539), (1123, 0.018530400180713863), (2479, 0.01850139969249652), (2280, 0.01850033494637028), (3011, 0.01849927517289758), (4453, 0.01849922003822026), (2242, 0.01849644827509658), (2859, 0.01848518333185593), (2749, 0.018474555666759505), (1276, 0.01845317351843761), (962, 0.01845206328620697), (4580, 0.01844628313559051), (3563, 0.018443334612082887), (1710, 0.01843343578956238), (2100, 0.01842148604187858), (1561, 0.01841391968365195), (613, 0.01840835081285664), (3978, 0.018382924491702847), (723, 0.018374425434814014), (1314, 0.01837178731165324), (3682, 0.018354130009079754), (3371, 0.018353652272196794), (2806, 0.018349066165039847), (2812, 0.018339292880569687), (3735, 0.018334086920589854), (1132, 0.01831631863750746), (3985, 0.018313767029809767), (463, 0.01830789455114101), (1654, 0.0182864619358039), (1793, 0.018274490533777304), (3333, 0.01827302799378026), (244, 0.018270023055477758), (2925, 0.018263694365829558), (695, 0.018253600289125108), (4246, 0.018248197900375913), (563, 0.018247278700087338), (1559, 0.01818171432896057), (3856, 0.018181293221085148), (3638, 0.018172300470652315), (2023, 0.018149223841552223), (829, 0.018147047588069863), (124, 0.018038084841327552), (3577, 0.01801286779569814), (1511, 0.017991282159827756), (148, 0.01798407275911766), (2963, 0.017964649645322194), (170, 0.017956218209273025), (2593, 0.01795396233971961), (810, 0.01789860814336424), (1802, 0.01789334531583631), (146, 0.017871761932874982), (1150, 0.017870411112332583), (1875, 0.01786987822214136), (4209, 0.017860500871149997), (555, 0.017852721212339096), (149, 0.017841284862093337), (3464, 0.017831697158443544), (1116, 0.01782447923353371), (3874, 0.017823422676369126), (2880, 0.017816207316280405), (1777, 0.01778015606226401), (2462, 0.017752237465415713), (3259, 0.017744127087442274), (719, 0.017744041167104936), (240, 0.017732166820659565), (4478, 0.01771368173005144), (2011, 0.01769480583628405), (4179, 0.017679256688440614), (3306, 0.01766906905160463), (3525, 0.01764789943401489), (2086, 0.017646205294913613), (497, 0.017635775460414577), (2871, 0.01762145598499674), (3304, 0.01762056706706821), (3060, 0.0175921862117853), (1605, 0.017580450952555622), (2993, 0.017580323812691867), (1856, 0.017579602955353598), (658, 0.017574227520920808), (4274, 0.017566323809527457), (1429, 0.017522278837960426), (777, 0.017518085048335668), (3849, 0.017475364654119467), (3103, 0.01746527844445867), (357, 0.01746245450046362), (3980, 0.017412464868181148), (918, 0.017411896858571578), (4205, 0.017381460996697306), (1881, 0.0173294659906654), (3769, 0.017323474133474782), (137, 0.01732242110064141), (1193, 0.017321785769011562), (55, 0.017312155363243164), (1445, 0.017311148784769918), (657, 0.017280671837709014), (4280, 0.017273910594138395), (2541, 0.017226213060081246), (42, 0.01720986637149586), (122, 0.017203853382914504), (431, 0.017189208502478435), (908, 0.01718842212750538), (4141, 0.01718387760897452), (2613, 0.017171121032456323), (2816, 0.017143245555371837), (2035, 0.017143058852113698), (784, 0.017139907227948684), (4584, 0.017135585011076444), (4648, 0.017134907841669485), (1616, 0.017134369751995615), (2237, 0.017108896294404322), (1978, 0.017074684139877172), (1290, 0.017074475754086327), (2222, 0.01707438260947603), (1136, 0.01706007965956871), (778, 0.017050828904083416), (3895, 0.017034942679658435), (291, 0.017023215343489228), (3090, 0.01701862672884389), (3842, 0.016998424494962798), (196, 0.01699708782787604), (764, 0.016996872467286754), (3169, 0.01698520668353914), (2856, 0.016978858169253885), (3884, 0.016958294682536238), (2320, 0.016944313420739186), (1465, 0.01690408520621599), (2070, 0.0168969308058734), (1166, 0.016888897569303354), (134, 0.016886525135897477), (3403, 0.016885251095741818), (2287, 0.016882735212125494), (3830, 0.016877942913956008), (1398, 0.01687281117113306), (2942, 0.01687176778557575), (56, 0.016868911203369457), (2684, 0.016865547333329185), (219, 0.016857544688322224), (2403, 0.016799041632305355), (2276, 0.016787934588073518), (2761, 0.016778543004042967), (3355, 0.016768592105370742), (4088, 0.016748893422025447), (2586, 0.016748639793516654), (909, 0.01674572679073575), (1971, 0.0167438739612455), (3034, 0.016676152327774377), (3651, 0.016673757543830603), (1763, 0.016664289720083762), (1741, 0.016664182123989655), (145, 0.0166611434668069), (398, 0.016645384664087853), (4380, 0.016632522913582106), (1767, 0.016625262982471436), (2440, 0.01661744296406675), (3367, 0.016594400640366797), (1172, 0.016588475569331216), (3772, 0.016586838759529654), (2842, 0.016563264678276898), (3662, 0.016560044197572565), (1887, 0.0165174699954148), (1330, 0.01651644171772873), (906, 0.016499119683932268), (2711, 0.01646766879343062), (2815, 0.016440048270443333), (737, 0.016439578071213445), (2836, 0.01643953731705649), (3545, 0.01640755765865071), (707, 0.016399519573912988), (2178, 0.016365478548346007), (2589, 0.01634045784904122), (1852, 0.01633854718940233), (1862, 0.01632393026124697), (3414, 0.0163156904274279), (1447, 0.01630466828810286), (414, 0.016299428680913147), (729, 0.01625329073216742), (616, 0.01621667770374786), (3454, 0.016207040239569537), (2505, 0.016187064652021077), (99, 0.0161517895888657), (3585, 0.016148359156335692), (4200, 0.016120457013288483), (3026, 0.016103508721679087), (4682, 0.016076791663794738), (2534, 0.016054865724751333), (1937, 0.01605363586541226), (2062, 0.016042916154704878), (1412, 0.016014472518897007), (1317, 0.016005607132860977), (546, 0.015985833588229862), (827, 0.015961567527452123), (142, 0.015945636460853032), (2681, 0.01592874568057985), (1677, 0.015920489442891605), (3308, 0.015903600126024167), (4499, 0.015888748111517397), (3044, 0.0158879171458069), (1632, 0.0158855085139522), (1624, 0.015866181824038532), (1524, 0.01585043740793651), (4528, 0.015828970018807616), (3524, 0.015805144413024493), (2768, 0.01578016863577264), (1840, 0.015746598062741497), (3328, 0.015733779309981814), (302, 0.015729870850457413), (3575, 0.01572111874660365), (1992, 0.015718643688938865), (2950, 0.0157089467393766), (649, 0.015702328162124437), (3891, 0.015690089272924628), (430, 0.015687977525955805), (3361, 0.015683948074070583), (4161, 0.01568032240210797), (3112, 0.015673159692002597), (3199, 0.01567065829634512), (819, 0.01566787840054652), (3991, 0.015624875243445368), (2786, 0.015608698036513397), (2924, 0.01557927603411794), (3566, 0.015563196132856763), (3993, 0.015545265207876531), (4690, 0.015537822026369188), (443, 0.01553754829294012), (2760, 0.015531983764058477), (3626, 0.01552525953960279), (3084, 0.015458893238960124), (3319, 0.015455552675168379), (4369, 0.015454854006976632), (1987, 0.015444353783599173), (1662, 0.015441977054552624), (801, 0.01541220885641938), (88, 0.015403718837253699), (824, 0.015380505344992409), (3063, 0.015304960326193273), (1721, 0.015293485357665799), (3421, 0.015280374153149309), (3611, 0.015263366654123351), (294, 0.015253577625531006), (4448, 0.0152216789502876), (3119, 0.015219026907731192), (106, 0.015206712889945642), (4617, 0.015182856986844693), (3975, 0.015180035503415071), (2521, 0.01516220852883582), (2904, 0.015160077473961218), (4407, 0.015150460300210701), (1061, 0.01514715561249563), (2319, 0.015141634532509727), (2225, 0.01514073299726228), (821, 0.01513918462084381), (3219, 0.015136823542793415), (3458, 0.015131754619126712), (1584, 0.015130944356547996), (4366, 0.015128312854226885), (3536, 0.015123389348087017), (501, 0.015108567136400556), (3439, 0.015105607964784707), (1594, 0.015040358182971378), (1039, 0.015028110443988503), (1379, 0.015000687283407588), (176, 0.0149768980053717), (2230, 0.014968792610630974), (333, 0.014965658919817802), (3099, 0.014965569144872161), (2585, 0.01495429110557129), (1310, 0.014953767488143392), (4055, 0.014943974532665053), (3857, 0.014920421543768927), (271, 0.0149135629437201), (3797, 0.014865342029136712), (3283, 0.014846193473694074), (3101, 0.014841239994566732), (850, 0.014838351411166725), (967, 0.014831232725056976), (1, 0.014798802030248786), (383, 0.014766310811302204), (1454, 0.014754845862846033), (3740, 0.014738970371713097), (4237, 0.014716704468119094), (3232, 0.014710571715300942), (2145, 0.014681048666641718), (2932, 0.014677482322366965), (4081, 0.014656141260204005), (2826, 0.014653297391222288), (3948, 0.014615508511251317), (3915, 0.014590974691055306), (3889, 0.014568742276793147), (2877, 0.014529753042919757), (3076, 0.014528282382199786), (2477, 0.014513768071902338), (709, 0.01449215502602143), (3215, 0.014473868932681948), (1062, 0.014470891803438192), (4532, 0.014470040699984931), (4562, 0.014467890924814377), (257, 0.014465665061784745), (3441, 0.014455754575074396), (3624, 0.01444040605020371), (791, 0.014431136312156333), (395, 0.014412683274416183), (1221, 0.014388401870091362), (374, 0.014380540219559897), (880, 0.014366168390330943), (1324, 0.014329488027368498), (1779, 0.014302083756300588), (2857, 0.01429752700326848), (2645, 0.014286628089542506), (738, 0.014257262403799187), (1300, 0.014226916545659262), (4158, 0.01422606392144482), (2154, 0.014219390596974956), (3942, 0.01420634940866964), (1323, 0.014202798789669402), (2103, 0.014192526026102933), (470, 0.014168000300821052), (2488, 0.014155325252773625), (3658, 0.01413831033626542), (4518, 0.014137733479566617), (2188, 0.014135742529230081), (817, 0.014104934541583302), (4382, 0.01409396429299969), (4504, 0.014067516990525343), (3752, 0.014043414599743927), (3919, 0.014042767076020406), (3828, 0.01403958113539629), (2795, 0.014019283994935352), (1695, 0.014008062898240877), (531, 0.013982825678806056), (34, 0.013978386758133053), (798, 0.013909377712164337), (2351, 0.013901053182583063), (2296, 0.013886107430258207), (4469, 0.013870151018961559), (4204, 0.013861459325276578), (1375, 0.013853185582442584), (542, 0.013852764961020999), (4345, 0.0138254796951232), (2009, 0.013793539994007972), (2894, 0.013785354318621644), (3225, 0.013765850288219292), (3014, 0.01375964982737499), (3000, 0.013754042020719877), (4215, 0.013738676929756648), (4490, 0.013736191279674266), (955, 0.013731649047936731), (969, 0.013711243824012169), (2770, 0.0137009312314939), (153, 0.013687901755294083), (4724, 0.013684432788232863), (3999, 0.013668996669039538), (2746, 0.013658654462769265), (2665, 0.013611471336723984), (229, 0.01358861238637245), (3335, 0.013572803811847311), (1558, 0.01354904742295292), (319, 0.013544510602313419), (182, 0.013540525496427636), (3547, 0.013526117463990349), (1326, 0.013525280216491221), (4517, 0.013514663762294456), (295, 0.01351170173882669), (3190, 0.013495070273063119), (1642, 0.013489799093205022), (697, 0.01348956321789665), (3627, 0.013486018826410769), (1064, 0.013449398300110427), (2558, 0.013435176343649342), (4547, 0.013435106788016009), (2913, 0.013405419571155739), (380, 0.013379138033755863), (1264, 0.01337214490174499), (2884, 0.013370861458576536), (4056, 0.013360818396336599), (3506, 0.013358836027090464), (3858, 0.01335493809201004), (3759, 0.013333704147341913), (3742, 0.013313557787659493), (855, 0.013297764206572645), (1059, 0.013297392592172285), (2187, 0.013293347672652075), (61, 0.013262557079257381), (2660, 0.013255131477299582), (1550, 0.01324623168365609), (3766, 0.013238449444029746), (1586, 0.013206428983501875), (1869, 0.013196627205016282), (4389, 0.013195265112690086), (4020, 0.013178782505071155), (4637, 0.013172606310551668), (428, 0.013159237120343904), (839, 0.01315797996211312), (1999, 0.013155484812275827), (4735, 0.01313632112332577), (1115, 0.013132411348887324), (4309, 0.013111403714154759), (804, 0.013109496905045252), (2400, 0.013100640476618831), (2553, 0.01309634671076144), (885, 0.013073514110997674), (4721, 0.013073311740974435), (4333, 0.013033415015921606), (4108, 0.013031507502203976), (3221, 0.013025722786073057), (1030, 0.013003417250004878), (1645, 0.012977468785893176), (3275, 0.012974967615149312), (937, 0.012969736660906719), (4477, 0.012969296051203495), (2372, 0.012950120442299987), (3281, 0.012937381551174867), (1836, 0.012930796982383712), (3019, 0.012923107368896257), (4549, 0.012919462194992133), (3352, 0.012918326239220155), (3572, 0.012893889653977959), (2867, 0.012891435510318752), (4003, 0.012864837234034457), (4653, 0.012842635297020632), (2662, 0.01283581194414831), (1275, 0.012809073975397139), (3529, 0.01279733116335095), (4028, 0.012767023245372865), (2625, 0.012754187971892733), (3816, 0.012753869400480743), (2811, 0.012753603437032857), (274, 0.012746339066493901), (1418, 0.012735464358634197), (4651, 0.012730932406183611), (2575, 0.01272904627100296), (2375, 0.012724719070223479), (4244, 0.01271767505873731), (2458, 0.012691631417844093), (3181, 0.012690766565697497), (388, 0.012681397718365892), (751, 0.012675396738468741), (1056, 0.012671143116884094), (876, 0.012670981615204744), (1184, 0.012664500398904724), (3497, 0.01265531054679873), (1177, 0.012654308647769286), (3883, 0.012654001913091071), (3813, 0.012637913546935381), (2346, 0.012621886080004288), (2638, 0.01261313916311482), (3516, 0.01259698739824177), (886, 0.012593903459538473), (704, 0.012592717886692261), (3223, 0.012583197778832616), (975, 0.012575728708807708), (900, 0.012560031161671224), (3992, 0.012548464641207131), (1148, 0.012533911721462582), (683, 0.01253236186631718), (281, 0.012532047751535005), (3269, 0.012529117728230187), (2368, 0.012519497502290613), (340, 0.01251303756645996), (3373, 0.012494554483641614), (533, 0.012485982051116843), (2382, 0.012485676518336267), (1833, 0.012480797445779745), (1518, 0.012474576950236243), (2588, 0.012474428497002941), (3131, 0.012459833913269302), (992, 0.012459285821721067), (1716, 0.012449829764608442), (2903, 0.012449163972538289), (805, 0.012422221392279487), (1448, 0.012412564006475597), (4574, 0.012401837526742279), (1537, 0.012400789610990507), (701, 0.012391933639568206), (3839, 0.012390546885977904), (15, 0.012390521250965281), (4293, 0.01238750851599787), (1352, 0.012380956175646768), (3640, 0.01238033285778407), (227, 0.012378594434459511), (2391, 0.012370937342181166), (2044, 0.012370592592453928), (3780, 0.012367107912133248), (2393, 0.012360781725804274), (626, 0.012352049966538228), (2347, 0.012348912196674978), (2337, 0.012330076330435794), (301, 0.012319412389426581), (888, 0.012303402582229268), (4531, 0.012302676894224788), (612, 0.012297651004185606), (4551, 0.012285546071904142), (3422, 0.012284043733792783), (3329, 0.0122809029728292), (4695, 0.012273697030269788), (456, 0.012271703680868128), (2040, 0.012264133119634361), (4392, 0.012263362659822447), (4619, 0.012248262078604468), (523, 0.012242426117888082), (254, 0.012235723703583895), (48, 0.012231783824068698), (1754, 0.012228900974816567), (1271, 0.012219142245312849), (1225, 0.012219078837596762), (3474, 0.012206498105806322), (3388, 0.012203643271410217), (3924, 0.012203023995808034), (2217, 0.012192097554446685), (2464, 0.012174978101072317), (1902, 0.012174612461340184), (4757, 0.012163521223369026), (3242, 0.012160611885070878), (4048, 0.012152835416288648), (2355, 0.012151502612243983), (4556, 0.012147396300471605), (2345, 0.012140889736123496), (4281, 0.012140283420429325), (2229, 0.012131679839566978), (2221, 0.012117163621850767), (675, 0.012106183850918866), (2037, 0.012097975286387395), (342, 0.012093133341712081), (1229, 0.012092272382429735), (4074, 0.01208912336762736), (2969, 0.012088727427056942), (4008, 0.012086491521317827), (2097, 0.012080240120488465), (1195, 0.012072081461624017), (2531, 0.012071249137130565), (2214, 0.01207000894560201), (4304, 0.012056591097488087), (2405, 0.012046720392475938), (1325, 0.01203230952372771), (3111, 0.012023151611451198), (2180, 0.01200716252520138), (1874, 0.011997125180290582), (637, 0.011994387122441594), (4456, 0.011993698003171531), (1707, 0.011987392613527199), (2213, 0.011979391562808585), (1382, 0.01195547555088063), (4377, 0.011951864921064391), (1392, 0.011943633980420174), (3360, 0.01193253367058611), (3153, 0.011927146465038627), (472, 0.011924417603080727), (4150, 0.011923635526762373), (3095, 0.011918136210931927), (2254, 0.011912576350050177), (1768, 0.011908636582637747), (865, 0.01189309307444146), (33, 0.011871706049625766), (1704, 0.011871638982893298), (21, 0.011871390607326733), (1250, 0.011870075601771968), (1141, 0.011863469599218888), (4231, 0.011841944567722818), (2096, 0.011832364063549282), (792, 0.01180858010430564), (3908, 0.01179937905475021), (4214, 0.011796539578026238), (2549, 0.011795491648659742), (3910, 0.01179367151332524), (945, 0.011792439913260054), (1599, 0.011791467852121203), (3462, 0.011790750376525978), (647, 0.01178648561223563), (2397, 0.011779957137225757), (3792, 0.011779029325476479), (1687, 0.01177016835341173), (2798, 0.011761866510328265), (1234, 0.01175534541849914), (3483, 0.011753741517047904), (1853, 0.011750397576633155), (4300, 0.011737172360859697), (2849, 0.011736021457437728), (1476, 0.011734825819610576), (4123, 0.011721364268364749), (3494, 0.011720890158581578), (3739, 0.011710032407368443), (407, 0.011694868145976688), (552, 0.011694090346468029), (4137, 0.01168900977983157), (4474, 0.011688597442916395), (2396, 0.011687964486694182), (51, 0.011679693364116783), (3984, 0.011674761879595322), (4337, 0.011663174235382073), (696, 0.011658627795835003), (2709, 0.011651203834678442), (1821, 0.011649164588538907), (299, 0.011644260389490332), (135, 0.011636123402773308), (173, 0.011634558202421597), (429, 0.01163428451133134), (1191, 0.011628373982910882), (3564, 0.01162763165717235), (1223, 0.011627493617130604), (3437, 0.011621422646603048), (4007, 0.011619653442435974), (4050, 0.011603437890373314), (3387, 0.011599492224075683), (1517, 0.011594937612956267), (3862, 0.011593968958312193), (1224, 0.011588124414594295), (3382, 0.011583639379573657), (879, 0.011581633838825685), (1196, 0.011570119496649666), (2019, 0.011566259554319325), (1513, 0.011564079123501868), (66, 0.011560099974784731), (423, 0.01155906705313589), (834, 0.01155132006675377), (1727, 0.011542139766431156), (689, 0.01151916522854774), (677, 0.01151162339907836), (1167, 0.011507852197937726), (133, 0.0114935778071857), (584, 0.011486585199283531), (4226, 0.011483470566904515), (1891, 0.011482194124199208), (2281, 0.011480317915358189), (1634, 0.011479850355223916), (1508, 0.011469260954319835), (3596, 0.01146301662863575), (2053, 0.011461029731446129), (1629, 0.011459110466730805), (466, 0.011451181364590302), (464, 0.011448925440071818), (120, 0.011448898741693532), (2126, 0.011448454005475553), (1622, 0.011448163991167664), (1411, 0.01144564554007824), (3237, 0.011440314498158813), (1829, 0.011433728670439415), (2668, 0.011422241622221182), (1257, 0.01141368721729793), (2321, 0.011405361936947347), (2258, 0.01139024822943295), (3938, 0.011389065514766617), (90, 0.011388417765216919), (2232, 0.011377904687731642), (3260, 0.011364188027039318), (652, 0.011354753318585067), (3092, 0.011347781717636321), (2784, 0.01134662990457317), (1337, 0.01132877186842587), (1740, 0.011324280114339967), (3510, 0.011324035746857123), (1966, 0.011316430766853541), (2489, 0.011313138525745527), (1942, 0.011294231615822653), (994, 0.01128142907840961), (4068, 0.011277938941433278), (2295, 0.011277627834040375), (1284, 0.01127518927905076), (1440, 0.011272507031015906), (544, 0.011265327588359854), (2401, 0.011256830468292137), (3175, 0.011255843220177522), (873, 0.011248201785265357), (3949, 0.011233167266830473), (2461, 0.01123040597093529), (864, 0.011217328708218064), (3348, 0.011209262325237845), (1922, 0.011206315523088862), (209, 0.011201693094361052), (3210, 0.011197586694113991), (1996, 0.011190235618442452), (2612, 0.011186431210185185), (3886, 0.011184587737195504), (44, 0.011182346882196808), (3155, 0.011177069908125335), (1421, 0.011166112129513246), (1407, 0.01116272584064096), (2284, 0.011161027154667255), (1912, 0.011150133544230969), (172, 0.01113633149322165), (2516, 0.011129728666937198), (2819, 0.011127398431839975), (1385, 0.011115092812061978), (2695, 0.011114825442718546), (4709, 0.011107541059203545), (3612, 0.011105375931787469), (3246, 0.011103913153146726), (3747, 0.0110942570247544), (986, 0.011092657403062011), (479, 0.011088023117973172), (370, 0.011083149416615678), (2212, 0.011077065780235148), (280, 0.011072106153469985), (1416, 0.011068574383085186), (3315, 0.011064737577075864), (3177, 0.011063003274421578), (4268, 0.011056297036792328), (4152, 0.01105082778840365), (1744, 0.011049659900334198), (2509, 0.011039262257636078), (228, 0.011038785478657878), (3390, 0.011035857676757682), (988, 0.011026281608097738), (1029, 0.011020796149768437), (984, 0.01101752590252783), (1483, 0.011015027264952907), (835, 0.011011411758405235), (4000, 0.011011156123321517), (2174, 0.011003616063194022), (3553, 0.011002234842736288), (1252, 0.0109985910260938), (1878, 0.010997666818492532), (2892, 0.010994780238309312), (763, 0.010994723478865334), (3021, 0.010991364515221131), (767, 0.010987385650824992), (534, 0.010964180246196479), (1775, 0.0109604855843771), (3310, 0.010957978531792636), (3646, 0.010952197025699871), (325, 0.010945260932714418), (2085, 0.010943941372946226), (1621, 0.01094374017226177), (4466, 0.01093779601971389), (282, 0.010936352154486167), (2215, 0.01093141392789705), (2961, 0.010927051921858671), (1613, 0.010925880876777613), (1338, 0.010918471233131036), (4125, 0.010909767759160577), (4275, 0.010891111598918956), (2170, 0.010891098325927525), (3300, 0.010884804706933586), (2441, 0.010878039833507706), (189, 0.010877406016543882), (1041, 0.010872382457684873), (1682, 0.010869379186006702), (2910, 0.010861547173620551), (870, 0.010854891612139686), (3463, 0.010835597840206398), (4387, 0.010824427036484053), (799, 0.010821910304777443), (895, 0.010791120643022154), (1017, 0.01079007994484003), (1967, 0.010784429570322366), (410, 0.010775860361528902), (1823, 0.010775293240823838), (4356, 0.010772007256436261), (4442, 0.010767641467112512), (676, 0.01076228786160182), (643, 0.010757293734700829), (3342, 0.010755492421808201), (4673, 0.010751964351697016), (1456, 0.010750922286582552), (4192, 0.010749869561862458), (1481, 0.01074437359013879), (4199, 0.010735079349872764), (2080, 0.01072568758890284), (379, 0.010725241848680709), (87, 0.010716450342945069), (1081, 0.010714742766492653), (3843, 0.010712496386237558), (4402, 0.010710155881164406), (1085, 0.010708435250320081), (4271, 0.010707491878062874), (3102, 0.010705645339419765), (3660, 0.010705206515269367), (112, 0.010687439494328673), (3471, 0.01068095186500719), (85, 0.010679419651813763), (324, 0.010675577532397602), (1331, 0.010674600044893283), (1357, 0.010673998421291589), (4658, 0.010672432842983273), (1543, 0.010671304084699766), (1361, 0.010669991999759834), (396, 0.010667809685970529), (1982, 0.010667239363312602), (4174, 0.01066093094296311), (354, 0.010657728212545592), (2851, 0.010646595509281006), (2948, 0.010641784769938184), (1038, 0.010636391889640882), (3504, 0.010632912575710217), (3876, 0.010632153932633587), (1478, 0.010630403658476456), (1308, 0.01062666487786365), (2752, 0.010617689346294042), (4583, 0.010612909757799126), (4277, 0.010609229181045225), (2886, 0.010591099376003638), (2228, 0.010576439044870056), (4725, 0.010563446988084623), (3171, 0.010559867123139208), (2728, 0.01054287869213319), (4683, 0.010539453233092973), (2224, 0.010533945258679983), (1873, 0.010514474559376838), (3293, 0.010507169147860552), (4006, 0.010497890820544082), (2402, 0.010489544440724523), (828, 0.01048665531630684), (878, 0.010485161560304879), (1133, 0.010481490497017083), (276, 0.010467132266068952), (1720, 0.010462107212523955), (1817, 0.010451515811703931), (4440, 0.010450593529106262), (2781, 0.010428445714963546), (981, 0.010427632401469126), (236, 0.010427467113139455), (3974, 0.010425103866291677), (3407, 0.010421688509477486), (2457, 0.010419112584387087), (4482, 0.010418161776704843), (2756, 0.010417161364380296), (287, 0.010416397519089527), (1239, 0.010408658251866576), (3941, 0.010402912583337918), (1665, 0.010394086466842225), (1219, 0.010390884061611424), (3327, 0.010389274440543361), (375, 0.01038096175702114), (1620, 0.01038019213835708), (4590, 0.010371633507327584), (1329, 0.010365573030237753), (1253, 0.010357488571331125), (2580, 0.01034374318795396), (2163, 0.010335063891132402), (3814, 0.010331783565764181), (1318, 0.010329918467860376), (2600, 0.01030979185473403), (1183, 0.0103040620401607), (927, 0.010303389312656657), (4029, 0.010293921862036582), (2360, 0.010292569413669034), (948, 0.0102892958000349), (1009, 0.010275311506898255), (3854, 0.010265742893258626), (1954, 0.010260261738066868), (746, 0.010257519912471522), (2574, 0.01023928189441208), (4327, 0.010236834456337045), (558, 0.0102365523832843), (2759, 0.010235335047729393), (2047, 0.01023521853845612), (712, 0.010233233138225849), (1667, 0.010230884886416403), (3160, 0.010229872983961994), (4534, 0.010216184547719756), (4247, 0.010180303010337196), (2939, 0.010177766026499963), (2975, 0.010175846220023278), (1186, 0.010170308890673165), (4122, 0.010148790049415038), (2003, 0.010147947057727143), (4502, 0.010138974545841319), (1796, 0.010128751607176446), (1493, 0.010126881304037818), (199, 0.010122181663601838), (3872, 0.010121976142188176), (3141, 0.010119961177965816), (1772, 0.01010609915727028), (1360, 0.01010335832803643), (2363, 0.010098661558048819), (4488, 0.010096774322295514), (1680, 0.010082008095102185), (427, 0.010075329138769323), (3418, 0.010074422227127032), (4053, 0.010073084741904595), (3267, 0.010072884947884228), (1545, 0.01007273122519141), (2686, 0.010063811336070464), (2055, 0.010061244122322819), (1521, 0.01005837213848181), (1764, 0.010040015515231517), (3965, 0.01003184159976182), (242, 0.01002834055199231), (1067, 0.010018395953917118), (1058, 0.010016118790705334), (642, 0.010004711551241814), (842, 0.00999207083393563), (1000, 0.009984797372632567), (4475, 0.009982675782929721), (2065, 0.009973484100827983), (679, 0.009972803260309544), (2077, 0.00996600202858481), (2607, 0.009950447838531155), (177, 0.009928125822565413), (3077, 0.009919676722888968), (1215, 0.009914361571420054), (2952, 0.009903393954772645), (4292, 0.009896726022674421), (3579, 0.009886753181672816), (2204, 0.009872507172918765), (2982, 0.009847846809449792), (2933, 0.009836412946210838), (974, 0.009833155726596933), (3855, 0.009828060160316957), (2578, 0.009818375351779146), (565, 0.009810882278989096), (368, 0.009808936107722361), (4460, 0.009808840025547019), (1845, 0.00979485925937982), (4144, 0.009792278655153672), (1365, 0.00978091968188438), (1312, 0.009774608353662742), (2827, 0.009771267478677494), (1430, 0.009767116514504966), (851, 0.009724993530600716), (248, 0.009717443181815295), (1343, 0.009714347258843431), (2548, 0.009705825500973833), (2497, 0.009701280814390506), (4063, 0.009693889482286428), (2921, 0.009682685437017658), (461, 0.009677175610472809), (2132, 0.009676554247807468), (3535, 0.009676491292824815), (3528, 0.009676102471049074), (1042, 0.009673679405000185), (2985, 0.009661259172229701), (653, 0.009658577415655869), (2621, 0.00965815364038496), (4177, 0.009654686482597707), (4232, 0.009650883616339073), (2692, 0.009639835665946627), (4515, 0.009629177790213026), (160, 0.009627987753877566), (147, 0.009604276907138574), (958, 0.009600918990059897), (3001, 0.009589444718925874), (3024, 0.009581557184779037), (1571, 0.009576144448015737), (2635, 0.009575100273377903), (874, 0.009573346382592718), (4193, 0.00955258090093875), (1540, 0.009546058645043872), (2034, 0.009542669424859655), (1784, 0.009538196210819893), (251, 0.009514801001933897), (1795, 0.009497867510428566), (3312, 0.009491377689894944), (1485, 0.009476895753532706), (4097, 0.009476328198759505), (3254, 0.00947052775113694), (802, 0.009468392847164626), (1950, 0.009460935671683306), (645, 0.009460068937932968), (1815, 0.009459582577828633), (1050, 0.009457329114035518), (905, 0.009453017285589402), (4240, 0.009446508575980487), (3708, 0.009435195736907612), (4095, 0.009421054297153331), (4747, 0.009404683379261498), (4207, 0.009391198703948684), (1750, 0.00938740850270196), (4086, 0.009363895872224052), (2076, 0.009362684626131735), (1507, 0.009357950394104362), (38, 0.009338796541247215), (4659, 0.009337999720945258), (2486, 0.009330036127765111), (953, 0.009325872666838049), (4610, 0.009316818107564765), (4335, 0.009307927049844362), (979, 0.009288320664593558), (405, 0.009276816797640785), (510, 0.009258493408339334), (4173, 0.009258430345057137), (1078, 0.00924483124725946), (1737, 0.00923058614593113), (207, 0.009230180838712649), (756, 0.00922378040425067), (3109, 0.009216007072599019), (89, 0.00921386083938455), (309, 0.009212554270823984), (2602, 0.009211158482516562), (1701, 0.009196323126723886), (2066, 0.009192877077294836), (682, 0.009190594958480876), (609, 0.009190113069422624), (2805, 0.009185345104544298), (2147, 0.009184974307265293), (384, 0.009182634447013388), (4105, 0.009172667015841289), (2208, 0.009171513800106914), (139, 0.009168576270621752), (40, 0.009166740332730612), (4707, 0.00915270147791317), (2330, 0.009149182020884892), (2304, 0.009130451122076513), (1260, 0.009115586192190479), (891, 0.009115189444969848), (3208, 0.009096494957801843), (3189, 0.00909151968605665), (656, 0.00909110164501751), (1699, 0.009088059146639514), (2697, 0.009088047816715041), (2054, 0.009086287154246595), (2383, 0.00908617522781865), (1369, 0.009085946101812344), (3756, 0.009080511227495864), (1371, 0.009077463423820167), (1863, 0.009071771448975143), (2675, 0.009071260820014828), (1233, 0.009066726119344871), (4639, 0.009054771719738338), (797, 0.0090310171643085), (3652, 0.009029384246146598), (3192, 0.009027646770861788), (942, 0.009024848117692974), (3129, 0.009024642764169338), (2801, 0.009010662326566863), (3958, 0.00900785160709012), (1932, 0.008985473975853624), (162, 0.00897539559623278), (1681, 0.00897160588030622), (1377, 0.008954942891564672), (4018, 0.008952881631609476), (837, 0.008952463839076564), (1303, 0.008950377955967856), (1989, 0.008916282056950088), (1162, 0.008915333521259762), (1674, 0.008914278319629489), (678, 0.008908634195965237), (971, 0.008906979451798523), (4388, 0.008898786450824814), (3899, 0.008898425862455353), (1557, 0.008891852452605525), (809, 0.008883819910093606), (757, 0.008867418444692323), (3806, 0.008861494764198792), (1431, 0.008860907408975788), (846, 0.00886066682222799), (3209, 0.00884998250107617), (1435, 0.008846898310593286), (3912, 0.00884067023624007), (2627, 0.008839758626352043), (2443, 0.00882230533590172), (4118, 0.008812284085402383), (4656, 0.008811868550916643), (4436, 0.008811781205143511), (528, 0.008811053958761049), (3812, 0.008807595363934235), (2252, 0.00880466712395375), (1425, 0.008802989167606896), (3586, 0.008794468776833219), (2398, 0.008792808465706625), (3768, 0.008781035653916953), (4727, 0.008778666633968066), (1342, 0.008771437621127543), (131, 0.008767068525912365), (4094, 0.008757740014331812), (2316, 0.008752984416659762), (1705, 0.008750649994565747), (1930, 0.008747680521680335), (1282, 0.008736304096888744), (2449, 0.008709405838567932), (4289, 0.00869761972184151), (2636, 0.008695861619943287), (451, 0.008690742724391784), (3427, 0.008686050172817972), (315, 0.008679978444699856), (3983, 0.008677362098324214), (938, 0.008673878209661695), (3926, 0.008667269053406337), (1417, 0.0086654860296215), (4310, 0.00866213102319691), (785, 0.008658491962012268), (4233, 0.008655227330962858), (4070, 0.00865495704341687), (4265, 0.00864831981721678), (3905, 0.008643981597524213), (654, 0.008612816300471523), (259, 0.00860381646326923), (1104, 0.008601203700376451), (3334, 0.008597871395130158), (4708, 0.008587269120206704), (438, 0.00858716620562984), (1393, 0.008580472916572178), (143, 0.008572379468110052), (535, 0.008538315773417763), (3945, 0.00852990697711585), (201, 0.008525896534351117), (1757, 0.00852447192229808), (322, 0.008521078864646805), (1857, 0.008518900946876413), (1459, 0.00851769981607136), (1047, 0.008514077903305935), (1432, 0.00851216597822359), (1024, 0.008511194476702306), (1536, 0.008497682474820219), (224, 0.008493463583207348), (3685, 0.008489284802317719), (1005, 0.00848512064665602), (1949, 0.00847187476362765), (3507, 0.008471262805546591), (4486, 0.008470198133459735), (4218, 0.008464384405971158), (2944, 0.008458358043620634), (2239, 0.008440927744954354), (4073, 0.008434213587911701), (1846, 0.008429707360706803), (2519, 0.008429176317226962), (1735, 0.00842730405454573), (1861, 0.00841455815235768), (2235, 0.008397050425702199), (49, 0.0083876166116586), (869, 0.008378503358652343), (3645, 0.008367405847926283), (556, 0.008364793725162037), (4093, 0.008359134521824697), (2245, 0.008358003558509443), (1832, 0.008345948181070768), (2788, 0.00831940335317011), (4752, 0.008296761066253534), (4438, 0.008296156649499002), (1207, 0.008266949826895933), (3245, 0.00825653342628978), (713, 0.008238480035922946), (1945, 0.00823383447826191), (1471, 0.008232164542492919), (2994, 0.008224781460538634), (45, 0.008212675026080635), (494, 0.008209314187124893), (1388, 0.008207384481550457), (4184, 0.008205149272420251), (1818, 0.00820013596472268), (560, 0.008196515865083579), (1787, 0.008195893535956986), (4171, 0.008185949963804744), (859, 0.008179688007267132), (1256, 0.008170366823706438), (931, 0.008166160462420656), (1455, 0.008161872226879219), (1895, 0.008151633366478526), (1783, 0.008142076938563055), (3133, 0.008133610504928404), (2336, 0.00812593492695288), (3570, 0.00812067544419695), (2205, 0.008099925185159847), (81, 0.008096594790063832), (702, 0.008096028686671017), (1086, 0.008082341620479905), (1986, 0.008081700774498343), (3121, 0.00808136655306063), (492, 0.008079122092231127), (2699, 0.008073032574124315), (2825, 0.008072761734739673), (3966, 0.008070451389324594), (2327, 0.008067915342840841), (1899, 0.008067056636195608), (1649, 0.00806461244146493), (2120, 0.008063487961159327), (1180, 0.008060201023008046), (1457, 0.008058666065957629), (1673, 0.008055920379054027), (3508, 0.008042045076498477), (710, 0.008038993813890645), (3718, 0.008024073155034228), (1610, 0.008011778236513958), (9, 0.008007861686693422), (3321, 0.008006567481524795), (539, 0.007996520662265028), (1406, 0.007986615149872733), (2584, 0.007978919581278443), (2315, 0.007975995518538547), (306, 0.007972834352814411), (2274, 0.007962137500675278), (1157, 0.007939739766941461), (1270, 0.007933080831715771), (569, 0.007928802495730473), (3244, 0.007926966169230987), (3531, 0.007926058326655308), (825, 0.007925558032220342), (4186, 0.007921247722557513), (4600, 0.007919048136134789), (2203, 0.007918185893612371), (1714, 0.007911569170892082), (2007, 0.007898530904267384), (108, 0.007898126987266088), (1063, 0.007895600119260097), (338, 0.00789489655412627), (2135, 0.007891184324455302), (511, 0.007880947368821844), (2918, 0.007872895780620259), (3582, 0.007872305405110453), (4543, 0.007871098786490068), (915, 0.007863361623498146), (1125, 0.007852679710379302), (138, 0.007846350179369514), (1230, 0.007843592326019123), (2043, 0.007836071379295538), (1231, 0.007830646442170982), (4109, 0.007829799805379574), (367, 0.007828397051968255), (3247, 0.007826286423756742), (1657, 0.007815337593860707), (2206, 0.007810945761177743), (4481, 0.00780771868634978), (2897, 0.007805451468091852), (898, 0.0077952958032742005), (4437, 0.007783818150999687), (2005, 0.007781007439127512), (2962, 0.007776315597855038), (740, 0.0077701432307954385), (144, 0.007765786755760577), (1630, 0.007753811523601056), (577, 0.0077501167922744306), (2751, 0.007749293280831967), (3794, 0.0077399891356139255), (191, 0.00772073998548352), (2929, 0.007717736881715851), (1054, 0.007716352017957032), (1384, 0.00770159036069822), (3082, 0.007696333043051638), (4110, 0.007679981019913846), (2184, 0.007676314864374598), (820, 0.007643850972563569), (2074, 0.007639312709471621), (912, 0.0076092044797939525), (3280, 0.00760806991681013), (1405, 0.007607597179439743), (545, 0.007601669851248165), (202, 0.0076002447563898266), (1090, 0.007591662831898741), (417, 0.007590545269620716), (532, 0.007588195452543359), (2742, 0.007587144785942147), (2874, 0.0075843414815822685), (1509, 0.00758372614597836), (3775, 0.007583424695115054), (3118, 0.007583354094548126), (2119, 0.0075806907445553386), (4325, 0.007579621606573213), (2429, 0.007575042674949516), (1482, 0.007563765978449111), (520, 0.007560874630354814), (2324, 0.007559025220030967), (745, 0.007555474974034924), (4468, 0.0075554099621003255), (1789, 0.007545952892502958), (2460, 0.0075412921896811915), (4165, 0.007535899211556346), (4035, 0.007529393036292701), (3711, 0.007529102949142461), (4353, 0.007514823648543011), (2539, 0.007511937266572747), (2110, 0.00749773373315316), (2791, 0.007494398494747252), (4235, 0.007487447934019317), (1698, 0.007474511509313127), (1259, 0.007469040722214898), (2822, 0.007468078654687698), (1850, 0.007463772571637993), (4164, 0.007462883931072416), (3860, 0.007409143903851617), (2424, 0.007406944198184997), (1745, 0.007406606169383104), (1309, 0.007406001338082534), (1567, 0.0074024278841818905), (394, 0.007395183785496405), (1523, 0.007392801114778441), (3693, 0.007383201677714788), (1816, 0.007366310866468368), (288, 0.007348775792083249), (1639, 0.0073256274377453785), (664, 0.0073251279406111635), (3070, 0.007299674831930385), (2114, 0.007285098997529007), (2833, 0.007284021614249098), (75, 0.007268073184721192), (58, 0.007255738881815628), (1694, 0.007255440131483396), (314, 0.00725387813361482), (47, 0.00725335660265308), (64, 0.0072475391745373445), (640, 0.007244202469802005), (4450, 0.007243928401882193), (3484, 0.0071963789952157985), (2388, 0.0071927367432474175), (1213, 0.0071784252309505855), (1797, 0.0071641808330001645), (4553, 0.007145418266957317), (1194, 0.00713972014190542), (2025, 0.007138283094173013), (862, 0.007119108860832931), (1348, 0.007118036580154189), (1296, 0.007112212008860377), (2971, 0.007110364313482793), (2331, 0.007099965808464039), (4096, 0.007079591818046918), (86, 0.00702781324380415), (1646, 0.006962567274510999), (1781, 0.006953094149133779), (2013, 0.006894532100132506), (2078, 0.006882080466246032), (2734, 0.006877727162914366), (2022, 0.006862720708581553), (1214, 0.006852208640523809), (3713, 0.006813218131769035), (2326, 0.006794879082407929), (926, 0.006749225148862004), (3045, 0.006748337873435996), (2555, 0.006662250719193534), (435, 0.006626286476260609), (2524, 0.006584800194523181), (3391, 0.006530735620052417), (3356, 0.0065266466634799096), (668, 0.006465026705306103), (3144, 0.00644310354262498), (1320, 0.006414878240273824), (561, 0.006381024561831172), (2614, 0.006361432752814863), (2671, 0.0063557487808579135), (844, 0.006314776732304636), (369, 0.0062540832431794815), (2809, 0.006166732138393009), (553, 0.0061538647738348835), (4261, 0.00606282860260009), (3456, 0.005909981168626458), (0, 0.0058726147633111694), (3750, 0.005851686647251201), (1442, 0.005800151526150204), (4719, 0.00567346071161252), (3240, 0.005661452096789096), (1019, 0.005559485418012376), (3137, 0.005437630374850189), (3932, 0.005403623671497439), (788, 0.005379207649142427), (3325, 0.0052336960894327775), (3534, 0.004837651831303539), (2678, 0.004770729147797736), (3552, 0.004764253624510175), (611, 0.004706390052956629), (2299, 0.004684313701759012), (3178, 0.004631425687564098), (3512, 0.004491871242562191), (3276, 0.004421939860756356), (2998, 0.00439768652709082), (3925, 0.004360228458551745), (4607, 0.004253714643366445), (2529, 0.004252244412307088), (2379, 0.004227572955711212), (2490, 0.004222083450977384), (3051, 0.004178502187571101), (2764, 0.004173388104039718), (3672, 0.004162513828017423), (2858, 0.004152042594178133), (2137, 0.004151810818641353), (3139, 0.004147378563718784), (4082, 0.004138191635946861), (2722, 0.004112276689816527), (2189, 0.004112002994426053), (3166, 0.004063326719380048), (2349, 0.004055918156841284), (1145, 0.004050703014205024), (2407, 0.004049237757311986), (3990, 0.004043317737146379), (2889, 0.004032524241918498), (4704, 0.004001822739333494), (3052, 0.004001159097086472), (735, 0.004000003724616802), (3055, 0.003986070838958983), (2775, 0.003976745098192729), (4017, 0.003975136569662455), (2870, 0.0039710609247013), (3561, 0.0039710044410797354), (3030, 0.0039683598501029805), (627, 0.003966554872352831), (2883, 0.003964086575516241), (3635, 0.003960476939475303), (2923, 0.003946881449237797), (3291, 0.00393651137903847), (2731, 0.003932065041090527), (4749, 0.003931264123527433), (4222, 0.003928650517958214), (4529, 0.003927632078994616), (2310, 0.003916589770660394), (4221, 0.003916510832243011), (4484, 0.0039056250787493597), (4611, 0.003904546474943294), (2694, 0.0039020287261045676), (3939, 0.003901530503652298), (2861, 0.0038827638000607954), (2655, 0.00388201642471206), (4172, 0.0038726204344677224), (2559, 0.0038508011193665284), (3878, 0.003850042645664513), (4418, 0.0038472563423685006), (2832, 0.0038443061504928717), (4444, 0.003837260003089759), (2628, 0.0038347387541528264), (2392, 0.003824767725277681), (3762, 0.003816307650248971), (3892, 0.0038080253113634407), (3282, 0.0037989175328377463), (4019, 0.0037973618269247452), (2425, 0.003796517051461224), (2643, 0.0037885125821087167), (4546, 0.0037864628276776738), (2255, 0.0037793270892808885), (2257, 0.003771459969530077), (3322, 0.0037700834738500074), (3262, 0.0037691911170400594), (2901, 0.003760993877381921), (4230, 0.003753368590691749), (4142, 0.003745157989469499), (2838, 0.0037436158779274495), (2286, 0.0037435611325831917), (1208, 0.0037346306772138484), (4400, 0.0037342361677362664), (2530, 0.0037231534509668328), (3015, 0.0037120227593847115), (4606, 0.0037085232944066454), (2306, 0.0037061677574143194), (3239, 0.003693205098453834), (3128, 0.0036925943542667934), (3354, 0.0036880623455360926), (3140, 0.0036865503355832086), (526, 0.0036835829330484947), (1711, 0.003673445081305332), (1121, 0.0036699896566766005), (3687, 0.003658761744255794), (4692, 0.0036566001234057295), (4521, 0.0036563464027175546), (4544, 0.0036542891719157367), (4612, 0.003646738141595592), (3616, 0.003642738525792724), (3357, 0.0036411849689575253), (2834, 0.0036342158398356018), (3537, 0.0036333864404557883), (2557, 0.0036330361491743964), (3159, 0.0036254849968239337), (4306, 0.003621593026373449), (4107, 0.0036171030852777328), (3922, 0.003616180174543182), (3613, 0.003613133307143991), (4660, 0.0036122198727105643), (670, 0.00361006575287586), (3521, 0.003608794865753297), (2266, 0.0036069398871007474), (4572, 0.003595145277050531), (3074, 0.003593969817201611), (4443, 0.0035884929152557297), (326, 0.0035874080259243827), (2797, 0.0035854671375773286), (2568, 0.0035826676349261315), (4723, 0.003581595270756693), (3031, 0.0035783314116217195), (3832, 0.003576098233810533), (2848, 0.0035756179480619242), (3123, 0.003573062422545472), (402, 0.003571029259260429), (3302, 0.0035691174108764758), (2879, 0.0035674679566232116), (4147, 0.003566837969590841), (3544, 0.0035657442128577696), (2459, 0.003565472004245796), (1655, 0.003563292428541825), (2966, 0.0035610406717361816), (3358, 0.003556316576450895), (3020, 0.0035561769060263363), (3228, 0.003554956671366694), (2415, 0.00355453562858319), (1593, 0.0035499825410615178), (4062, 0.003548022818827864), (3206, 0.003544190307567694), (2778, 0.003542070089441587), (3779, 0.0035372628353273223), (2454, 0.003537250665532274), (3901, 0.0035327722216945486), (3257, 0.0035296960506658176), (2619, 0.0035276431999930694), (3413, 0.003518474568372223), (2895, 0.0035063208687582865), (489, 0.0035042109463277417), (4458, 0.003493679904907207), (4701, 0.003491278522089587), (949, 0.0034843217488841234), (1049, 0.0034735117319280614), (2772, 0.0034700120495207753), (2769, 0.0034575684916778745), (2738, 0.0034569170597699107), (4632, 0.003453514562062131), (3763, 0.0034522980248952832), (3935, 0.0034517755496200164), (4416, 0.0034481071307324467), (2570, 0.0034477293821248392), (2378, 0.003447378187633715), (3621, 0.003446965456356533), (3745, 0.003445892916119772), (4633, 0.003442606516881569), (1792, 0.0034424714384278152), (2089, 0.0034420915043185773), (4694, 0.003441877061326614), (4145, 0.0034410090706296047), (2707, 0.003438030663145454), (518, 0.0034341391393023658), (1885, 0.0034322926041036373), (4412, 0.00343146449254742), (2417, 0.003429810022110241), (1748, 0.003429641983107287), (4030, 0.0034286754621362), (4589, 0.003428658373255441), (1169, 0.0034283735691370636), (3094, 0.003427556556539689), (4032, 0.0034181142573609), (4075, 0.0034180503560228433), (2142, 0.003416434566704503), (1547, 0.0034117643187720433), (3359, 0.0034090660318379516), (2696, 0.0034052310846482818), (3072, 0.003404663728009774), (3307, 0.003402705626083656), (1947, 0.003400560641966949), (3754, 0.003397175265790565), (4163, 0.003396214735636597), (3729, 0.0033948312865808208), (3425, 0.0033941985877584376), (4713, 0.0033910344195727917), (4398, 0.0033849070844534776), (3230, 0.003381876597953319), (2987, 0.0033817964187864407), (448, 0.0033811688192324136), (3419, 0.0033805388972281652), (3396, 0.003378830004410173), (823, 0.0033764953812322517), (4650, 0.0033758710138751587), (2872, 0.0033719356937143554), (925, 0.0033682375757784475), (3165, 0.0033645586525591123), (2478, 0.0033627833489323637), (2560, 0.003362036490658548), (614, 0.00336097776520951), (3952, 0.0033593085566964984), (4516, 0.003359061968845216), (1656, 0.0033584483694629715), (3903, 0.0033553046712061965), (2796, 0.003352342929387961), (985, 0.003350935501234381), (2702, 0.003348015390630146), (1924, 0.0033465901669190684), (4117, 0.0033438925266472356), (1497, 0.003343153381726847), (3661, 0.0033408869218138912), (4753, 0.003340246233614124), (4243, 0.003334811834356864), (3296, 0.0033317221483742366), (2223, 0.0033306699420884494), (2051, 0.003328189165867248), (2302, 0.0033272029851724766), (2629, 0.0033252703007700946), (2437, 0.0033249307459518418), (1909, 0.0033248947647486872), (107, 0.0033223393670466666), (2893, 0.0033219208048498173), (3186, 0.0033214631492754485), (998, 0.0033207817036195434), (999, 0.0033180638752408377), (2881, 0.0033176548521203055), (2411, 0.003316988906462066), (3148, 0.00331663021449648), (4731, 0.0033166179467833752), (2623, 0.003316217788578541), (2936, 0.003316023875345085), (4092, 0.0033150092441866803), (2914, 0.003312876477640933), (3680, 0.0033124991214104676), (4494, 0.0033092862873627072), (1383, 0.003306710284459061), (235, 0.003306352271655959), (3013, 0.0033045190395473486), (1349, 0.003300605311760088), (3587, 0.0032998018694241887), (2740, 0.00329823564719247), (1023, 0.003292767180086607), (3560, 0.00329137250855214), (3962, 0.003289936434060934), (2974, 0.0032888480795192744), (922, 0.003286518506984807), (4718, 0.0032853367815349702), (3196, 0.00328480627105102), (4160, 0.0032843311183778467), (2579, 0.00328348338674922), (596, 0.003282170560103641), (2916, 0.0032811741628014633), (1499, 0.0032791655518789146), (3032, 0.0032788729958422367), (4535, 0.003278709578516205), (436, 0.0032774166112553836), (4396, 0.0032773565461103778), (2134, 0.003276574947734629), (308, 0.0032756700458405853), (2356, 0.003274663427391546), (2436, 0.003274013855931128), (3737, 0.0032709576197038274), (4051, 0.0032681016728912326), (3804, 0.0032676979452443203), (2840, 0.003267130393859804), (3248, 0.0032669563669065383), (3877, 0.003261494495318426), (3273, 0.0032612252428077097), (2209, 0.0032612030071230633), (2782, 0.0032608249896354767), (3157, 0.003260498743485123), (4397, 0.0032601291045428345), (41, 0.003259525031603568), (4593, 0.0032573221309808334), (4706, 0.003254454204040431), (3003, 0.0032541111755811105), (4259, 0.003253808993328965), (4113, 0.0032536319355090646), (2108, 0.003251332403448824), (1109, 0.0032481970866512547), (3062, 0.0032476334663200587), (4138, 0.0032469520086282067), (2535, 0.0032467159651418595), (1960, 0.0032433282473570573), (1658, 0.0032431624716158566), (2592, 0.003242955983909186), (3967, 0.003238253509346055), (4042, 0.003235393149470324), (857, 0.003234803915844553), (62, 0.0032341409009333214), (2428, 0.0032327655470873982), (715, 0.0032324909844870906), (1580, 0.0032324033723873827), (3417, 0.0032263153390197728), (371, 0.0032234038985637296), (587, 0.0032216231527261077), (3116, 0.003218980444624604), (4602, 0.003213953160854889), (4308, 0.0032124244863473085), (1733, 0.0032118903702054477), (4046, 0.003211336778575709), (2390, 0.0032112821412933266), (3183, 0.0032077533287206503), (4601, 0.003206281178649045), (3714, 0.0032018537655419343), (318, 0.0032012662108481544), (4140, 0.003200634160103408), (1866, 0.00319860183149566), (4101, 0.0031972121781354574), (4732, 0.00319503919227602), (4133, 0.0031941076913986253), (3749, 0.00319394266541113), (1905, 0.0031936446539934144), (2293, 0.0031930306722110155), (4522, 0.0031923093799423236), (1805, 0.0031915580532745087), (4013, 0.0031892540776908905), (350, 0.0031890447022760327), (499, 0.0031878929676129987), (3064, 0.003187462131574967), (2915, 0.0031855619257027566), (2748, 0.0031853997819428935), (3258, 0.003185333268440861), (4087, 0.0031843954661063822), (2882, 0.0031831909155924927), (2507, 0.0031821269748207722), (8, 0.003181298470234406), (2595, 0.003177237300873569), (1897, 0.003176107529062675), (3771, 0.0031728295799226323), (2705, 0.0031718209586434356), (1959, 0.0031687116483871815), (952, 0.0031665706648416345), (4734, 0.003165701341203282), (3704, 0.0031655889042365676), (3449, 0.003165420258736999), (3271, 0.0031651375494126757), (3893, 0.003164552224956858), (4024, 0.003163377565552161), (2116, 0.0031615743615068847), (3757, 0.003159905868874456), (728, 0.003159473739941435), (2190, 0.0031575444624341725), (4579, 0.0031574510808075654), (2776, 0.0031549550522576696), (3692, 0.0031540254666782633), (4132, 0.0031530948348753762), (2475, 0.0031502344695208463), (1995, 0.0031498555966044096), (4540, 0.0031475628169895836), (4245, 0.003147304194243479), (3184, 0.003146306630319048), (1708, 0.0031462450654504296), (1798, 0.003144740590043941), (3496, 0.003144354783044694), (4269, 0.0031420985664801677), (2723, 0.0031416401062135716), (4371, 0.0031412758420404007), (3781, 0.0031386419836250366), (4495, 0.003137639337700116), (872, 0.0031360153947251118), (4111, 0.0031359034690884753), (1409, 0.0031338626840725467), (2725, 0.0031328172733992147), (4431, 0.003132740419944258), (3873, 0.0031322795596281355), (4680, 0.0031320227604740244), (1712, 0.003131156857678293), (2940, 0.0031309845964013665), (2964, 0.0031302726663113485), (2712, 0.003129841570235652), (3007, 0.0031294315994255984), (12, 0.0031281756116451507), (2609, 0.0031244861016749546), (826, 0.003124103942500977), (3601, 0.0031240828939741666), (2151, 0.003123213639014146), (2664, 0.0031229625498007656), (3235, 0.0031227756339182442), (4357, 0.003122547884656719), (2970, 0.003122348091065711), (1619, 0.003121745987151476), (4355, 0.003120722489479315), (3987, 0.003119942125623238), (2105, 0.003119302628123903), (4175, 0.003119192531699643), (3434, 0.003116415524095357), (3678, 0.0031163409918769968), (680, 0.003115291480040424), (3590, 0.003111679754281764), (623, 0.0031111799605481752), (493, 0.0031101886093940546), (208, 0.003109960323892395), (1951, 0.0031079490419372202), (1896, 0.00310759362099157), (3314, 0.0031067725364409206), (4054, 0.0031061149845819595), (3618, 0.003105050313254184), (2792, 0.0031034661551159093), (4505, 0.003100686650150398), (2953, 0.003100629104784376), (4575, 0.00309943349766501), (1685, 0.0030992754365861985), (2288, 0.003098464568628122), (2755, 0.0030975096536055425), (4052, 0.0030959500377922057), (2610, 0.0030957717480113727), (4318, 0.0030953875692994607), (1822, 0.0030922621692212335), (3037, 0.0030920705233480716), (4, 0.00309078340831478), (1893, 0.0030896442148058293), (4420, 0.0030888362616245998), (4566, 0.003087997531432592), (1400, 0.003087837422321392), (1916, 0.0030869124534531915), (2394, 0.0030866434939581986), (1075, 0.0030858423319262756), (783, 0.0030858066482620005), (2385, 0.0030853197376511537), (1007, 0.003083854975077073), (3511, 0.003083519255223518), (1670, 0.0030831482375822247), (3882, 0.003082997308875706), (3187, 0.0030826185609703193), (178, 0.003081541500219483), (3654, 0.0030807705988733928), (1570, 0.003080694748455869), (2419, 0.003077559786651302), (3372, 0.0030764892200172674), (2633, 0.003075317175721242), (4225, 0.003075001938075032), (1188, 0.003074629500047424), (716, 0.003071802557064873), (4624, 0.003071739627759715), (1192, 0.0030691348927451897), (2088, 0.0030690774178797455), (564, 0.003068908862547869), (4363, 0.0030680456608206935), (255, 0.0030674936609811684), (1439, 0.003067123785364264), (4430, 0.003066984370247864), (3493, 0.0030660058840853116), (2640, 0.003064988286233239), (4354, 0.003064390745752381), (2926, 0.0030635361045240317), (3770, 0.003063252975721249), (1006, 0.003060401102837523), (660, 0.0030599185259510553), (3599, 0.003058580303238292), (4083, 0.0030582537062521496), (3514, 0.003058120324297472), (482, 0.0030575482808962344), (3351, 0.003057288187507004), (2561, 0.0030561021680535396), (4629, 0.0030558488437017815), (890, 0.0030550984992252957), (4419, 0.0030538291392147006), (1475, 0.003053772783399124), (2545, 0.003051906929340708), (2370, 0.0030518583884523126), (4136, 0.00305158117733132), (3224, 0.0030497928527943733), (1851, 0.0030496795980296566), (2911, 0.003048694237857111), (1083, 0.0030478451269172293), (4361, 0.0030476630790948625), (3353, 0.003045433079907483), (1048, 0.003044054537478557), (1364, 0.0030416904594091753), (4625, 0.0030415611573066333), (3349, 0.0030391233699844106), (4025, 0.003039018224691059), (1124, 0.0030369740057103025), (4079, 0.0030366714061950896), (2744, 0.0030359376185135614), (2072, 0.00303539917651906), (774, 0.003035214313041555), (2123, 0.0030320435119649864), (3689, 0.003029942043078373), (1765, 0.003029698704018597), (4340, 0.003029673599460825), (3527, 0.003028027544131965), (4334, 0.00302761601886574), (980, 0.0030275375974367865), (4422, 0.0030271615048997665), (3198, 0.0030261116969434515), (4249, 0.0030224566515136644), (3623, 0.0030218497834352876), (2863, 0.0030203634725637363), (4470, 0.0030201078076426244), (3636, 0.0030187930548359566), (1494, 0.003017768025801161), (1516, 0.003016805021984193), (2048, 0.0030150270469165466), (3290, 0.003014594430174129), (3233, 0.0030135743347671374), (4643, 0.0030132007956117455), (1860, 0.003012564624684606), (631, 0.0030119035934137815), (1946, 0.003010149556184503), (3016, 0.003007225363476459), (1294, 0.0030071620230378597), (4563, 0.00300381465739618), (3701, 0.003003107875002479), (4098, 0.0030026924032358826), (1254, 0.00300222451864495), (3809, 0.0030013006440311237), (71, 0.0030009999256854687), (3445, 0.0030000087969769933), (1355, 0.002999782653407946), (2977, 0.002999357736999824), (4533, 0.0029980079874934664), (3526, 0.0029978472411879464), (4273, 0.002997624638661243), (3542, 0.0029971407773489896), (3571, 0.002995410677671671), (2386, 0.0029948950416606086), (1174, 0.00299465442726957), (1931, 0.002992946296467872), (1077, 0.0029926412551662326), (933, 0.002991655141585152), (1176, 0.002990166504484993), (1182, 0.002988709780872892), (406, 0.0029886958706491357), (593, 0.002987822524746174), (3113, 0.0029877654060334914), (238, 0.002987708887838798), (1688, 0.0029870686319860094), (3606, 0.002986750288954013), (4283, 0.0029859943700383043), (2073, 0.0029854740992203872), (750, 0.0029843284625539605), (3182, 0.002984050038890963), (2292, 0.0029835008317452595), (3707, 0.0029813914214405243), (2155, 0.0029805362655572166), (832, 0.002978493663410436), (1087, 0.00297810862576466), (3501, 0.0029776400023967154), (3643, 0.002975896408775771), (353, 0.0029751034604194567), (4049, 0.002972952610477474), (1413, 0.0029729158705136044), (1204, 0.002972093985766228), (4135, 0.002970878696926251), (2091, 0.002970101236007538), (579, 0.0029694615283372993), (2277, 0.0029694245251640572), (2374, 0.002968766344714536), (2887, 0.0029681754372646945), (2647, 0.0029669076907067175), (4014, 0.0029638940791016154), (1138, 0.002963221138610462), (1872, 0.0029627832970128215), (4677, 0.002960762935587132), (4501, 0.002959533070843231), (636, 0.0029583893912406892), (1722, 0.0029581049916167362), (1510, 0.002957264477688374), (3551, 0.002956523194831637), (1574, 0.0029560819267853053), (2193, 0.0029559762422938706), (4266, 0.002955895883682086), (2144, 0.002954786504483186), (3227, 0.002953604901777047), (628, 0.002953415431015832), (2109, 0.002952845170108066), (897, 0.002951607240329605), (993, 0.002950873246532083), (2192, 0.0029499926725191487), (2606, 0.002949560180882987), (2169, 0.0029482645088875392), (3436, 0.002948163154625388), (2783, 0.0029479928624503407), (104, 0.002947822240446527), (2492, 0.0029476629322551513), (4686, 0.002947188099944738), (504, 0.002947032260109219), (2067, 0.0029469411283625205), (3541, 0.0029466550225690597), (2533, 0.002946242341433234), (1876, 0.002946157249668513), (3125, 0.002943798294200821), (378, 0.0029418749160268357), (3491, 0.002940829383781445), (1131, 0.002939105158493312), (3341, 0.0029375323195861974), (4715, 0.0029368864449017653), (1488, 0.002936694262047533), (4640, 0.0029347466558591597), (1170, 0.0029326204159923134), (2354, 0.002932249693857817), (749, 0.002931090125587742), (4330, 0.0029309627761622235), (761, 0.0029297642296376237), (3478, 0.0029293360048133683), (2495, 0.002929070220852153), (1179, 0.0029289229425405877), (1163, 0.0029241662354642494), (2387, 0.0029229590544432465), (3665, 0.00292235796668513), (4320, 0.002921889924781171), (4016, 0.0029212642586225945), (2900, 0.002920013924802648), (2943, 0.002918801106098519), (1021, 0.002917855931981543), (1112, 0.0029176164366414518), (3673, 0.002917465561002025), (1612, 0.0029170002770957135), (3216, 0.0029150403436975746), (1298, 0.0029131004028761617), (2999, 0.0029127185263099703), (4409, 0.002912000221487867), (3299, 0.00291081763534297), (346, 0.002910772030623074), (2289, 0.002909044205367284), (1102, 0.0029073007333183906), (1811, 0.0029057722735563903), (3727, 0.002904403678824459), (400, 0.002902433696189966), (490, 0.0029007117268769526), (4520, 0.0028998474975747853), (348, 0.0028997880939131268), (3565, 0.0028990762882618528), (247, 0.0028963743113847745), (2569, 0.0028945272731978676), (1500, 0.0028943273424043574), (4228, 0.0028940199826967264), (3067, 0.0028938596322544575), (1598, 0.0028916718941819053), (1666, 0.002888731315767097), (2416, 0.0028870759188303614), (867, 0.002886986279236584), (1313, 0.0028865807616841616), (4668, 0.0028863728515060865), (973, 0.0028860180475711547), (3173, 0.0028848463554959542), (2173, 0.00288455089347346), (3093, 0.0028828705204380933), (2946, 0.002882836710167997), (3195, 0.002882738149500508), (3906, 0.0028820964061698853), (3647, 0.0028820832315816333), (2687, 0.0028819968456911937), (1100, 0.002880848733903491), (4349, 0.0028804428460867722), (2463, 0.0028794063063567136), (169, 0.002878049335038529), (727, 0.0028780101606116692), (3499, 0.0028777365819629514), (4685, 0.0028759465994353884), (4284, 0.0028742171814084834), (1319, 0.002873963286439667), (1807, 0.0028733136786543746), (3046, 0.0028730772004945584), (2980, 0.002872925711660277), (3557, 0.0028725779767908768), (3827, 0.0028721388988261084), (3379, 0.0028719387153382614), (1286, 0.0028717668328621087), (1882, 0.002870116914850152), (2111, 0.002869398792272022), (4362, 0.002868264414888532), (2945, 0.0028674413416942797), (4530, 0.0028648635870269726), (2226, 0.002864367979114119), (2802, 0.0028643648630571963), (4687, 0.002864289398311031), (3220, 0.00286293633078162), (3447, 0.0028624217074012938), (4036, 0.0028622183114227536), (2632, 0.0028604737360412224), (1617, 0.002859790777365269), (3719, 0.00285918936279542), (3706, 0.002858817831075861), (4743, 0.002858205418872625), (446, 0.002857583044584856), (3412, 0.0028569313996967896), (2909, 0.002856924271537884), (1350, 0.0028534222953300126), (1422, 0.002852153394499521), (693, 0.00285109445574182), (1096, 0.002849835382810381), (4395, 0.002849781748158994), (755, 0.0028468038389807427), (3765, 0.002845501598561608), (4693, 0.0028454670078408707), (4576, 0.0028452013559104833), (3075, 0.0028449781890590897), (522, 0.0028434998713978647), (292, 0.0028420804222144278), (4183, 0.002841165551838632), (4381, 0.0028398701437005293), (4550, 0.002839808035551855), (4573, 0.002839738609686966), (1245, 0.002839502927355967), (4129, 0.0028353853065578496), (3890, 0.002834007322149813), (488, 0.002833397832864143), (3028, 0.0028307497471914645), (167, 0.0028299042287399322), (4336, 0.002829480028935703), (4069, 0.0028294181744465486), (1247, 0.0028293317665226006), (2268, 0.002829085648719884), (3641, 0.0028290847151731646), (4139, 0.002828724337001391), (1969, 0.002826952277546117), (2653, 0.002826763253671194), (1060, 0.0028263061726838856), (19, 0.0028262897015505057), (2467, 0.0028262218025754894), (2027, 0.0028256555048381963), (3696, 0.0028249768046800412), (2642, 0.0028222824733287084), (2716, 0.0028215893902058696), (923, 0.0028210092935245625), (4461, 0.0028200308182440054), (3917, 0.002817867544882896), (1864, 0.002817485034259702), (3900, 0.0028168190271649755), (3487, 0.002816453613285456), (3826, 0.002816183277494247), (1117, 0.002814074311434394), (4729, 0.0028137755744139232), (620, 0.0028135177600278837), (1020, 0.002810366014243857), (2117, 0.0028098516365757265), (3503, 0.0028089382780298574), (1446, 0.0028071726848524553), (4670, 0.002806012536032778), (2367, 0.002804033605161188), (4523, 0.0028022183503225357), (852, 0.0028021248378312853), (731, 0.0028021164495083237), (1027, 0.002801119260327562), (2141, 0.002799898453275958), (4567, 0.002799678170004539), (4536, 0.002798660484526085), (2309, 0.0027982548335167418), (883, 0.002798243929266303), (4614, 0.002798030073962813), (3214, 0.002796603163555259), (2779, 0.0027963860146769694), (3268, 0.00279584802181629), (1877, 0.002795288713934558), (3122, 0.0027944914857419866), (356, 0.002794158446459185), (1929, 0.0027925954768147623), (2540, 0.002791877247862835), (1001, 0.002791875843060773), (1002, 0.002791052117996638), (3151, 0.002790393774320515), (3733, 0.002789910165908342), (157, 0.0027898705116993685), (2473, 0.002789801445642011), (29, 0.002789561729610087), (2121, 0.002788766583423694), (3035, 0.0027886983258612716), (3784, 0.00278823359696946), (4085, 0.002788060909703153), (1273, 0.002787895618232745), (3691, 0.002787392616229405), (3170, 0.002786786595934522), (4213, 0.0027854742575205145), (3036, 0.0027850365381351053), (2765, 0.002784443768165708), (2068, 0.0027835480935821137), (505, 0.002782806108586099), (644, 0.002782737358155353), (4206, 0.0027825243709348473), (4428, 0.002781549490550046), (3898, 0.0027798288205993726), (437, 0.0027795309415512017), (3799, 0.002776770496486597), (2995, 0.0027762730833775493), (911, 0.0027751985341203504), (2572, 0.002774873453464404), (2679, 0.0027719302027857614), (203, 0.002771717966014519), (698, 0.0027715118560603345), (2651, 0.002771491445548467), (2133, 0.0027707203257828204), (1742, 0.002769770004648382), (1404, 0.0027689959097818625), (2997, 0.0027687575414255985), (1759, 0.002767804301535859), (2800, 0.002767575742708765), (966, 0.002765804652769569), (3194, 0.0027649066516566654), (116, 0.00276471242211363), (3954, 0.0027646409435843223), (3734, 0.0027628673127760577), (2303, 0.002762750868544706), (387, 0.0027627026878690943), (2972, 0.0027611797196430113), (1663, 0.0027596413151113473), (4257, 0.002759511946951641), (2348, 0.002759188578661239), (3615, 0.002758520244593871), (2525, 0.002758384500735784), (31, 0.0027549494714499373), (2004, 0.0027531930287708613), (507, 0.0027505581376778493), (4254, 0.0027505034001232454), (1203, 0.0027503929829906307), (154, 0.002749641914107577), (3057, 0.0027480111591989035), (1372, 0.0027478889238907733), (307, 0.002747695681583238), (903, 0.0027458595335935034), (140, 0.0027439873925340793), (941, 0.0027436079157638197), (734, 0.0027434023876394937), (279, 0.0027423171360412965), (212, 0.002741401994020263), (2496, 0.002739435191769955), (1206, 0.002738378199182706), (963, 0.0027382086889314694), (2099, 0.0027379818684619478), (1884, 0.0027379526341987956), (2634, 0.0027371158829870737), (2149, 0.0027370098665342123), (3399, 0.0027367661781224654), (471, 0.0027355705624335087), (4634, 0.0027333875878921615), (2862, 0.002729980337601516), (372, 0.0027293859566712947), (598, 0.002729321739699303), (944, 0.0027291974807552417), (1819, 0.002729078932563371), (3725, 0.0027275503944586446), (1555, 0.002726991141971615), (921, 0.0027262789892681244), (1433, 0.002725273762540571), (2201, 0.0027249971544865597), (935, 0.0027246462700068314), (4591, 0.0027244351667327304), (838, 0.0027238654573473126), (3829, 0.002722985948895728), (2446, 0.002720747949545225), (868, 0.0027197681633090933), (3500, 0.002717713496129597), (2907, 0.0027167657729409507), (1641, 0.0027164273182006117), (1650, 0.002716312559944919), (2556, 0.002716247521548244), (589, 0.0027148177355195797), (1514, 0.0027109997508986314), (766, 0.0027104344430962162), (744, 0.0027090017172629512), (1519, 0.0027088390304951145), (1760, 0.0027083539485834953), (4616, 0.0027059812293198267), (136, 0.0027051087349641693), (2735, 0.002704647504719212), (3558, 0.0027043948484915766), (3913, 0.002704353820760401), (2399, 0.002703999543087166), (3369, 0.002702020467028491), (1477, 0.0027018933369912608), (355, 0.002701120232156321), (899, 0.0027002992494704493), (2482, 0.0027001155972329045), (590, 0.0026998561475567446), (1114, 0.002698096559406247), (4479, 0.0026979507926821952), (1814, 0.002697187695110287), (2674, 0.0026965211644499896), (4282, 0.0026964701821904527), (4348, 0.0026938777956464193), (907, 0.002693843795556958), (2453, 0.002692310417080522), (3767, 0.002690888390236236), (4649, 0.0026901799275375247), (3455, 0.0026896954372789537), (359, 0.0026882622109650005), (1462, 0.0026868415743733966), (4326, 0.002685671000020837), (2362, 0.002685214461093247), (3050, 0.0026838152917454203), (3284, 0.0026828725648728627), (1672, 0.0026816258019253716), (910, 0.0026815003351632104), (2920, 0.002680226221657319), (2301, 0.002679592266517113), (1065, 0.0026773935716501744), (4620, 0.0026764854740960204), (957, 0.0026748250879501632), (2954, 0.002674726221644738), (1434, 0.0026744704465256424), (218, 0.0026743421203622273), (4638, 0.002672138559142197), (1730, 0.0026706346823084873), (934, 0.0026697297314020227), (1675, 0.002668610141349944), (759, 0.0026670674191343236), (2803, 0.0026658099865966723), (3953, 0.0026652764343971826), (3278, 0.0026635921548402663), (1892, 0.0026599649637448234), (2265, 0.002659304706083002), (1538, 0.002658923098968009), (2236, 0.0026581595459685644), (1865, 0.002657466320256986), (608, 0.0026553547100021868), (968, 0.002653537773652798), (3705, 0.0026507029560799947), (473, 0.00265018799996459), (3311, 0.0026498226068916594), (449, 0.0026493185716959912), (1826, 0.002648881425188275), (4154, 0.0026469795151078603), (2338, 0.002646596745570645), (1161, 0.0026442811991366846), (1220, 0.002643912525199612), (1719, 0.0026437043761768733), (2031, 0.0026433730724875768), (1366, 0.00264238349159026), (4350, 0.002640331285674989), (1690, 0.002639223888317798), (2741, 0.002637534793959953), (3027, 0.002635985768915161), (2285, 0.002635872460861764), (936, 0.002635719108544608), (1625, 0.002634089180671528), (2248, 0.0026335291548169448), (597, 0.002633238185267111), (4143, 0.0026331530443023466), (800, 0.0026329768030002206), (3863, 0.00263229078900339), (3108, 0.002629139692481694), (158, 0.002627623377814), (1980, 0.002627400417360301), (2191, 0.002627086289778929), (3841, 0.002626975762360986), (4080, 0.0026265181438035277), (1004, 0.002625611365851912), (2976, 0.00262410841360492), (917, 0.002622020746291319), (3795, 0.0026203669860631303), (594, 0.002618284552469969), (1921, 0.002617943296850184), (815, 0.002617046346786653), (1934, 0.0026155980820703434), (1414, 0.002613322745782908), (268, 0.00261267375494709), (672, 0.0026120859101890406), (1539, 0.0026120478411047953), (1977, 0.002608133124793141), (2724, 0.0026029949454815906), (1423, 0.002599753848403922), (4608, 0.002599499243773971), (132, 0.002597056933052897), (4661, 0.002596600980044259), (4104, 0.002596524605412608), (252, 0.0025947523896532247), (4343, 0.002591039842007889), (495, 0.0025908807747239315), (3755, 0.0025889227195505663), (200, 0.0025883735317707808), (519, 0.002586442585124117), (1608, 0.0025856696056226376), (4220, 0.0025841836716615396), (1199, 0.002584092822996215), (2753, 0.0025806294664784935), (222, 0.002578279253252462), (4066, 0.002572511125344176), (480, 0.002570480247003558), (3894, 0.002569085051915334), (32, 0.0025688462164857235), (4156, 0.0025677857532476933), (4432, 0.0025639636315444394), (1301, 0.0025592059565143948), (3880, 0.002555669457248233), (4296, 0.002551570367299711), (3096, 0.0025463778679021072), (2721, 0.002545337353470912), (4429, 0.0025434168020957754), (1217, 0.00254313446949734), (2520, 0.00253938247166583), (2747, 0.0025382365202990423), (103, 0.00253721942066695), (4748, 0.0025369960135473105), (3211, 0.0025362692632787606), (1397, 0.002533180717137332), (165, 0.0025322920294594004), (2270, 0.0025309927293468253), (1828, 0.0025276079255532376), (4386, 0.002526419973866296), (1370, 0.0025258039460963598), (278, 0.00252292417857854), (861, 0.002522519146874684), (3238, 0.0025209300720608627), (364, 0.002520117148571046), (2527, 0.0025194463468388726), (3393, 0.0025193818714847513), (3629, 0.002515747850446187), (286, 0.00251371281371173), (269, 0.0025135625383927913), (4627, 0.0025135555332484417), (2611, 0.0025131014876985684), (3569, 0.00251153083843548), (2743, 0.002511498900071413), (4411, 0.0025095610887709294), (4476, 0.00250663217806239), (60, 0.0025058278736117164), (1088, 0.0025041068203755304), (4344, 0.002504034511148527), (1627, 0.002504013664803314), (2146, 0.002503387689778889), (3376, 0.002501436146741359), (496, 0.0025009140303643477), (3409, 0.0024991895910105952), (1743, 0.0024934148700942716), (432, 0.0024920310733500587), (3065, 0.002488157724236536), (2758, 0.0024878542281254416), (3669, 0.0024824703530544365), (267, 0.002482437806550788), (3668, 0.002479445401925579), (1356, 0.00247934956308073), (3657, 0.0024720169660973077), (4636, 0.0024703011028809198), (2039, 0.002464054308743323), (2127, 0.0024591538204808117), (3347, 0.0024586266499796562), (3821, 0.002456667212181177), (2211, 0.0024545273927659966), (3091, 0.002451890761546137), (3928, 0.002446907155402987), (2876, 0.002446529350852366), (2359, 0.0024449798213401945), (4733, 0.002444195299949227), (3331, 0.0024418616053950575), (16, 0.002441559415285773), (1209, 0.002441083650700634), (3252, 0.0024408790046204095), (2481, 0.002439445405519995), (3430, 0.00243828020492903), (3927, 0.0024382235217316997), (796, 0.0024319920472826166), (442, 0.002428920532125311), (2563, 0.0024226927022705886), (1305, 0.0024217109368152544), (441, 0.0024206943617777026), (2844, 0.0024193619567133675), (4015, 0.0024164151637486413), (3957, 0.0024144962015143594), (843, 0.0024089899098979593), (3548, 0.0024089284773621375), (1241, 0.0024081356238829328), (1427, 0.0024012847640535987), (1415, 0.0024000240225712332), (1464, 0.0023995377582097565), (1098, 0.002388695923719624), (1037, 0.002382902484002297), (3875, 0.002380972517495454), (156, 0.0023796609243628107), (4744, 0.002374673083052017), (4626, 0.002368338572968069), (691, 0.0023675454834965596), (3410, 0.0023572558963541905), (4674, 0.0023527460513243924), (3431, 0.0023523381107346873), (194, 0.002350271838559246), (3538, 0.0023357498604658954), (1144, 0.0023354570252850015), (1871, 0.0023314991537546326), (63, 0.0023313554797595028), (1886, 0.0023282942691428598), (706, 0.002326665671755712), (527, 0.002319046945378748), (2010, 0.0023133335838055576), (2917, 0.0023073075892864454), (3301, 0.0022939096780114692), (159, 0.0022926398689762156), (1040, 0.0022879318553489024), (3152, 0.0022859037000285028), (2767, 0.002285382425371112), (571, 0.0022585583591287796), (607, 0.0022572357574649426), (266, 0.002253920504246642), (3316, 0.0022533292620466458), (1403, 0.00225064545040226), (453, 0.0022399620507120442), (4652, 0.0022390414192699323), (351, 0.0022348973960319716), (82, 0.00222293122607462), (562, 0.0022223355001506464), (296, 0.002195469690557926), (1277, 0.0021905671800369502), (1648, 0.002187588737634527), (3546, 0.0021855041506026445), (4301, 0.0021733329925804025), (2902, 0.0021544423350040543), (293, 0.0020828319819316417), (455, 0.0020786578715515816), (3365, 0.002065773953116875), (129, 0.002045549636554111), (858, 0.001977876272498834), (24, 0.0019132237389548445), (3608, 0.001908017490250373), (3835, 0.0017642516924449173), (2, 0.0), (6, 0.0), (13, 0.0), (17, 0.0), (22, 0.0), (27, 0.0), (35, 0.0), (36, 0.0), (37, 0.0), (39, 0.0), (46, 0.0), (57, 0.0), (65, 0.0), (67, 0.0), (69, 0.0), (77, 0.0), (78, 0.0), (80, 0.0), (91, 0.0), (93, 0.0), (94, 0.0), (95, 0.0), (100, 0.0), (101, 0.0), (102, 0.0), (110, 0.0), (118, 0.0), (125, 0.0), (128, 0.0), (130, 0.0), (150, 0.0), (151, 0.0), (152, 0.0), (163, 0.0), (168, 0.0), (171, 0.0), (179, 0.0), (185, 0.0), (186, 0.0), (214, 0.0), (220, 0.0), (223, 0.0), (225, 0.0), (230, 0.0), (231, 0.0), (232, 0.0), (233, 0.0), (234, 0.0), (241, 0.0), (245, 0.0), (250, 0.0), (258, 0.0), (260, 0.0), (261, 0.0), (263, 0.0), (264, 0.0), (265, 0.0), (272, 0.0), (273, 0.0), (275, 0.0), (284, 0.0), (289, 0.0), (290, 0.0), (297, 0.0), (298, 0.0), (300, 0.0), (303, 0.0), (305, 0.0), (310, 0.0), (312, 0.0), (313, 0.0), (316, 0.0), (320, 0.0), (327, 0.0), (328, 0.0), (331, 0.0), (332, 0.0), (336, 0.0), (337, 0.0), (339, 0.0), (341, 0.0), (347, 0.0), (352, 0.0), (361, 0.0), (362, 0.0), (363, 0.0), (365, 0.0), (386, 0.0), (389, 0.0), (390, 0.0), (393, 0.0), (404, 0.0), (409, 0.0), (411, 0.0), (413, 0.0), (415, 0.0), (420, 0.0), (421, 0.0), (424, 0.0), (425, 0.0), (426, 0.0), (454, 0.0), (459, 0.0), (460, 0.0), (462, 0.0), (467, 0.0), (477, 0.0), (484, 0.0), (491, 0.0), (498, 0.0), (514, 0.0), (516, 0.0), (525, 0.0), (529, 0.0), (536, 0.0), (537, 0.0), (538, 0.0), (540, 0.0), (549, 0.0), (550, 0.0), (557, 0.0), (559, 0.0), (567, 0.0), (568, 0.0), (570, 0.0), (574, 0.0), (582, 0.0), (585, 0.0), (586, 0.0), (591, 0.0), (592, 0.0), (595, 0.0), (599, 0.0), (600, 0.0), (601, 0.0), (602, 0.0), (603, 0.0), (610, 0.0), (615, 0.0), (618, 0.0), (625, 0.0), (630, 0.0), (633, 0.0), (634, 0.0), (635, 0.0), (639, 0.0), (648, 0.0), (650, 0.0), (661, 0.0), (666, 0.0), (671, 0.0), (674, 0.0), (681, 0.0), (686, 0.0), (699, 0.0), (700, 0.0), (711, 0.0), (714, 0.0), (720, 0.0), (724, 0.0), (725, 0.0), (730, 0.0), (736, 0.0), (741, 0.0), (747, 0.0), (748, 0.0), (752, 0.0), (754, 0.0), (758, 0.0), (765, 0.0), (768, 0.0), (770, 0.0), (772, 0.0), (775, 0.0), (776, 0.0), (779, 0.0), (780, 0.0), (789, 0.0), (803, 0.0), (811, 0.0), (836, 0.0), (841, 0.0), (877, 0.0), (881, 0.0), (882, 0.0), (893, 0.0), (902, 0.0), (913, 0.0), (914, 0.0), (919, 0.0), (932, 0.0), (943, 0.0), (950, 0.0), (954, 0.0), (960, 0.0), (964, 0.0), (965, 0.0), (970, 0.0), (977, 0.0), (983, 0.0), (990, 0.0), (995, 0.0), (996, 0.0), (997, 0.0), (1003, 0.0), (1008, 0.0), (1010, 0.0), (1011, 0.0), (1012, 0.0), (1014, 0.0), (1016, 0.0), (1025, 0.0), (1031, 0.0), (1045, 0.0), (1046, 0.0), (1051, 0.0), (1057, 0.0), (1066, 0.0), (1069, 0.0), (1070, 0.0), (1073, 0.0), (1089, 0.0), (1091, 0.0), (1093, 0.0), (1094, 0.0), (1095, 0.0), (1097, 0.0), (1099, 0.0), (1105, 0.0), (1106, 0.0), (1108, 0.0), (1111, 0.0), (1113, 0.0), (1120, 0.0), (1126, 0.0), (1127, 0.0), (1129, 0.0), (1134, 0.0), (1135, 0.0), (1142, 0.0), (1147, 0.0), (1149, 0.0), (1152, 0.0), (1154, 0.0), (1155, 0.0), (1158, 0.0), (1159, 0.0), (1164, 0.0), (1171, 0.0), (1178, 0.0), (1181, 0.0), (1189, 0.0), (1190, 0.0), (1198, 0.0), (1201, 0.0), (1210, 0.0), (1211, 0.0), (1212, 0.0), (1218, 0.0), (1222, 0.0), (1227, 0.0), (1228, 0.0), (1235, 0.0), (1238, 0.0), (1240, 0.0), (1242, 0.0), (1244, 0.0), (1246, 0.0), (1258, 0.0), (1262, 0.0), (1265, 0.0), (1266, 0.0), (1267, 0.0), (1268, 0.0), (1269, 0.0), (1274, 0.0), (1278, 0.0), (1280, 0.0), (1287, 0.0), (1288, 0.0), (1289, 0.0), (1291, 0.0), (1293, 0.0), (1299, 0.0), (1302, 0.0), (1307, 0.0), (1311, 0.0), (1322, 0.0), (1327, 0.0), (1328, 0.0), (1332, 0.0), (1333, 0.0), (1336, 0.0), (1341, 0.0), (1345, 0.0), (1346, 0.0), (1358, 0.0), (1363, 0.0), (1368, 0.0), (1373, 0.0), (1374, 0.0), (1376, 0.0), (1380, 0.0), (1381, 0.0), (1386, 0.0), (1389, 0.0), (1391, 0.0), (1395, 0.0), (1396, 0.0), (1399, 0.0), (1426, 0.0), (1437, 0.0), (1441, 0.0), (1443, 0.0), (1449, 0.0), (1451, 0.0), (1452, 0.0), (1453, 0.0), (1460, 0.0), (1467, 0.0), (1468, 0.0), (1486, 0.0), (1487, 0.0), (1490, 0.0), (1495, 0.0), (1496, 0.0), (1501, 0.0), (1502, 0.0), (1512, 0.0), (1515, 0.0), (1520, 0.0), (1522, 0.0), (1525, 0.0), (1526, 0.0), (1529, 0.0), (1530, 0.0), (1531, 0.0), (1535, 0.0), (1548, 0.0), (1549, 0.0), (1552, 0.0), (1556, 0.0), (1560, 0.0), (1563, 0.0), (1564, 0.0), (1568, 0.0), (1569, 0.0), (1573, 0.0), (1576, 0.0), (1578, 0.0), (1583, 0.0), (1588, 0.0), (1590, 0.0), (1600, 0.0), (1601, 0.0), (1602, 0.0), (1603, 0.0), (1604, 0.0), (1607, 0.0), (1609, 0.0), (1611, 0.0), (1615, 0.0), (1618, 0.0), (1623, 0.0), (1626, 0.0), (1631, 0.0), (1633, 0.0), (1635, 0.0), (1636, 0.0), (1638, 0.0), (1640, 0.0), (1644, 0.0), (1651, 0.0), (1652, 0.0), (1659, 0.0), (1661, 0.0), (1664, 0.0), (1668, 0.0), (1669, 0.0), (1676, 0.0), (1684, 0.0), (1686, 0.0), (1692, 0.0), (1696, 0.0), (1697, 0.0), (1702, 0.0), (1709, 0.0), (1713, 0.0), (1715, 0.0), (1718, 0.0), (1723, 0.0), (1725, 0.0), (1728, 0.0), (1729, 0.0), (1731, 0.0), (1732, 0.0), (1734, 0.0), (1746, 0.0), (1749, 0.0), (1751, 0.0), (1753, 0.0), (1755, 0.0), (1758, 0.0), (1766, 0.0), (1769, 0.0), (1770, 0.0), (1771, 0.0), (1773, 0.0), (1778, 0.0), (1785, 0.0), (1786, 0.0), (1788, 0.0), (1790, 0.0), (1791, 0.0), (1799, 0.0), (1800, 0.0), (1803, 0.0), (1804, 0.0), (1809, 0.0), (1810, 0.0), (1812, 0.0), (1825, 0.0), (1834, 0.0), (1837, 0.0), (1839, 0.0), (1841, 0.0), (1842, 0.0), (1844, 0.0), (1849, 0.0), (1855, 0.0), (1859, 0.0), (1868, 0.0), (1870, 0.0), (1879, 0.0), (1880, 0.0), (1889, 0.0), (1894, 0.0), (1898, 0.0), (1900, 0.0), (1901, 0.0), (1903, 0.0), (1904, 0.0), (1906, 0.0), (1908, 0.0), (1910, 0.0), (1911, 0.0), (1914, 0.0), (1917, 0.0), (1926, 0.0), (1927, 0.0), (1928, 0.0), (1935, 0.0), (1938, 0.0), (1941, 0.0), (1948, 0.0), (1952, 0.0), (1953, 0.0), (1955, 0.0), (1957, 0.0), (1961, 0.0), (1962, 0.0), (1965, 0.0), (1972, 0.0), (1975, 0.0), (1976, 0.0), (1984, 0.0), (1988, 0.0), (1991, 0.0), (1994, 0.0), (2001, 0.0), (2002, 0.0), (2006, 0.0), (2015, 0.0), (2017, 0.0), (2018, 0.0), (2020, 0.0), (2021, 0.0), (2028, 0.0), (2030, 0.0), (2032, 0.0), (2033, 0.0), (2036, 0.0), (2038, 0.0), (2041, 0.0), (2046, 0.0), (2050, 0.0), (2052, 0.0), (2058, 0.0), (2059, 0.0), (2063, 0.0), (2071, 0.0), (2081, 0.0), (2084, 0.0), (2090, 0.0), (2092, 0.0), (2094, 0.0), (2098, 0.0), (2101, 0.0), (2106, 0.0), (2113, 0.0), (2115, 0.0), (2125, 0.0), (2128, 0.0), (2136, 0.0), (2138, 0.0), (2139, 0.0), (2140, 0.0), (2150, 0.0), (2156, 0.0), (2160, 0.0), (2161, 0.0), (2164, 0.0), (2167, 0.0), (2168, 0.0), (2171, 0.0), (2172, 0.0), (2175, 0.0), (2177, 0.0), (2179, 0.0), (2182, 0.0), (2183, 0.0), (2186, 0.0), (2197, 0.0), (2198, 0.0), (2200, 0.0), (2202, 0.0), (2207, 0.0), (2218, 0.0), (2219, 0.0), (2220, 0.0), (2231, 0.0), (2233, 0.0), (2234, 0.0), (2238, 0.0), (2241, 0.0), (2243, 0.0), (2244, 0.0), (2246, 0.0), (2247, 0.0), (2249, 0.0), (2253, 0.0), (2259, 0.0), (2261, 0.0), (2262, 0.0), (2263, 0.0), (2267, 0.0), (2278, 0.0), (2282, 0.0), (2283, 0.0), (2290, 0.0), (2291, 0.0), (2294, 0.0), (2298, 0.0), (2305, 0.0), (2307, 0.0), (2312, 0.0), (2314, 0.0), (2325, 0.0), (2328, 0.0), (2329, 0.0), (2332, 0.0), (2333, 0.0), (2335, 0.0), (2339, 0.0), (2341, 0.0), (2342, 0.0), (2343, 0.0), (2364, 0.0), (2369, 0.0), (2371, 0.0), (2373, 0.0), (2376, 0.0), (2377, 0.0), (2380, 0.0), (2381, 0.0), (2389, 0.0), (2420, 0.0), (2421, 0.0), (2426, 0.0), (2431, 0.0), (2433, 0.0), (2439, 0.0), (2442, 0.0), (2450, 0.0), (2451, 0.0), (2452, 0.0), (2456, 0.0), (2470, 0.0), (2471, 0.0), (2472, 0.0), (2476, 0.0), (2483, 0.0), (2485, 0.0), (2491, 0.0), (2498, 0.0), (2500, 0.0), (2501, 0.0), (2503, 0.0), (2504, 0.0), (2506, 0.0), (2508, 0.0), (2510, 0.0), (2515, 0.0), (2518, 0.0), (2523, 0.0), (2532, 0.0), (2536, 0.0), (2542, 0.0), (2543, 0.0), (2544, 0.0), (2547, 0.0), (2551, 0.0), (2562, 0.0), (2564, 0.0), (2566, 0.0), (2567, 0.0), (2573, 0.0), (2576, 0.0), (2577, 0.0), (2582, 0.0), (2583, 0.0), (2590, 0.0), (2594, 0.0), (2596, 0.0), (2597, 0.0), (2599, 0.0), (2604, 0.0), (2605, 0.0), (2608, 0.0), (2616, 0.0), (2620, 0.0), (2630, 0.0), (2637, 0.0), (2639, 0.0), (2641, 0.0), (2644, 0.0), (2646, 0.0), (2654, 0.0), (2656, 0.0), (2657, 0.0), (2658, 0.0), (2659, 0.0), (2663, 0.0), (2666, 0.0), (2667, 0.0), (2669, 0.0), (2670, 0.0), (2672, 0.0), (2676, 0.0), (2677, 0.0), (2682, 0.0), (2683, 0.0), (2685, 0.0), (2688, 0.0), (2690, 0.0), (2691, 0.0), (2693, 0.0), (2700, 0.0), (2701, 0.0), (2703, 0.0), (2704, 0.0), (2708, 0.0), (2713, 0.0), (2715, 0.0), (2717, 0.0), (2719, 0.0), (2726, 0.0), (2729, 0.0), (2730, 0.0), (2732, 0.0), (2733, 0.0), (2737, 0.0), (2763, 0.0), (2773, 0.0), (2774, 0.0), (2787, 0.0), (2789, 0.0), (2793, 0.0), (2794, 0.0), (2804, 0.0), (2807, 0.0), (2810, 0.0), (2814, 0.0), (2818, 0.0), (2820, 0.0), (2823, 0.0), (2824, 0.0), (2828, 0.0), (2829, 0.0), (2835, 0.0), (2837, 0.0), (2839, 0.0), (2843, 0.0), (2847, 0.0), (2850, 0.0), (2852, 0.0), (2855, 0.0), (2860, 0.0), (2864, 0.0), (2865, 0.0), (2866, 0.0), (2869, 0.0), (2873, 0.0), (2875, 0.0), (2885, 0.0), (2891, 0.0), (2896, 0.0), (2898, 0.0), (2905, 0.0), (2906, 0.0), (2922, 0.0), (2927, 0.0), (2928, 0.0), (2930, 0.0), (2935, 0.0), (2938, 0.0), (2941, 0.0), (2947, 0.0), (2951, 0.0), (2955, 0.0), (2959, 0.0), (2960, 0.0), (2973, 0.0), (2979, 0.0), (2983, 0.0), (2990, 0.0), (2992, 0.0), (3002, 0.0), (3008, 0.0), (3009, 0.0), (3017, 0.0), (3022, 0.0), (3023, 0.0), (3029, 0.0), (3033, 0.0), (3038, 0.0), (3039, 0.0), (3041, 0.0), (3047, 0.0), (3048, 0.0), (3049, 0.0), (3053, 0.0), (3054, 0.0), (3058, 0.0), (3059, 0.0), (3061, 0.0), (3066, 0.0), (3068, 0.0), (3073, 0.0), (3078, 0.0), (3079, 0.0), (3080, 0.0), (3088, 0.0), (3098, 0.0), (3100, 0.0), (3104, 0.0), (3105, 0.0), (3106, 0.0), (3107, 0.0), (3114, 0.0), (3124, 0.0), (3126, 0.0), (3130, 0.0), (3132, 0.0), (3134, 0.0), (3135, 0.0), (3136, 0.0), (3138, 0.0), (3143, 0.0), (3156, 0.0), (3162, 0.0), (3163, 0.0), (3164, 0.0), (3172, 0.0), (3176, 0.0), (3180, 0.0), (3185, 0.0), (3191, 0.0), (3193, 0.0), (3197, 0.0), (3201, 0.0), (3202, 0.0), (3203, 0.0), (3204, 0.0), (3205, 0.0), (3207, 0.0), (3212, 0.0), (3217, 0.0), (3222, 0.0), (3229, 0.0), (3231, 0.0), (3236, 0.0), (3250, 0.0), (3251, 0.0), (3253, 0.0), (3255, 0.0), (3256, 0.0), (3261, 0.0), (3263, 0.0), (3266, 0.0), (3270, 0.0), (3277, 0.0), (3286, 0.0), (3287, 0.0), (3288, 0.0), (3294, 0.0), (3295, 0.0), (3309, 0.0), (3320, 0.0), (3323, 0.0), (3324, 0.0), (3338, 0.0), (3339, 0.0), (3340, 0.0), (3345, 0.0), (3350, 0.0), (3366, 0.0), (3368, 0.0), (3378, 0.0), (3383, 0.0), (3385, 0.0), (3397, 0.0), (3398, 0.0), (3400, 0.0), (3404, 0.0), (3405, 0.0), (3411, 0.0), (3415, 0.0), (3420, 0.0), (3424, 0.0), (3426, 0.0), (3428, 0.0), (3429, 0.0), (3432, 0.0), (3438, 0.0), (3440, 0.0), (3442, 0.0), (3443, 0.0), (3444, 0.0), (3446, 0.0), (3448, 0.0), (3451, 0.0), (3457, 0.0), (3459, 0.0), (3467, 0.0), (3468, 0.0), (3469, 0.0), (3472, 0.0), (3476, 0.0), (3480, 0.0), (3481, 0.0), (3482, 0.0), (3485, 0.0), (3486, 0.0), (3489, 0.0), (3490, 0.0), (3495, 0.0), (3502, 0.0), (3505, 0.0), (3509, 0.0), (3513, 0.0), (3515, 0.0), (3518, 0.0), (3519, 0.0), (3520, 0.0), (3522, 0.0), (3530, 0.0), (3532, 0.0), (3543, 0.0), (3549, 0.0), (3550, 0.0), (3555, 0.0), (3559, 0.0), (3562, 0.0), (3567, 0.0), (3568, 0.0), (3573, 0.0), (3574, 0.0), (3576, 0.0), (3578, 0.0), (3581, 0.0), (3583, 0.0), (3584, 0.0), (3588, 0.0), (3592, 0.0), (3595, 0.0), (3598, 0.0), (3600, 0.0), (3603, 0.0), (3604, 0.0), (3605, 0.0), (3609, 0.0), (3619, 0.0), (3622, 0.0), (3625, 0.0), (3628, 0.0), (3630, 0.0), (3631, 0.0), (3632, 0.0), (3644, 0.0), (3648, 0.0), (3663, 0.0), (3671, 0.0), (3676, 0.0), (3679, 0.0), (3681, 0.0), (3686, 0.0), (3688, 0.0), (3695, 0.0), (3697, 0.0), (3698, 0.0), (3702, 0.0), (3703, 0.0), (3709, 0.0), (3710, 0.0), (3712, 0.0), (3715, 0.0), (3716, 0.0), (3717, 0.0), (3721, 0.0), (3722, 0.0), (3723, 0.0), (3724, 0.0), (3730, 0.0), (3736, 0.0), (3743, 0.0), (3744, 0.0), (3746, 0.0), (3748, 0.0), (3753, 0.0), (3758, 0.0), (3760, 0.0), (3761, 0.0), (3764, 0.0), (3773, 0.0), (3776, 0.0), (3782, 0.0), (3783, 0.0), (3785, 0.0), (3786, 0.0), (3787, 0.0), (3788, 0.0), (3789, 0.0), (3791, 0.0), (3793, 0.0), (3796, 0.0), (3798, 0.0), (3800, 0.0), (3803, 0.0), (3805, 0.0), (3810, 0.0), (3815, 0.0), (3817, 0.0), (3818, 0.0), (3820, 0.0), (3823, 0.0), (3824, 0.0), (3825, 0.0), (3834, 0.0), (3836, 0.0), (3838, 0.0), (3840, 0.0), (3844, 0.0), (3846, 0.0), (3851, 0.0), (3852, 0.0), (3859, 0.0), (3861, 0.0), (3864, 0.0), (3865, 0.0), (3869, 0.0), (3870, 0.0), (3871, 0.0), (3879, 0.0), (3881, 0.0), (3885, 0.0), (3887, 0.0), (3896, 0.0), (3897, 0.0), (3907, 0.0), (3909, 0.0), (3914, 0.0), (3916, 0.0), (3918, 0.0), (3921, 0.0), (3923, 0.0), (3929, 0.0), (3930, 0.0), (3933, 0.0), (3934, 0.0), (3936, 0.0), (3937, 0.0), (3940, 0.0), (3943, 0.0), (3944, 0.0), (3950, 0.0), (3963, 0.0), (3964, 0.0), (3968, 0.0), (3969, 0.0), (3970, 0.0), (3971, 0.0), (3972, 0.0), (3979, 0.0), (3981, 0.0), (3988, 0.0), (3989, 0.0), (3994, 0.0), (3995, 0.0), (3996, 0.0), (3997, 0.0), (3998, 0.0), (4001, 0.0), (4009, 0.0), (4010, 0.0), (4012, 0.0), (4021, 0.0), (4034, 0.0), (4037, 0.0), (4039, 0.0), (4040, 0.0), (4041, 0.0), (4043, 0.0), (4044, 0.0), (4047, 0.0), (4057, 0.0), (4061, 0.0), (4064, 0.0), (4065, 0.0), (4071, 0.0), (4072, 0.0), (4076, 0.0), (4077, 0.0), (4078, 0.0), (4084, 0.0), (4090, 0.0), (4091, 0.0), (4099, 0.0), (4100, 0.0), (4103, 0.0), (4106, 0.0), (4112, 0.0), (4115, 0.0), (4119, 0.0), (4120, 0.0), (4127, 0.0), (4131, 0.0), (4134, 0.0), (4146, 0.0), (4149, 0.0), (4157, 0.0), (4162, 0.0), (4166, 0.0), (4167, 0.0), (4168, 0.0), (4180, 0.0), (4181, 0.0), (4185, 0.0), (4188, 0.0), (4190, 0.0), (4191, 0.0), (4194, 0.0), (4195, 0.0), (4196, 0.0), (4201, 0.0), (4208, 0.0), (4210, 0.0), (4211, 0.0), (4212, 0.0), (4219, 0.0), (4223, 0.0), (4224, 0.0), (4229, 0.0), (4234, 0.0), (4236, 0.0), (4238, 0.0), (4239, 0.0), (4241, 0.0), (4248, 0.0), (4250, 0.0), (4251, 0.0), (4258, 0.0), (4260, 0.0), (4264, 0.0), (4270, 0.0), (4272, 0.0), (4276, 0.0), (4278, 0.0), (4279, 0.0), (4285, 0.0), (4290, 0.0), (4294, 0.0), (4297, 0.0), (4302, 0.0), (4303, 0.0), (4305, 0.0), (4312, 0.0), (4313, 0.0), (4314, 0.0), (4315, 0.0), (4316, 0.0), (4317, 0.0), (4319, 0.0), (4322, 0.0), (4323, 0.0), (4328, 0.0), (4331, 0.0), (4332, 0.0), (4338, 0.0), (4339, 0.0), (4342, 0.0), (4346, 0.0), (4347, 0.0), (4351, 0.0), (4352, 0.0), (4358, 0.0), (4360, 0.0), (4364, 0.0), (4365, 0.0), (4367, 0.0), (4370, 0.0), (4372, 0.0), (4373, 0.0), (4375, 0.0), (4376, 0.0), (4378, 0.0), (4383, 0.0), (4384, 0.0), (4385, 0.0), (4393, 0.0), (4405, 0.0), (4406, 0.0), (4408, 0.0), (4413, 0.0), (4414, 0.0), (4415, 0.0), (4417, 0.0), (4421, 0.0), (4425, 0.0), (4426, 0.0), (4439, 0.0), (4441, 0.0), (4447, 0.0), (4449, 0.0), (4451, 0.0), (4452, 0.0), (4454, 0.0), (4455, 0.0), (4457, 0.0), (4459, 0.0), (4462, 0.0), (4463, 0.0), (4464, 0.0), (4467, 0.0), (4480, 0.0), (4483, 0.0), (4491, 0.0), (4492, 0.0), (4493, 0.0), (4496, 0.0), (4500, 0.0), (4506, 0.0), (4508, 0.0), (4509, 0.0), (4513, 0.0), (4514, 0.0), (4519, 0.0), (4524, 0.0), (4525, 0.0), (4526, 0.0), (4527, 0.0), (4537, 0.0), (4539, 0.0), (4541, 0.0), (4548, 0.0), (4552, 0.0), (4558, 0.0), (4559, 0.0), (4560, 0.0), (4561, 0.0), (4564, 0.0), (4565, 0.0), (4568, 0.0), (4570, 0.0), (4577, 0.0), (4578, 0.0), (4585, 0.0), (4586, 0.0), (4588, 0.0), (4592, 0.0), (4595, 0.0), (4596, 0.0), (4597, 0.0), (4609, 0.0), (4613, 0.0), (4615, 0.0), (4618, 0.0), (4621, 0.0), (4622, 0.0), (4630, 0.0), (4631, 0.0), (4635, 0.0), (4642, 0.0), (4644, 0.0), (4645, 0.0), (4646, 0.0), (4647, 0.0), (4654, 0.0), (4655, 0.0), (4662, 0.0), (4665, 0.0), (4666, 0.0), (4667, 0.0), (4671, 0.0), (4672, 0.0), (4675, 0.0), (4676, 0.0), (4678, 0.0), (4681, 0.0), (4688, 0.0), (4689, 0.0), (4691, 0.0), (4697, 0.0), (4698, 0.0), (4700, 0.0), (4702, 0.0), (4703, 0.0), (4711, 0.0), (4714, 0.0), (4716, 0.0), (4728, 0.0), (4730, 0.0), (4737, 0.0), (4738, 0.0), (4741, 0.0), (4742, 0.0), (4745, 0.0), (4746, 0.0), (4750, 0.0), (4751, 0.0), (4754, 0.0), (4755, 0.0), (4758, 0.0)]\n"
          ]
        }
      ]
    },
    {
      "cell_type": "code",
      "source": [
        "#print the name of similar movies based on the index\n",
        "print('Top 30 Movies Suggested for You : \\n')\n",
        "\n",
        "i=1\n",
        "\n",
        "for movie in sorted_similar_movies:\n",
        "  index = movie[0]\n",
        "  title_from_index = df[df.index==index]['Movie_Title'].values[0]\n",
        "  if (i<31):\n",
        "    print(i, '.',title_from_index)\n",
        "    i+=1"
      ],
      "metadata": {
        "colab": {
          "base_uri": "https://localhost:8080/"
        },
        "id": "O1jnM9CNSzs8",
        "outputId": "f0c88e99-54cf-4051-a398-4255e006a740"
      },
      "execution_count": 32,
      "outputs": [
        {
          "output_type": "stream",
          "name": "stdout",
          "text": [
            "Top 30 Movies Suggested for You : \n",
            "\n",
            "1 . Dancer in the Dark\n",
            "2 . Manderlay\n",
            "3 . Melancholia\n",
            "4 . Concussion\n",
            "5 . The Musketeer\n",
            "6 . The Slaughter Rule\n",
            "7 . Willy Wonka & the Chocolate Factory\n",
            "8 . Grace Unplugged\n",
            "9 . The Naked Gun 2½: The Smell of Fear\n",
            "10 . Lockout\n",
            "11 . Charlie and the Chocolate Factory\n",
            "12 . The Green Mile\n",
            "13 . A Beautiful Mind\n",
            "14 . Bad Company\n",
            "15 . My Own Private Idaho\n",
            "16 . Bang Bang Baby\n",
            "17 . Being John Malkovich\n",
            "18 . Bee Movie\n",
            "19 . Raise Your Voice\n",
            "20 . Proof of Life\n",
            "21 . The Return of the Pink Panther\n",
            "22 . The Girl on the Train\n",
            "23 . 8 Women\n",
            "24 . O Brother, Where Art Thou?\n",
            "25 . March or Die\n",
            "26 . Across the Universe\n",
            "27 . Oculus\n",
            "28 . Crazy in Alabama\n",
            "29 . Pocketful of Miracles\n",
            "30 . Fantasia\n"
          ]
        }
      ]
    },
    {
      "cell_type": "markdown",
      "source": [
        "**Top 10 Movie Recommendation System**"
      ],
      "metadata": {
        "id": "OikvhRD3T5Ne"
      }
    },
    {
      "cell_type": "code",
      "source": [
        "from os import close\n",
        "Movie_name = input('Enter your favourite movie name : ')\n",
        "list_of_all_titles = df['Movie_Title'].tolist()\n",
        "find_close_match = difflib.get_close_matches(Movie_name, list_of_all_titles)\n",
        "close_match = find_close_match[0]\n",
        "index_of_movie = df[df.Movie_Title == close_match]['Movie_ID'].values[0]\n",
        "Recommendation_Score = list(enumerate(Similarity_Score[index_of_movie]))\n",
        "sorted_similar_movies = sorted(Recommendation_Score, key = lambda x:x[1], reverse=True)\n",
        "print('Top 10 Movies Suggested for You : \\n')\n",
        "\n",
        "i=1\n",
        "for movie in sorted_similar_movies:\n",
        "  index = movie[0]\n",
        "  title_from_index = df[df.Movie_ID==index]['Movie_Title'].values\n",
        "  if (i<11):\n",
        "    print(i, '.',title_from_index)\n",
        "    i+=1"
      ],
      "metadata": {
        "colab": {
          "base_uri": "https://localhost:8080/"
        },
        "id": "9J8FkK2WUBo3",
        "outputId": "7ee9e7ac-2d9c-40d5-dd6a-9c62da98958b"
      },
      "execution_count": 33,
      "outputs": [
        {
          "output_type": "stream",
          "name": "stdout",
          "text": [
            "Enter your favourite movie name : Four Rooms\n",
            "Top 10 Movies Suggested for You : \n",
            "\n",
            "1 . ['Four Rooms']\n",
            "2 . ['Marie Antoinette']\n",
            "3 . ['The Empire Strikes Back']\n",
            "4 . ['You Only Live Twice']\n",
            "5 . ['Tropic Thunder']\n",
            "6 . ['Return of the Jedi']\n",
            "7 . ['She Done Him Wrong']\n",
            "8 . ['Star Wars: Episode II - Attack of the Clones']\n",
            "9 . ['Evita']\n",
            "10 . ['Lethal Weapon 4']\n"
          ]
        }
      ]
    }
  ]
}